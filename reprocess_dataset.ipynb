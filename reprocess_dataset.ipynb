{
 "cells": [
  {
   "cell_type": "code",
   "execution_count": 22,
   "id": "1c142d1d-5b3f-44e1-ab73-a5e59784b600",
   "metadata": {},
   "outputs": [],
   "source": [
    "from pathlib import Path"
   ]
  },
  {
   "cell_type": "code",
   "execution_count": 23,
   "id": "9d83db63-19f3-45d3-b07b-8eed085603a5",
   "metadata": {},
   "outputs": [],
   "source": [
    "# The <think> formatting seems to have been messed up,\n",
    "# since this is where the API's prompt and the user response intersect.\n",
    "files = Path(\"./responses\").glob(\"*.txt\")\n",
    "\n",
    "for file in files:\n",
    "    file.write_text(file.read_text().replace(\"<think>\\n<think>\", \"\\n<think>\"))"
   ]
  },
  {
   "cell_type": "code",
   "execution_count": 24,
   "id": "67f2fa64-54c0-4e8e-9003-4df2bac385bd",
   "metadata": {},
   "outputs": [],
   "source": [
    "import torch as t"
   ]
  },
  {
   "cell_type": "code",
   "execution_count": 35,
   "id": "28ab8621-8623-4326-9309-21dbc77ad5fc",
   "metadata": {},
   "outputs": [],
   "source": [
    "a = t.ones(5, 512, dtype=t.long)"
   ]
  },
  {
   "cell_type": "code",
   "execution_count": 50,
   "id": "e283dea7-d238-4533-8608-42dbae2c3204",
   "metadata": {},
   "outputs": [],
   "source": [
    "b = t.tensor([1, 2, 3, 4, 5]).unsqueeze(-1)"
   ]
  },
  {
   "cell_type": "code",
   "execution_count": 44,
   "id": "6eb7bec4-4be9-4285-a601-3dc7fb3a8072",
   "metadata": {},
   "outputs": [
    {
     "data": {
      "text/plain": [
       "torch.Size([512, 5])"
      ]
     },
     "execution_count": 44,
     "metadata": {},
     "output_type": "execute_result"
    }
   ],
   "source": [
    "(a.T * b).shape"
   ]
  },
  {
   "cell_type": "code",
   "execution_count": 54,
   "id": "b1e1b537-42f7-45ed-a235-9c9a4dcec809",
   "metadata": {},
   "outputs": [
    {
     "data": {
      "text/plain": [
       "torch.Size([5, 512])"
      ]
     },
     "execution_count": 54,
     "metadata": {},
     "output_type": "execute_result"
    }
   ],
   "source": [
    "b.repeat(1, 512).shape"
   ]
  },
  {
   "cell_type": "code",
   "execution_count": 66,
   "id": "0f09f6a7-452a-4a26-ae1e-aba7eb96d44b",
   "metadata": {},
   "outputs": [],
   "source": [
    "logits = t.ones(2, 995, 10)"
   ]
  },
  {
   "cell_type": "code",
   "execution_count": 67,
   "id": "b7cea6f0-e00a-492b-8e37-2cc01e02f838",
   "metadata": {},
   "outputs": [],
   "source": [
    "labels = t.tensor([2, 3]).unsqueeze(-1).repeat(1, 995)"
   ]
  },
  {
   "cell_type": "code",
   "execution_count": 68,
   "id": "23cd80f2-2687-4731-885a-4838099caebf",
   "metadata": {},
   "outputs": [],
   "source": [
    "c = t.nn.CrossEntropyLoss()"
   ]
  },
  {
   "cell_type": "code",
   "execution_count": 69,
   "id": "303bf921-7eac-428f-ae7e-b40abdf5ab27",
   "metadata": {},
   "outputs": [
    {
     "data": {
      "text/plain": [
       "tensor(2.3026)"
      ]
     },
     "execution_count": 69,
     "metadata": {},
     "output_type": "execute_result"
    }
   ],
   "source": [
    "c(logits.flatten(0, 1), labels.flatten(0, 1))"
   ]
  },
  {
   "cell_type": "code",
   "execution_count": 70,
   "id": "fbf98f84-d53c-451e-ac22-65a2eebe47f3",
   "metadata": {},
   "outputs": [
    {
     "ename": "NameError",
     "evalue": "name 'df' is not defined",
     "output_type": "error",
     "traceback": [
      "\u001b[0;31m---------------------------------------------------------------------------\u001b[0m",
      "\u001b[0;31mNameError\u001b[0m                                 Traceback (most recent call last)",
      "Cell \u001b[0;32mIn[70], line 1\u001b[0m\n\u001b[0;32m----> 1\u001b[0m \u001b[43mdf\u001b[49m\n",
      "\u001b[0;31mNameError\u001b[0m: name 'df' is not defined"
     ]
    }
   ],
   "source": [
    "df"
   ]
  },
  {
   "cell_type": "code",
   "execution_count": null,
   "id": "8104b60b-4d92-4499-8c1d-4882948bef4e",
   "metadata": {},
   "outputs": [],
   "source": []
  }
 ],
 "metadata": {
  "kernelspec": {
   "display_name": "Python 3 (ipykernel)",
   "language": "python",
   "name": "python3"
  },
  "language_info": {
   "codemirror_mode": {
    "name": "ipython",
    "version": 3
   },
   "file_extension": ".py",
   "mimetype": "text/x-python",
   "name": "python",
   "nbconvert_exporter": "python",
   "pygments_lexer": "ipython3",
   "version": "3.12.3"
  }
 },
 "nbformat": 4,
 "nbformat_minor": 5
}
