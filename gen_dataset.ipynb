{
 "cells": [
  {
   "cell_type": "code",
   "execution_count": 1,
   "id": "41c64ff5-0b2d-41a6-9a84-f5897a664e79",
   "metadata": {},
   "outputs": [],
   "source": [
    "from datasets import load_dataset\n",
    "from prompting import gen_prompt\n",
    "\n",
    "ds = load_dataset(\"TIGER-Lab/MMLU-Pro\")"
   ]
  },
  {
   "cell_type": "code",
   "execution_count": 2,
   "id": "706b7a31-f579-4d5d-bd7a-6a90aaa69fab",
   "metadata": {},
   "outputs": [],
   "source": [
    "from transformers import AutoTokenizer\n",
    "\n",
    "model = \"deepseek-ai/DeepSeek-R1-Distill-Llama-70B-free\"\n",
    "# \"deepseek-ai/DeepSeek-R1-Distill-Qwen-1.5B\"\n",
    "\n",
    "tokenizer = AutoTokenizer.from_pretrained(model.replace(\"-free\", \"\"))"
   ]
  },
  {
   "cell_type": "code",
   "execution_count": 3,
   "id": "e5afe9e7-c7eb-444b-a063-f69155207685",
   "metadata": {},
   "outputs": [],
   "source": [
    "example_question = gen_prompt(ds['test'][0])\n",
    "\n",
    "example_text = r\"\"\"Please answer the following multiple choice question. After thinking, respond directly with the letter of your answer.\n",
    "\n",
    "Question:\n",
    "The symmetric group $S_n$ has $\n",
    "\\factorial{n}$ elements, hence it is not true that $S_{10}$ has 10 elements.\n",
    "Find the characteristic of the ring 2Z.\n",
    "\n",
    "Options:\n",
    "A:  0\n",
    "B: 30\n",
    "C: 3\n",
    "D: 10\n",
    "E: 12\n",
    "F: 50\n",
    "G: 2\n",
    "H: 100\n",
    "I: 20\n",
    "J: 5\n",
    "\n",
    "Okay, so I need to find the characteristic of the ring 2Z. Let me recall what the characteristic of a ring is. The characteristic is the smallest positive integer n such that n times the multiplicative identity equals zero. If no such n exists, the characteristic is zero. But wait, 2Z is the ring of even integers under addition and multiplication. Hmm, but 2Z doesn't have a multiplicative identity element, right? Because in the integers Z, the multiplicative identity is 1, but 1 isn't in 2Z. So if the ring doesn't have a multiplicative identity, how does the characteristic work here?\n",
    "\n",
    "Wait, the definition of characteristic for a ring might not require the existence of a multiplicative identity. Let me check. Oh right, for a ring without unity, the characteristic is defined as the smallest positive integer n such that n*a = 0 for all elements a in the ring. If no such n exists, then the characteristic is 0. So even if there's no 1 in the ring, we can still determine the characteristic by seeing if there's a common n that annihilates all elements when multiplied by n.\n",
    "\n",
    "So for 2Z, let's see. Take any element a in 2Z. So a is an even integer, say a = 2k for some integer k. Then n*a would be n*(2k) = 2k*n. For this to be zero for all k, we need 2kn = 0 for all k. But since we're dealing with integers (not modulo anything), the only way this can happen is if n is zero. Wait, but in the integers, there's no positive integer n such that multiplying by n gives zero. So even for 2Z, which is a subset of Z, there's no positive integer n where n*a =0 for all a in 2Z. Because, for example, take a=2. Then n*2=0 would imply n=0, but n has to be positive. So there's no such n, which means the characteristic is zero. Therefore, the answer should be option A: 0.\n",
    "\n",
    "But wait, I should double-check. Maybe I'm confusing additive order with the ring's characteristic. The characteristic is the smallest positive integer n such that n*1=0 in the ring. But since 2Z doesn't have 1, does that matter? So in rings without unity, the definition uses the additive order. Alternatively, if all elements of the ring have additive order dividing n, then the characteristic is the least such n. If there's no such n, then it's 0. Since 2Z is a subset of Z, and Z has characteristic 0, maybe 2Z also has characteristic 0. Because adding 2 to itself n times would be 2n. For 2n=0, n must be 0, which isn't allowed. So yes, the characteristic is 0. So the answer is A.\n",
    "\n",
    "The characteristic of a ring is the smallest positive integer nn such that n⋅a=0n⋅a=0 for all elements aa in the ring. If no such nn exists, the characteristic is 00. The ring 2Z2Z, consisting of all even integers, does not have a multiplicative identity. However, the characteristic is determined by the additive structure. For any element a∈2Za∈2Z, a=2ka=2k where k∈Zk∈Z. Multiplying aa by a positive integer nn gives n⋅a=2knn⋅a=2kn, which equals 00 only if n=0n=0. Since nn must be positive and no such nn annihilates all elements in 2Z2Z, the characteristic is 00.\n",
    "\n",
    "Answer: A: 0\"\"\""
   ]
  },
  {
   "cell_type": "code",
   "execution_count": 4,
   "id": "fe635aa4-5c94-423e-ad2e-a25475fb8716",
   "metadata": {},
   "outputs": [
    {
     "data": {
      "text/plain": [
       "924"
      ]
     },
     "execution_count": 4,
     "metadata": {},
     "output_type": "execute_result"
    }
   ],
   "source": [
    "tokens = tokenizer(example_text)\n",
    "len(tokens['input_ids'])"
   ]
  },
  {
   "cell_type": "markdown",
   "id": "c82d4ad4-1491-456d-87ca-5b4967768b0d",
   "metadata": {},
   "source": [
    "Try async with exponential backoff"
   ]
  },
  {
   "cell_type": "code",
   "execution_count": 5,
   "id": "80f02aba-3cd5-45f5-98e5-57deeb7e19c0",
   "metadata": {
    "scrolled": true
   },
   "outputs": [],
   "source": [
    "import os\n",
    "import asyncio\n",
    "import random\n",
    "import uuid\n",
    "from pathlib import Path\n",
    "from typing import List, Any\n",
    "from together import AsyncTogether\n",
    "\n",
    "async_client = AsyncTogether()\n",
    "messages = [\n",
    "    \"What are the top things to do in San Francisco?\",\n",
    "    \"What country is Paris in?\",\n",
    "] * 10\n",
    "\n",
    "# Configuration for exponential backoff\n",
    "MAX_RETRIES = 6\n",
    "BASE_DELAY = 1  # starting delay in seconds\n",
    "MAX_DELAY = 60 * 5  # maximum delay in seconds\n",
    "JITTER_FACTOR = 0.1  # adds randomness to avoid thundering herd problem\n",
    "\n",
    "async def with_exponential_backoff(task_func, *args, **kwargs):\n",
    "    \"\"\"Execute a task with exponential backoff on rate limit errors.\"\"\"\n",
    "    retries = 0\n",
    "\n",
    "    while True:\n",
    "        try:\n",
    "            print(f\"Querying API\")\n",
    "            return await task_func(*args, **kwargs)\n",
    "        except Exception as e:\n",
    "            # Check if it's a rate limit error (429)\n",
    "            is_rate_limit = hasattr(e, 'status_code') and e.status_code == 429\n",
    "            is_overloaded = hasattr(e, 'status_code') and e.status_code == 503\n",
    "            \n",
    "            if not (is_rate_limit or is_overloaded) or retries >= MAX_RETRIES:\n",
    "                # If not a rate limit error or max retries reached, re-raise\n",
    "                raise\n",
    "            \n",
    "            # Calculate delay with exponential backoff and jitter\n",
    "            delay = min(MAX_DELAY, BASE_DELAY * (2 ** retries))\n",
    "            # Add jitter (± 10% randomness)\n",
    "            jitter = delay * JITTER_FACTOR\n",
    "            delay = delay + random.uniform(-jitter, jitter)\n",
    "            \n",
    "            print(f\"Rate limited. Retrying in {delay:.2f} seconds (retry {retries + 1}/{MAX_RETRIES})...\")\n",
    "            await asyncio.sleep(delay)\n",
    "            retries += 1\n",
    "\n",
    "async def make_chat_completion(message: str) -> Any:\n",
    "    \"\"\"Make a single chat completion with retry logic.\"\"\"\n",
    "    response = await with_exponential_backoff(\n",
    "        async_client.chat.completions.create,\n",
    "        model=model,\n",
    "        temperature=0.6, # Default temperature seems to lead to loops\n",
    "        messages=[{\"role\": \"user\", \"content\": message}],\n",
    "    )\n",
    "\n",
    "    # Concatenate the initial prompt and the response\n",
    "    text = message + response.choices[0].message.content\n",
    "\n",
    "    # save this to a file\n",
    "    folder = Path().cwd() / f\"responses-{model.replace('/', '-')}\"\n",
    "    folder.mkdir(exist_ok=True)\n",
    "    filepath = folder / f\"{uuid.uuid4()}.txt\"\n",
    "    filepath.write_text(text)\n",
    "\n",
    "    # return the response\n",
    "    return response\n",
    "\n",
    "async def async_chat_completion(messages: List[str], stagger_delay: float = 1.0):\n",
    "    \"\"\"Process multiple chat completions with concurrency control.\"\"\"\n",
    "    # Create tasks with retries\n",
    "    tasks = []\n",
    "\n",
    "    # Create tasks one at a time with staggered starts\n",
    "    for i, message in enumerate(messages):\n",
    "        print(f\"Starting request {i+1}/{len(messages)}...\")\n",
    "        \n",
    "        # Create the task and add it to our list\n",
    "        task = asyncio.create_task(make_chat_completion(message))\n",
    "        tasks.append(task)\n",
    "        \n",
    "        # Wait before starting the next one to achieve true staggering\n",
    "        if i < len(messages) - 1:  # No need to wait after the last message\n",
    "            await asyncio.sleep(stagger_delay)\n",
    "    \n",
    "    # Use gather to run concurrently\n",
    "    responses = await asyncio.gather(*tasks, return_exceptions=True)\n",
    "    \n",
    "    # Process responses\n",
    "    for i, response in enumerate(responses):\n",
    "        if isinstance(response, Exception):\n",
    "            print(f\"Request {i+1} failed after all retries: {str(response)}\")\n",
    "        else:\n",
    "            print(f\"Request {i+1} succeeded:\")\n",
    "            print(response.choices[0].message.content)\n",
    "            print(\"-\" * 50)\n",
    "\n",
    "    return responses\n",
    "\n",
    "from time import time\n",
    "\n",
    "# start = time()\n",
    "# await async_chat_completion(messages, stagger_delay=1 / RATE_LIMIT)\n",
    "# end = time()\n",
    "\n",
    "# print(f\"Took {end - start} seconds\")\n"
   ]
  },
  {
   "cell_type": "code",
   "execution_count": null,
   "id": "ad0e0fca-4461-439f-bd41-8da4bebb879c",
   "metadata": {
    "scrolled": true
   },
   "outputs": [
    {
     "name": "stdout",
     "output_type": "stream",
     "text": [
      "Starting request 1/11567...\n",
      "Querying API\n",
      "Starting request 2/11567...\n",
      "Querying API\n",
      "Starting request 3/11567...\n",
      "Querying API\n",
      "Starting request 4/11567...\n",
      "Querying API\n",
      "Starting request 5/11567...\n",
      "Querying API\n",
      "Starting request 6/11567...\n",
      "Querying API\n",
      "Starting request 7/11567...\n",
      "Querying API\n",
      "Starting request 8/11567...\n",
      "Querying API\n",
      "Starting request 9/11567...\n",
      "Querying API\n",
      "Starting request 10/11567...\n",
      "Querying API\n",
      "Starting request 11/11567...\n",
      "Querying API\n",
      "Starting request 12/11567...\n",
      "Querying API\n",
      "Starting request 13/11567...\n",
      "Querying API\n",
      "Starting request 14/11567...\n",
      "Querying API\n",
      "Starting request 15/11567...\n",
      "Querying API\n",
      "Starting request 16/11567...\n",
      "Querying API\n",
      "Starting request 17/11567...\n",
      "Querying API\n",
      "Starting request 18/11567...\n",
      "Querying API\n",
      "Starting request 19/11567...\n",
      "Querying API\n",
      "Starting request 20/11567...\n",
      "Querying API\n",
      "Starting request 21/11567...\n",
      "Querying API\n",
      "Starting request 22/11567...\n",
      "Querying API\n",
      "Starting request 23/11567...\n",
      "Querying API\n",
      "Starting request 24/11567...\n",
      "Querying API\n",
      "Starting request 25/11567...\n",
      "Querying API\n",
      "Starting request 26/11567...\n",
      "Querying API\n",
      "Starting request 27/11567...\n",
      "Querying API\n",
      "Starting request 28/11567...\n",
      "Querying API\n",
      "Starting request 29/11567...\n",
      "Querying API\n",
      "Starting request 30/11567...\n",
      "Querying API\n",
      "Starting request 31/11567...\n",
      "Querying API\n",
      "Starting request 32/11567...\n",
      "Querying API\n",
      "Starting request 33/11567...\n",
      "Querying API\n",
      "Starting request 34/11567...\n",
      "Querying API\n",
      "Starting request 35/11567...\n",
      "Querying API\n",
      "Starting request 36/11567...\n",
      "Querying API\n",
      "Starting request 37/11567...\n",
      "Querying API\n",
      "Starting request 38/11567...\n",
      "Querying API\n",
      "Starting request 39/11567...\n",
      "Querying API\n",
      "Starting request 40/11567...\n",
      "Querying API\n",
      "Starting request 41/11567...\n",
      "Querying API\n",
      "Starting request 42/11567...\n",
      "Querying API\n"
     ]
    }
   ],
   "source": [
    "RATE_LIMIT = 8.0 / 60 # queries per minute\n",
    "\n",
    "start = time()\n",
    "res = await async_chat_completion(\n",
    "    [\n",
    "        gen_prompt(ds['test'][i])\n",
    "        for i in range(465, len(ds['test']))\n",
    "    ], \n",
    "    stagger_delay=1/RATE_LIMIT,\n",
    ")\n",
    "end = time()\n",
    "\n",
    "print(f\"Took {end - start} seconds.\")\n",
    "res"
   ]
  },
  {
   "cell_type": "code",
   "execution_count": 38,
   "id": "c939bd6b-6336-4e64-b78b-40c89d8c9a55",
   "metadata": {},
   "outputs": [
    {
     "data": {
      "text/plain": [
       "str"
      ]
     },
     "execution_count": 38,
     "metadata": {},
     "output_type": "execute_result"
    }
   ],
   "source": [
    "type(res[0].choices[0].message.content)"
   ]
  },
  {
   "cell_type": "code",
   "execution_count": 43,
   "id": "ab3005ac-13c2-4c8b-b5a9-2f7c6f2a9425",
   "metadata": {},
   "outputs": [
    {
     "ename": "NameError",
     "evalue": "name '__dir__' is not defined",
     "output_type": "error",
     "traceback": [
      "\u001b[0;31m---------------------------------------------------------------------------\u001b[0m",
      "\u001b[0;31mNameError\u001b[0m                                 Traceback (most recent call last)",
      "Cell \u001b[0;32mIn[43], line 2\u001b[0m\n\u001b[1;32m      1\u001b[0m \u001b[38;5;28;01mfrom\u001b[39;00m\u001b[38;5;250m \u001b[39m\u001b[38;5;21;01mpathlib\u001b[39;00m\u001b[38;5;250m \u001b[39m\u001b[38;5;28;01mimport\u001b[39;00m Path\n\u001b[0;32m----> 2\u001b[0m Path(\u001b[38;5;21;43m__dir__\u001b[39;49m)\n",
      "\u001b[0;31mNameError\u001b[0m: name '__dir__' is not defined"
     ]
    }
   ],
   "source": [
    "from pathlib import Path\n",
    "Path(__dir__)"
   ]
  },
  {
   "cell_type": "code",
   "execution_count": 44,
   "id": "35b8758b-3a53-4e9c-ac46-b8aa6010c7db",
   "metadata": {},
   "outputs": [
    {
     "data": {
      "text/plain": [
       "PosixPath('/home/will/src/ai/mats')"
      ]
     },
     "execution_count": 44,
     "metadata": {},
     "output_type": "execute_result"
    }
   ],
   "source": []
  },
  {
   "cell_type": "code",
   "execution_count": 48,
   "id": "df7e6a4d-c64b-44bc-ad8a-865054d04913",
   "metadata": {},
   "outputs": [
    {
     "data": {
      "text/plain": [
       "4"
      ]
     },
     "execution_count": 48,
     "metadata": {},
     "output_type": "execute_result"
    }
   ],
   "source": [
    "import uuid\n"
   ]
  },
  {
   "cell_type": "code",
   "execution_count": 54,
   "id": "0d6dc9af-be29-4276-ac75-e9e0ec413080",
   "metadata": {},
   "outputs": [
    {
     "data": {
      "text/plain": [
       "12032"
      ]
     },
     "execution_count": 54,
     "metadata": {},
     "output_type": "execute_result"
    }
   ],
   "source": [
    "len(ds['test'])"
   ]
  },
  {
   "cell_type": "code",
   "execution_count": null,
   "id": "f5d12eee-87d1-4acc-8448-789bca80466e",
   "metadata": {},
   "outputs": [],
   "source": []
  }
 ],
 "metadata": {
  "kernelspec": {
   "display_name": "Python 3 (ipykernel)",
   "language": "python",
   "name": "python3"
  },
  "language_info": {
   "codemirror_mode": {
    "name": "ipython",
    "version": 3
   },
   "file_extension": ".py",
   "mimetype": "text/x-python",
   "name": "python",
   "nbconvert_exporter": "python",
   "pygments_lexer": "ipython3",
   "version": "3.12.3"
  }
 },
 "nbformat": 4,
 "nbformat_minor": 5
}
