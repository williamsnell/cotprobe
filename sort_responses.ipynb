{
 "cells": [
  {
   "cell_type": "code",
   "execution_count": 2,
   "id": "4e9d7608-ebec-44e9-918b-7be2c7ec04a0",
   "metadata": {},
   "outputs": [],
   "source": [
    "from pathlib import Path\n",
    "import polars as rs"
   ]
  },
  {
   "cell_type": "code",
   "execution_count": 27,
   "id": "d9173354-16d8-4290-9356-e71367f52547",
   "metadata": {},
   "outputs": [],
   "source": [
    "files = Path(\"./responses\").glob(\"*.txt\")\n",
    "\n",
    "responses = {str(file).replace(\"responses/\", \"\").replace(\".txt\", \"\"): {\"text\": file.read_text()} for file in files}\n"
   ]
  },
  {
   "cell_type": "markdown",
   "id": "fce8844c-4211-47ec-9931-887e7d271ebe",
   "metadata": {},
   "source": [
    "Label the responses with the returned answer. Delete anything we can't easily extract an answer from."
   ]
  },
  {
   "cell_type": "code",
   "execution_count": 28,
   "id": "f0984f01-488c-47db-b553-25e970603dea",
   "metadata": {
    "scrolled": true
   },
   "outputs": [
    {
     "name": "stdout",
     "output_type": "stream",
     "text": [
      "------------------------------\n",
      "\n",
      "H: transverse waves\n",
      "------------------------------\n",
      "------------------------------\n",
      "l Answer:\n",
      "A: 1.00002\n",
      "------------------------------\n",
      "------------------------------\n",
      "e.\n",
      "\n",
      "Answer:\n",
      "A: Valid\n",
      "------------------------------\n",
      "------------------------------\n",
      " is:\n",
      "\n",
      "**E: 200 m/s**\n",
      "------------------------------\n",
      "------------------------------\n",
      "think> ( ( ( ( ( ( (\n",
      "------------------------------\n",
      "------------------------------\n",
      ": 490.0**.\n",
      "\n",
      "H: 490.0\n",
      "------------------------------\n",
      "------------------------------\n",
      "wer is J.\n",
      "\n",
      "J: 30 m/s\n",
      "------------------------------\n",
      "------------------------------\n",
      "F: parathyroid gland\n",
      "------------------------------\n",
      "------------------------------\n",
      "and 1.13 slugs/sec**\n",
      "------------------------------\n",
      "------------------------------\n",
      "\n",
      "\n",
      "**Answer: B: 50%**\n",
      "------------------------------\n",
      "------------------------------\n",
      "ts.\n",
      "\n",
      "Answer: H\n",
      "\n",
      "H: 9\n",
      "------------------------------\n",
      "------------------------------\n",
      ".\n",
      "\n",
      "F: Durable goods.\n",
      "------------------------------\n",
      "------------------------------\n",
      "is:\n",
      "\n",
      "\\[\n",
      "\\boxed{E}\n",
      "\\]\n",
      "------------------------------\n",
      "------------------------------\n",
      "**.\n",
      "\n",
      "\\[\n",
      "\\boxed{D}\n",
      "\\]\n",
      "------------------------------\n",
      "------------------------------\n",
      "\n",
      "\n",
      "F: 5.9  \n",
      "\\boxed{F}\n",
      "------------------------------\n",
      "------------------------------\n",
      "  \n",
      "(b) \\(\\boxed{I}\\)\n",
      "------------------------------\n",
      "------------------------------\n",
      "linder.\n",
      "\n",
      "I: cylinder\n",
      "------------------------------\n",
      "------------------------------\n",
      ": $1.22**\n",
      "\n",
      "\\boxed{G}\n",
      "------------------------------\n",
      "------------------------------\n",
      " E**\n",
      "\n",
      "E: True, False\n",
      "------------------------------\n",
      "------------------------------\n",
      " Answer:\n",
      "**D: 35 s**\n",
      "------------------------------\n",
      "------------------------------\n",
      "wer is A: Diagnosis.\n",
      "------------------------------\n",
      "------------------------------\n",
      "**\n",
      "\n",
      "C: \\(I_f = I_o\\)\n",
      "------------------------------\n",
      "------------------------------\n",
      "**Answer: D: 70.3%**\n",
      "------------------------------\n",
      "------------------------------\n",
      "resistant to change.\n",
      "------------------------------\n",
      "------------------------------\n",
      "wer is F: 30.\n",
      "\n",
      "F: 30\n",
      "------------------------------\n",
      "------------------------------\n",
      "ion D.\n",
      "\n",
      "D: (4, 0, 0)\n",
      "------------------------------\n",
      "------------------------------\n",
      "o 3 quarts, which is\n",
      "------------------------------\n",
      "------------------------------\n",
      "swer**:  \n",
      "B: 0.24995\n",
      "------------------------------\n",
      "------------------------------\n",
      " 1.96 in. × 1.96 in.\n",
      "------------------------------\n",
      "------------------------------\n",
      "nswer is B.\n",
      "\n",
      "B: 2/81\n",
      "------------------------------\n",
      "------------------------------\n",
      "**D**.\n",
      "\n",
      "D: 4x, 10 cm\n",
      "------------------------------\n",
      "------------------------------\n",
      "ect answer is:\n",
      "\n",
      "J: 5\n",
      "------------------------------\n",
      "------------------------------\n",
      "{J} \\mathrm{K}^{-1}$\n",
      "------------------------------\n",
      "33 poorly labeled responses deleted.\n"
     ]
    }
   ],
   "source": [
    "delete_count = 0\n",
    "\n",
    "for key, response in responses.items():\n",
    "    answer = response['text'].replace(\"*\", \"\").replace(\".\", \"\").strip()[-1]\n",
    "    if answer in \"ABCDEFGHIJ\":\n",
    "        response['label'] = answer\n",
    "    else:\n",
    "        print(\"-\" * 30)\n",
    "        print(response['text'].strip()[-20:])\n",
    "        print(\"-\" * 30)\n",
    "        responses[key] = None\n",
    "        delete_count += 1\n",
    "\n",
    "filtered_responses = {k: v for k, v in responses.items() if v}\n",
    "\n",
    "print(f\"{delete_count} poorly labeled responses deleted.\")"
   ]
  },
  {
   "cell_type": "markdown",
   "id": "576b1c69-5318-42f9-817e-49c26d0eb225",
   "metadata": {},
   "source": [
    "Also add the label numerically."
   ]
  },
  {
   "cell_type": "code",
   "execution_count": 31,
   "id": "90bc6bb1-3f10-47dc-a4a8-3e8088e17312",
   "metadata": {
    "scrolled": true
   },
   "outputs": [],
   "source": [
    "for k, v in filtered_responses.items():\n",
    "    v['num_label'] = ord(v['label']) - ord(\"A\")"
   ]
  },
  {
   "cell_type": "markdown",
   "id": "1eacf3d5-ec83-4e2c-87e7-a3b08c193990",
   "metadata": {},
   "source": [
    "Reorder into a proper dataframe"
   ]
  },
  {
   "cell_type": "code",
   "execution_count": 38,
   "id": "0113182d-fab5-48ec-af5d-4d96edea1d40",
   "metadata": {},
   "outputs": [
    {
     "data": {
      "text/html": [
       "<div><style>\n",
       ".dataframe > thead > tr,\n",
       ".dataframe > tbody > tr {\n",
       "  text-align: right;\n",
       "  white-space: pre-wrap;\n",
       "}\n",
       "</style>\n",
       "<small>shape: (7_353, 4)</small><table border=\"1\" class=\"dataframe\"><thead><tr><th>uuid</th><th>text</th><th>label</th><th>numeric label</th></tr><tr><td>str</td><td>str</td><td>str</td><td>i64</td></tr></thead><tbody><tr><td>&quot;8cd2e5b4-f9fa-4977-9b62-356da9…</td><td>&quot;Answer the following multiple …</td><td>&quot;G&quot;</td><td>6</td></tr><tr><td>&quot;3753ab9c-ae45-4d8b-8d61-a391b6…</td><td>&quot;Answer the following multiple …</td><td>&quot;G&quot;</td><td>6</td></tr><tr><td>&quot;4f261530-6995-4dc0-8a87-a0e658…</td><td>&quot;Answer the following multiple …</td><td>&quot;C&quot;</td><td>2</td></tr><tr><td>&quot;eb8ba016-48f2-4491-a0e3-3f751a…</td><td>&quot;Answer the following multiple …</td><td>&quot;H&quot;</td><td>7</td></tr><tr><td>&quot;91fd60a8-ac44-428f-876b-eeeba0…</td><td>&quot;Answer the following multiple …</td><td>&quot;F&quot;</td><td>5</td></tr><tr><td>&hellip;</td><td>&hellip;</td><td>&hellip;</td><td>&hellip;</td></tr><tr><td>&quot;9c31039f-a3e5-4100-8dce-a4e2a1…</td><td>&quot;Answer the following multiple …</td><td>&quot;A&quot;</td><td>0</td></tr><tr><td>&quot;ec5b25bf-64fc-4e76-909a-b43920…</td><td>&quot;Answer the following multiple …</td><td>&quot;C&quot;</td><td>2</td></tr><tr><td>&quot;95663208-b120-4973-9db2-dfad71…</td><td>&quot;Answer the following multiple …</td><td>&quot;B&quot;</td><td>1</td></tr><tr><td>&quot;b797003d-cf86-4c25-b556-1aca07…</td><td>&quot;Answer the following multiple …</td><td>&quot;J&quot;</td><td>9</td></tr><tr><td>&quot;cb0a244e-95e5-4162-8f54-edd5a3…</td><td>&quot;Answer the following multiple …</td><td>&quot;I&quot;</td><td>8</td></tr></tbody></table></div>"
      ],
      "text/plain": [
       "shape: (7_353, 4)\n",
       "┌─────────────────────────────────┬─────────────────────────────────┬───────┬───────────────┐\n",
       "│ uuid                            ┆ text                            ┆ label ┆ numeric label │\n",
       "│ ---                             ┆ ---                             ┆ ---   ┆ ---           │\n",
       "│ str                             ┆ str                             ┆ str   ┆ i64           │\n",
       "╞═════════════════════════════════╪═════════════════════════════════╪═══════╪═══════════════╡\n",
       "│ 8cd2e5b4-f9fa-4977-9b62-356da9… ┆ Answer the following multiple … ┆ G     ┆ 6             │\n",
       "│ 3753ab9c-ae45-4d8b-8d61-a391b6… ┆ Answer the following multiple … ┆ G     ┆ 6             │\n",
       "│ 4f261530-6995-4dc0-8a87-a0e658… ┆ Answer the following multiple … ┆ C     ┆ 2             │\n",
       "│ eb8ba016-48f2-4491-a0e3-3f751a… ┆ Answer the following multiple … ┆ H     ┆ 7             │\n",
       "│ 91fd60a8-ac44-428f-876b-eeeba0… ┆ Answer the following multiple … ┆ F     ┆ 5             │\n",
       "│ …                               ┆ …                               ┆ …     ┆ …             │\n",
       "│ 9c31039f-a3e5-4100-8dce-a4e2a1… ┆ Answer the following multiple … ┆ A     ┆ 0             │\n",
       "│ ec5b25bf-64fc-4e76-909a-b43920… ┆ Answer the following multiple … ┆ C     ┆ 2             │\n",
       "│ 95663208-b120-4973-9db2-dfad71… ┆ Answer the following multiple … ┆ B     ┆ 1             │\n",
       "│ b797003d-cf86-4c25-b556-1aca07… ┆ Answer the following multiple … ┆ J     ┆ 9             │\n",
       "│ cb0a244e-95e5-4162-8f54-edd5a3… ┆ Answer the following multiple … ┆ I     ┆ 8             │\n",
       "└─────────────────────────────────┴─────────────────────────────────┴───────┴───────────────┘"
      ]
     },
     "execution_count": 38,
     "metadata": {},
     "output_type": "execute_result"
    }
   ],
   "source": [
    "structured_responses = {\"uuid\": [], \"text\": [], \"label\": [], \"numeric label\": []}\n",
    "\n",
    "for uid, response in filtered_responses.items():\n",
    "    structured_responses['uuid'] += [uid]\n",
    "    structured_responses['text'] += [response['text']]\n",
    "    structured_responses['label'] += [response['label']]\n",
    "    structured_responses['numeric label'] += [response['num_label']]\n",
    "    \n",
    "\n",
    "\n",
    "df = rs.from_dict(structured_responses)\n",
    "df"
   ]
  },
  {
   "cell_type": "code",
   "execution_count": 42,
   "id": "f76cf031-7049-4027-8385-2fb71fcc36cd",
   "metadata": {},
   "outputs": [],
   "source": [
    "df.write_ipc(\"responses.arrow\", compression='zstd')"
   ]
  },
  {
   "cell_type": "code",
   "execution_count": 48,
   "id": "ab63205e-eff7-4cbe-bfdc-69abdbe7d982",
   "metadata": {},
   "outputs": [
    {
     "data": {
      "text/html": [
       "<div><style>\n",
       ".dataframe > thead > tr,\n",
       ".dataframe > tbody > tr {\n",
       "  text-align: right;\n",
       "  white-space: pre-wrap;\n",
       "}\n",
       "</style>\n",
       "<small>shape: (5, 4)</small><table border=\"1\" class=\"dataframe\"><thead><tr><th>uuid</th><th>text</th><th>label</th><th>numeric label</th></tr><tr><td>str</td><td>str</td><td>str</td><td>i64</td></tr></thead><tbody><tr><td>&quot;f4a40d73-9a7b-41f6-9fbf-f1c5c1…</td><td>&quot;Answer the following multiple …</td><td>&quot;D&quot;</td><td>3</td></tr><tr><td>&quot;444ed118-5077-4616-8518-a0b57c…</td><td>&quot;Answer the following multiple …</td><td>&quot;C&quot;</td><td>2</td></tr><tr><td>&quot;f1f38b68-04f9-4a37-bdec-efc621…</td><td>&quot;Answer the following multiple …</td><td>&quot;J&quot;</td><td>9</td></tr><tr><td>&quot;0e9fc4de-37b3-47cd-9558-d1253d…</td><td>&quot;Answer the following multiple …</td><td>&quot;B&quot;</td><td>1</td></tr><tr><td>&quot;2d32d8fa-34f4-4c26-9458-216bf7…</td><td>&quot;Answer the following multiple …</td><td>&quot;F&quot;</td><td>5</td></tr></tbody></table></div>"
      ],
      "text/plain": [
       "shape: (5, 4)\n",
       "┌─────────────────────────────────┬─────────────────────────────────┬───────┬───────────────┐\n",
       "│ uuid                            ┆ text                            ┆ label ┆ numeric label │\n",
       "│ ---                             ┆ ---                             ┆ ---   ┆ ---           │\n",
       "│ str                             ┆ str                             ┆ str   ┆ i64           │\n",
       "╞═════════════════════════════════╪═════════════════════════════════╪═══════╪═══════════════╡\n",
       "│ f4a40d73-9a7b-41f6-9fbf-f1c5c1… ┆ Answer the following multiple … ┆ D     ┆ 3             │\n",
       "│ 444ed118-5077-4616-8518-a0b57c… ┆ Answer the following multiple … ┆ C     ┆ 2             │\n",
       "│ f1f38b68-04f9-4a37-bdec-efc621… ┆ Answer the following multiple … ┆ J     ┆ 9             │\n",
       "│ 0e9fc4de-37b3-47cd-9558-d1253d… ┆ Answer the following multiple … ┆ B     ┆ 1             │\n",
       "│ 2d32d8fa-34f4-4c26-9458-216bf7… ┆ Answer the following multiple … ┆ F     ┆ 5             │\n",
       "└─────────────────────────────────┴─────────────────────────────────┴───────┴───────────────┘"
      ]
     },
     "execution_count": 48,
     "metadata": {},
     "output_type": "execute_result"
    }
   ],
   "source": [
    "df.sample(5)"
   ]
  },
  {
   "cell_type": "code",
   "execution_count": null,
   "id": "d97e018b-db41-4035-9e9c-8d03c6c91513",
   "metadata": {},
   "outputs": [],
   "source": []
  }
 ],
 "metadata": {
  "kernelspec": {
   "display_name": "Python 3 (ipykernel)",
   "language": "python",
   "name": "python3"
  },
  "language_info": {
   "codemirror_mode": {
    "name": "ipython",
    "version": 3
   },
   "file_extension": ".py",
   "mimetype": "text/x-python",
   "name": "python",
   "nbconvert_exporter": "python",
   "pygments_lexer": "ipython3",
   "version": "3.12.3"
  }
 },
 "nbformat": 4,
 "nbformat_minor": 5
}
