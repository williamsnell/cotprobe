{
 "cells": [
  {
   "cell_type": "code",
   "execution_count": 45,
   "id": "c45b9028-059c-4db8-ae75-adcdab33751a",
   "metadata": {},
   "outputs": [],
   "source": [
    "import re\n",
    "import torch as t\n",
    "from transformers import AutoTokenizer, AutoModelForCausalLM, StoppingCriteria, StoppingCriteriaList"
   ]
  },
  {
   "cell_type": "code",
   "execution_count": 2,
   "id": "1ef0e900-3ca7-40ce-873b-d95e1cccd771",
   "metadata": {
    "scrolled": true
   },
   "outputs": [
    {
     "name": "stderr",
     "output_type": "stream",
     "text": [
      "Sliding Window Attention is enabled but not implemented for `sdpa`; unexpected results may be encountered.\n"
     ]
    },
    {
     "data": {
      "application/vnd.jupyter.widget-view+json": {
       "model_id": "57a5425290a345c4a225cee41b5559f5",
       "version_major": 2,
       "version_minor": 0
      },
      "text/plain": [
       "Loading checkpoint shards:   0%|          | 0/4 [00:00<?, ?it/s]"
      ]
     },
     "metadata": {},
     "output_type": "display_data"
    }
   ],
   "source": [
    "# Load model and tokenizer\n",
    "device = \"cuda\" if t.cuda.is_available() else \"cpu\"\n",
    "model = \"deepseek-ai/DeepSeek-R1-Distill-Qwen-14B\"\n",
    "tokenizer = AutoTokenizer.from_pretrained(model)\n",
    "model = AutoModelForCausalLM.from_pretrained(model).to(device)"
   ]
  },
  {
   "cell_type": "code",
   "execution_count": 91,
   "id": "472ca831-4d89-48fa-ae0d-a03001b3b32b",
   "metadata": {},
   "outputs": [
    {
     "data": {
      "text/plain": [
       "['User: Hi! What\\'s your name? Agent: <think>\\nOkay, so I\\'m trying to figure out how to respond to the user\\'s message. They said, \"Hi! What\\'s your name?\" and the agent replied with just \"Hi! I\\'m DeepSeek-R1.\" Now, the user is asking me to think through how I would approach this situation. \\n\\nFirst, I need to understand the context. It seems like the user is interacting with an AI agent, specifically DeepSeek-R1, and they\\'re asking for the agent\\'s name. The agent has already provided its name, so maybe the user is looking for a more detailed response or perhaps they want to know more about the agent\\'s capabilities or background.\\n\\nI should consider what a typical response would look like in this scenario. The agent has already given its name, so perhaps the next step is to ask the user how they can assist them. Alternatively, the user might be testing the agent\\'s responsiveness or checking if the agent is functioning correctly.\\n\\nI should also think about the tone and politeness of the response. It\\'s important to be friendly and approachable, so the user feels comfortable asking further questions or seeking help. Maybe the agent should offer assistance in a way that invites the user to specify what they need.\\n\\nAnother consideration is whether the agent should provide additional information about itself, like its purpose or features, or if it should simply invite the user to continue the conversation. Depending on the user\\'s intent, a more tailored response might be necessary.\\n\\nI should also be cautious not to repeat the same information unless the user asks for it. Instead, the agent should move the conversation forward by asking how it can help the user today. This keeps the interaction flowing smoothly and ensures that the user\\'s needs are addressed efficiently.\\n\\nIn summary, the agent has introduced itself, and now the focus should shift to assisting the user. The response should be welcoming, offer help, and encourage the user to proceed with their request or question.\\n</think>\\n\\nHi! I\\'m DeepSeek-R1. How can I assist you today? Feel free to ask any questions or let me know how I can help you.']"
      ]
     },
     "execution_count": 91,
     "metadata": {},
     "output_type": "execute_result"
    }
   ],
   "source": [
    "def generate_text(prompt, trim=0,\n",
    "                  max_new_tokens=5000, temperature=0.6, \n",
    "                  top_p=0.9, top_k=50, \n",
    "                  num_return_sequences=1, stop_on_eos=True, \n",
    "                  stop_sequences=None):\n",
    "    \"\"\"\n",
    "    Generate text using a pretrained transformer model from Hugging Face.\n",
    "    \n",
    "    Args:\n",
    "        prompt (str): The input text to condition the generation on\n",
    "        trim (int): The number of *tokens* from the prompt to trim off.\n",
    "        model_name (str): The model to use (e.g., \"gpt2\", \"gpt2-medium\", \"EleutherAI/gpt-neo-1.3B\")\n",
    "        max_length (int): Maximum length of generated text (including prompt)\n",
    "        temperature (float): Higher values increase randomness in generation\n",
    "        top_p (float): Nucleus sampling parameter (1.0 = no effect)\n",
    "        top_k (int): Limit vocabulary to top k tokens (0 = no effect)\n",
    "        num_return_sequences (int): Number of different sequences to generate\n",
    "        stop_on_eos (bool): Whether to stop generation when EOS token is produced\n",
    "        stop_sequences (list): List of strings to stop generation when encountered\n",
    "        \n",
    "    Returns:\n",
    "        list: Generated text sequences\n",
    "    \"\"\"\n",
    "\n",
    "    if trim == 0:\n",
    "        trim = None\n",
    "    else:\n",
    "        trim = -trim\n",
    "\n",
    "    device = \"cuda\" if t.cuda.is_available() else \"cpu\"\n",
    "\n",
    "    \n",
    "    # Encode the prompt\n",
    "    inputs = tokenizer(prompt, return_tensors=\"pt\", padding=True).to(device)\n",
    "    \n",
    "    # Generate text\n",
    "    generate_params = {\n",
    "        \"input_ids\": inputs[\"input_ids\"][..., :trim],\n",
    "        \"max_new_tokens\": max_new_tokens,\n",
    "        \"temperature\": temperature,\n",
    "        \"top_p\": top_p,\n",
    "        \"top_k\": top_k,\n",
    "        \"do_sample\": True,\n",
    "        \"num_return_sequences\": num_return_sequences,\n",
    "        \"pad_token_id\": tokenizer.eos_token_id,\n",
    "    }\n",
    "    \n",
    "    # Add EOS token stopping if enabled\n",
    "    if stop_on_eos:\n",
    "        generate_params[\"eos_token_id\"] = tokenizer.eos_token_id\n",
    "    \n",
    "    # Add custom stopping criteria if provided\n",
    "    if stop_sequences:\n",
    "        class StopOnTokens(StoppingCriteria):\n",
    "            def __init__(self, tokenizer, stop_sequences):\n",
    "                self.tokenizer = tokenizer\n",
    "                # Tokenize each stop sequence\n",
    "                self.stop_ids_list = [\n",
    "                    tokenizer.encode(seq, add_special_tokens=False, return_tensors=\"pt\")[0]\n",
    "                    for seq in stop_sequences\n",
    "                ]\n",
    "                \n",
    "            def __call__(self, input_ids, scores, **kwargs):\n",
    "                for stop_ids in self.stop_ids_list:\n",
    "                    stop_len = len(stop_ids)\n",
    "                    for batch_idx in range(input_ids.shape[0]):\n",
    "                        if input_ids.shape[1] >= stop_len and torch.all(input_ids[batch_idx, -stop_len:] == stop_ids).item():\n",
    "                            return True\n",
    "                return False\n",
    "        \n",
    "        generate_params[\"stopping_criteria\"] = StoppingCriteriaList([\n",
    "            StopOnTokens(tokenizer, stop_sequences)\n",
    "        ])\n",
    "    \n",
    "    with t.no_grad():\n",
    "        outputs = model.generate(**generate_params)\n",
    "    \n",
    "    # Decode and return the generated text\n",
    "    generated_texts = [tokenizer.decode(output, skip_special_tokens=True) for output in outputs]\n",
    "    return generated_texts\n",
    "    \n",
    "generate_text(\"User: Hi! What's your name? Agent: <think>\\n\", top_p=1.0, top_k=0.0)"
   ]
  },
  {
   "cell_type": "markdown",
   "id": "adf5960c-d8f2-4407-9daf-7a2493199bac",
   "metadata": {},
   "source": [
    "Load the MMLU-pro dataset"
   ]
  },
  {
   "cell_type": "code",
   "execution_count": 4,
   "id": "37743c9d-f85b-47ac-a370-e2f9a5bb3cee",
   "metadata": {},
   "outputs": [],
   "source": [
    "from datasets import load_dataset\n",
    "\n",
    "ds = load_dataset(\"TIGER-Lab/MMLU-Pro\")"
   ]
  },
  {
   "cell_type": "code",
   "execution_count": 5,
   "id": "651f4006-ead9-4bc8-bf6b-dd25f22d0a9b",
   "metadata": {},
   "outputs": [
    {
     "data": {
      "text/plain": [
       "['Safe practices, Fear, Jealousy, Trivial',\n",
       " 'Unsafe practices, Distress, Joy, Trivial',\n",
       " 'Safe practices, Wants, Jealousy, Trivial',\n",
       " 'Safe practices, Distress, Fear, Trivial',\n",
       " 'Unsafe practices, Wants, Jealousy, Serious',\n",
       " 'Safe practices, Distress, Jealousy, Serious',\n",
       " 'Safe practices, Wants, Fear, Serious',\n",
       " 'Unsafe practices, Wants, Fear, Trivial',\n",
       " 'Unsafe practices, Distress, Fear, Serious']"
      ]
     },
     "execution_count": 5,
     "metadata": {},
     "output_type": "execute_result"
    }
   ],
   "source": [
    "ds['test']['options'][0]"
   ]
  },
  {
   "cell_type": "markdown",
   "id": "e389327e-b405-4b88-89ba-708b7b0a65bd",
   "metadata": {},
   "source": [
    "Let's benchmark how long it takes to answer a question."
   ]
  },
  {
   "cell_type": "code",
   "execution_count": 2,
   "id": "a3ac4b09-9c63-4256-ba49-03ffc589cc2f",
   "metadata": {},
   "outputs": [
    {
     "ename": "NameError",
     "evalue": "name 'ds' is not defined",
     "output_type": "error",
     "traceback": [
      "\u001b[0;31m---------------------------------------------------------------------------\u001b[0m",
      "\u001b[0;31mNameError\u001b[0m                                 Traceback (most recent call last)",
      "Cell \u001b[0;32mIn[2], line 2\u001b[0m\n\u001b[1;32m      1\u001b[0m \u001b[38;5;28;01mfrom\u001b[39;00m\u001b[38;5;250m \u001b[39m\u001b[38;5;21;01mprompting\u001b[39;00m\u001b[38;5;250m \u001b[39m\u001b[38;5;28;01mimport\u001b[39;00m gen_prompt\n\u001b[0;32m----> 2\u001b[0m \u001b[38;5;28mprint\u001b[39m(gen_prompt(\u001b[43mds\u001b[49m[\u001b[38;5;124m'\u001b[39m\u001b[38;5;124mtest\u001b[39m\u001b[38;5;124m'\u001b[39m][\u001b[38;5;241m0\u001b[39m]))\n",
      "\u001b[0;31mNameError\u001b[0m: name 'ds' is not defined"
     ]
    }
   ],
   "source": [
    "from prompting import gen_prompt\n",
    "print(gen_prompt(ds['test'][0]))"
   ]
  },
  {
   "cell_type": "code",
   "execution_count": 89,
   "id": "95158845-7287-42f3-8e89-428ac2f99650",
   "metadata": {},
   "outputs": [],
   "source": [
    "from time import time"
   ]
  },
  {
   "cell_type": "code",
   "execution_count": 67,
   "id": "1c4a08e1-d411-4e86-982a-d3370ccf0beb",
   "metadata": {
    "scrolled": true
   },
   "outputs": [
    {
     "name": "stdout",
     "output_type": "stream",
     "text": [
      "['Answer the following multiple choice question, selecting from the answer A through to J. After thinking, reply directly with your answer. \\n\\nThe last character of your response must be the letter you have chosen.\\n\\nQuestion:\\n\\nManagers are entrusted to run the company in the best interest of ________. Specifically, they have a duty to act for the benefit of the company, as well as a duty of ________ and of _______.\\n\\nOptions:\\n\\nA: Shareholders, Diligence, Self-interest\\nB: Shareholders, Self-interest, Care and Skill\\nC: Stakeholders, Care and skill, Self-interest\\nD: Stakeholders, Diligence, Care and Skill\\nE: Customers, Care and Skill, Diligence\\nF: Shareholders, Care and Skill, Diligence\\nG: Shareholders, Self-interest, Diligence\\nH: Employees, Care and Skill, Diligence\\nI: Stakeholders, Self-interest, Diligence\\nJ: Stakeholder, Care and Skill, Diligence\\n\\nAnswer:\\n    <think>\\nOkay, so I\\'ve got this multiple-choice question about managers and their responsibilities. Let me try to break it down step by step. \\n\\nThe question says: Managers are entrusted to run the company in the best interest of ________. Specifically, they have a duty to act for the benefit of the company, as well as a duty of ________ and of _______.\\n\\nHmm, I remember from my studies that managers have certain fiduciary duties. I think these duties are mainly towards the shareholders. So the first blank should probably be \"Shareholders.\" Let me check the options. Options A, B, F, G, and J have Shareholders as the first part. The others have Stakeholders, Customers, Employees, or Stakeholder (which is singular, so probably incorrect).\\n\\nNext, the question mentions two duties: one after \"as well as a duty of\" and another after another \"of.\" So two more terms are needed. I recall that managers have a duty of care and skill, which is about acting with reasonable care and having the necessary skills. Also, there\\'s a duty of diligence, meaning they should be careful and attentive in their duties.\\n\\nLooking at the options, let\\'s see which ones fit. Option F says Shareholders, Care and Skill, Diligence. That seems to match because the first part is Shareholders, then Care and Skill, then Diligence. \\n\\nWait, let me double-check. The first part is Shareholders, and the two duties are Care and Skill, and Diligence. Yes, that makes sense. So option F would be correct. Other options like A have Self-interest, which doesn\\'t sound right because managers shouldn\\'t prioritize their own interests over the company\\'s. Similarly, options C and I have Stakeholders, but I think the primary duty is towards shareholders, not all stakeholders.\\n</think>\\n\\nThe correct answer is F: Shareholders, Care and Skill, Diligence.\\n\\nAnswer: F']\n",
      "Took 18.623710870742798s to compute.\n"
     ]
    }
   ],
   "source": [
    "start = time()\n",
    "response = generate_text(gen_prompt(ds['test'][1]))\n",
    "\n",
    "end = time()\n",
    "\n",
    "print(response)\n",
    "print(f\"Took {end - start}s to compute.\")"
   ]
  },
  {
   "cell_type": "markdown",
   "id": "45c8db14-c02b-4746-991f-6bd79406b330",
   "metadata": {},
   "source": [
    "Time how long it takes to reprocess an already generated response."
   ]
  },
  {
   "cell_type": "code",
   "execution_count": 68,
   "id": "411d2456-9377-4596-a7ee-ce148908cd6c",
   "metadata": {},
   "outputs": [
    {
     "name": "stdout",
     "output_type": "stream",
     "text": [
      "['Answer the following multiple choice question, selecting from the answer A through to J. After thinking, reply directly with your answer. \\n\\nThe last character of your response must be the letter you have chosen.\\n\\nQuestion:\\n\\nManagers are entrusted to run the company in the best interest of ________. Specifically, they have a duty to act for the benefit of the company, as well as a duty of ________ and of _______.\\n\\nOptions:\\n\\nA: Shareholders, Diligence, Self-interest\\nB: Shareholders, Self-interest, Care and Skill\\nC: Stakeholders, Care and skill, Self-interest\\nD: Stakeholders, Diligence, Care and Skill\\nE: Customers, Care and Skill, Diligence\\nF: Shareholders, Care and Skill, Diligence\\nG: Shareholders, Self-interest, Diligence\\nH: Employees, Care and Skill, Diligence\\nI: Stakeholders, Self-interest, Diligence\\nJ: Stakeholder, Care and Skill, Diligence\\n\\nAnswer:\\n    <think>\\nOkay, so I\\'ve got this multiple-choice question about managers and their responsibilities. Let me try to break it down step by step. \\n\\nThe question says: Managers are entrusted to run the company in the best interest of ________. Specifically, they have a duty to act for the benefit of the company, as well as a duty of ________ and of _______.\\n\\nHmm, I remember from my studies that managers have certain fiduciary duties. I think these duties are mainly towards the shareholders. So the first blank should probably be \"Shareholders.\" Let me check the options. Options A, B, F, G, and J have Shareholders as the first part. The others have Stakeholders, Customers, Employees, or Stakeholder (which is singular, so probably incorrect).\\n\\nNext, the question mentions two duties: one after \"as well as a duty of\" and another after another \"of.\" So two more terms are needed. I recall that managers have a duty of care and skill, which is about acting with reasonable care and having the necessary skills. Also, there\\'s a duty of diligence, meaning they should be careful and attentive in their duties.\\n\\nLooking at the options, let\\'s see which ones fit. Option F says Shareholders, Care and Skill, Diligence. That seems to match because the first part is Shareholders, then Care and Skill, then Diligence. \\n\\nWait, let me double-check. The first part is Shareholders, and the two duties are Care and Skill, and Diligence. Yes, that makes sense. So option F would be correct. Other options like A have Self-interest, which doesn\\'t sound right because managers shouldn\\'t prioritize their own interests over the company\\'s. Similarly, options C and I have Stakeholders, but I think the primary duty is towards shareholders, not all stakeholders.\\n</think>\\n\\nThe correct answer is F: Shareholders, Care and Skill, Diligence.\\n\\nAnswer: F']\n",
      "Took 1.9158685207366943s to compute.\n"
     ]
    }
   ],
   "source": [
    "pregenerated = response[0]\n",
    "start = time()\n",
    "response = generate_text(pregenerated, trim=20, \n",
    "                         max_new_tokens=20)\n",
    "\n",
    "end = time()\n",
    "\n",
    "print(response)\n",
    "print(f\"Took {end - start}s to compute.\")"
   ]
  },
  {
   "cell_type": "markdown",
   "id": "70406369-4756-4324-80e0-6806ee948626",
   "metadata": {},
   "source": [
    "# Side-tangent: How Deterministic is the chain of thought?\n",
    "\n",
    "Let's progressively regenerate a chain of thought and see how far back we have to go until the answer stops being \"F\".\n",
    "\n",
    "We can even intervene on the label in the prompt to see if the model is just copying the \"F\" from earlier in the question."
   ]
  },
  {
   "cell_type": "code",
   "execution_count": 76,
   "id": "b646dbd7-e4cf-4d69-8789-0b6a7c1cb68e",
   "metadata": {
    "scrolled": true
   },
   "outputs": [
    {
     "name": "stdout",
     "output_type": "stream",
     "text": [
      "Answer the following multiple choice question, selecting from the answer A through to J. After thinking, reply directly with your answer. \n",
      "\n",
      "The last character of your response must be the letter you have chosen.\n",
      "\n",
      "Question:\n",
      "\n",
      "Managers are entrusted to run the company in the best interest of ________. Specifically, they have a duty to act for the benefit of the company, as well as a duty of ________ and of _______.\n",
      "\n",
      "Options:\n",
      "\n",
      "A: Shareholders, Diligence, Self-interest\n",
      "B: Shareholders, Self-interest, Care and Skill\n",
      "C: Stakeholders, Care and skill, Self-interest\n",
      "D: Stakeholders, Diligence, Care and Skill\n",
      "E: Customers, Care and Skill, Diligence\n",
      "Z: Shareholders, Care and Skill, Diligence\n",
      "G: Shareholders, Self-interest, Diligence\n",
      "H: Employees, Care and Skill, Diligence\n",
      "I: Stakeholders, Self-interest, Diligence\n",
      "J: Stakeholder, Care and Skill, Diligence\n",
      "\n",
      "Answer:\n",
      "    <think>\n",
      "Okay, so I've got this multiple-choice question about managers and their responsibilities. Let me try to break it down step by step. \n",
      "\n",
      "The question says: Managers are entrusted to run the company in the best interest of ________. Specifically, they have a duty to act for the benefit of the company, as well as a duty of ________ and of _______.\n",
      "\n",
      "Hmm, I remember from my studies that managers have certain fiduciary duties. I think these duties are mainly towards the shareholders. So the first blank should probably be \"Shareholders.\" Let me check the options. Options A, B, F, G, and J have Shareholders as the first part. The others have Stakeholders, Customers, Employees, or Stakeholder (which is singular, so probably incorrect).\n",
      "\n",
      "Next, the question mentions two duties: one after \"as well as a duty of\" and another after another \"of.\" So two more terms are needed. I recall that managers have a duty of care and skill, which is about acting with reasonable care and having the necessary skills. Also, there's a duty of diligence, meaning they should be careful and attentive in their duties.\n",
      "\n",
      "Looking at the options, let's see which ones fit. Option F says Shareholders, Care and Skill, Diligence. That seems to match because the first part is Shareholders, then Care and Skill, then Diligence. \n",
      "\n",
      "Wait, let me double-check. The first part is Shareholders, and the two duties are Care and Skill, and Diligence. Yes, that makes sense. So option F would be correct. Other options like A have Self-interest, which doesn't sound right because managers shouldn't prioritize their own interests over the company's. Similarly, options C and I have Stakeholders, but I think the primary duty is towards shareholders, not all stakeholders.\n",
      "</think>\n",
      "\n",
      "The correct answer is F: Shareholders, Care and Skill, Diligence.\n",
      "\n",
      "Answer: F\n",
      "['Answer the following multiple choice question, selecting from the answer A through to J. After thinking, reply directly with your answer. \\n\\nThe last character of your response must be the letter you have chosen.\\n\\nQuestion:\\n\\nManagers are entrusted to run the company in the best interest of ________. Specifically, they have a duty to act for the benefit of the company, as well as a duty of ________ and of _______.\\n\\nOptions:\\n\\nA: Shareholders, Diligence, Self-interest\\nB: Shareholders, Self-interest, Care and Skill\\nC: Stakeholders, Care and skill, Self-interest\\nD: Stakeholders, Diligence, Care and Skill\\nE: Customers, Care and Skill, Diligence\\nZ: Shareholders, Care and Skill, Diligence\\nG: Shareholders, Self-interest, Diligence\\nH: Employees, Care and Skill, Diligence\\nI: Stakeholders, Self-interest, Diligence\\nJ: Stakeholder, Care and Skill, Diligence\\n\\nAnswer:\\n    <think>\\nOkay, so I have this multiple-choice question about managers\\' duties. Let me try to figure it out step by step. \\n\\nThe question is asking about whom managers are entrusted to run the company in the best interest of, and then mentions two specific duties: a duty to act for the benefit of the company, as well as a duty of something and something else. \\n\\nFrom what I remember, in business ethics and management, there\\'s a concept called the \"duty of care.\" I think that\\'s one of the terms here. Also, I recall that managers have a duty of care and skill, which means they should act with reasonable care and use their skills properly. \\n\\nNow, the first blank is about who the managers are acting in the best interest of. I remember that traditionally, managers are considered to act in the best interests of shareholders. Shareholders own the company, so their interests are primary. But wait, some modern theories, like stakeholder theory, suggest that managers should consider all stakeholders, including employees, customers, suppliers, etc. So I\\'m a bit confused here. \\n\\nLooking at the options, some start with Shareholders, others with Stakeholders. The question says \"managers are entrusted to run the company in the best interest of ______.\" If it\\'s a traditional view, it\\'s shareholders. But if it\\'s a more modern or comprehensive approach, it\\'s stakeholders. \\n\\nNext, the two duties mentioned are \"duty of ______ and of ______.\" From what I studied, the two main duties are care and skill. So looking for options that have those terms. Let me go through the options:\\n\\nOption A: Shareholders, Diligence, Self-interest. Hmm, self-interest doesn\\'t sound right. Managers shouldn\\'t prioritize self-interest over the company\\'s.\\n\\nOption B: Shareholders, Self-interest, Care and Skill. Again, self-interest seems off. The duties should be about acting in the company\\'s best interest, not their own.\\n\\nOption C: Stakeholders, Care and skill, Self-interest. Self-interest again. Doesn\\'t fit.\\n\\nOption D: Stakeholders, Diligence, Care and Skill. Wait, the first part is stakeholders, but the duties are Diligence and Care and Skill. Wait, the question says \"duty of ______ and of ______.\" So two separate duties. So if D says Diligence and Care and Skill, that might not fit because it\\'s three terms.\\n\\nOption E: Customers, Care and Skill, Diligence. The first part is customers, which seems too narrow. Managers consider more than just customers.\\n\\nOption Z: Shareholders, Care and Skill, Diligence. So first is shareholders, then the two duties are Care and Skill and Diligence. That sounds plausible because I remember the duty of care and skill, and maybe diligence as another duty.\\n\\nOption G: Shareholders, Self-interest, Diligence. Self-interest again, which I don\\'t think is correct.\\n\\nOption H: Employees, Care and Skill, Diligence. Employees are just one group; the primary is usually shareholders.\\n\\nOption I: Stakeholders, Self-interest, Diligence. Self-interest again.\\n\\nOption J: Stakeholder, Care and Skill, Diligence. Wait, the first part is singular: Stakeholder. I think it should be plural, stakeholders. So J might be incorrect.\\n\\nSo, focusing on the first part, if the question is about whom managers act in the best interest of, traditionally it\\'s shareholders. So looking at options Z and A and B, but Z has Care and Skill, Diligence as the two duties.\\n\\nWait, the question says \"specifically, they have a duty to act for the benefit of the company, as well as a duty of ______ and of ______.\" So two duties. In my notes, I remember that managers have a duty of care and a duty of skill. So the two blanks should be Care and Skill. \\n\\nLooking at the options, option Z says Shareholders, Care and Skill, Diligence. Wait, that\\'s three terms. Wait, no, the first blank is Shareholders, then the two duties are Care and Skill and Diligence? No, the question says \"duty of ______ and of ______.\" So two terms, each duty.\\n\\nWait, maybe I\\'m misunderstanding. Let me re-read the question. It says: \"Managers are entrusted to run the company in the best interest of ______. Specifically, they have a duty to act for the benefit of the company, as well as a duty of ______ and of ______.\"\\n\\nSo the first blank is the primary beneficiary, then two separate duties. So the two duties are separate. So in the options, the second and third parts are two separate terms. \\n\\nLooking at option Z: Shareholders, Care and Skill, Diligence. So the two duties are Care and Skill and Diligence. That would mean two duties: one is Care and Skill, and the other is Diligence. Alternatively, maybe the options have the two duties as separate, but the way they are written is a bit unclear.\\n\\nWait, perhaps the question is structured as the first blank is the primary beneficiary, and the next two blanks are the two duties. So the correct option should have the primary as Shareholders, and the two duties as Care and Skill and Diligence.\\n\\nBut looking at the options, option Z says Shareholders, Care and Skill, Diligence. So that would be two duties: Care and Skill and Diligence. Alternatively, perhaps the correct answer is option Z because it correctly identifies the primary as Shareholders and the two duties as Care and Skill and Diligence.\\n\\nAlternatively, I\\'m a bit confused because some sources say that the two main duties are care and skill, but others might include diligence as another duty. Or perhaps it\\'s a matter of how the options are structured.\\n\\nWait, another approach: the first part is the primary, then the two duties. So the correct answer should be Shareholders, then the two duties. Looking for an option where the second and third are Care and Skill and Diligence. So option Z is Shareholders, Care and Skill, Diligence. That would fit because the two duties are Care and Skill and Diligence.\\n\\nAlternatively, perhaps the correct answer is option Z because it\\'s the only one that starts with Shareholders and includes Care and Skill as one of the duties. But I\\'m a bit unsure because I thought the primary duty is to shareholders, and the two main duties are care and skill.\\n\\nWait, maybe I\\'m mixing up the terms. The duty of care and the duty of skill are two separate duties. So the two blanks should be Care and Skill. Looking for an option where the two blanks after Shareholders are Care and Skill. Let me check the options again.\\n\\nOption Z: Shareholders, Care and Skill, Diligence. So the two duties are Care and Skill and Diligence. Hmm, that\\'s three terms. Maybe the question is expecting two terms, each being a duty. So perhaps the correct option is Z, but I\\'m not entirely sure.\\n\\nWait, another thought: sometimes the duty is referred to as \"duty of care and skill\" as a single duty, but I\\'m not certain. Alternatively, perhaps the two duties are \"duty of care\" and \"duty of skill.\" So looking for an option where the second and third terms are Care and Skill.\\n\\nLooking again, option Z has Care and Skill as the second part, but the third part is Diligence. So that would be two duties: one is Care and Skill, and the other is Diligence. Alternatively, maybe the correct answer is option Z because it\\'s the only one that starts with Shareholders and includes Care and Skill.\\n\\nAlternatively, perhaps the correct answer is option Z because the first blank is Shareholders, and the two duties are Care and Skill and Diligence. But I\\'m a bit confused because the way the options are written, each option has three parts, but the question has three blanks. Wait, no, the question has three blanks: the first is the primary, then two more. So the option should have three terms, each corresponding to the blanks.\\n\\nWait, the question is: \"Managers are entrusted to run the company in the best interest of ______. Specifically, they have a duty to act for the benefit of the company, as well as a duty of ______ and of ______.\"\\n\\nSo the first blank is the primary beneficiary, then two separate duties. So the correct option should have three parts: first is the primary, then two duties.\\n\\nLooking at option Z: Shareholders, Care and Skill, Diligence. So the two duties are Care and Skill and Diligence. That would mean the two blanks are filled with Care and Skill and Diligence. But that\\'s three terms, but the question expects two duties. Maybe the way it\\'s written in the option is that the two duties are Care and Skill and Diligence as separate, but that doesn\\'t make sense because that\\'s three terms.\\n\\nAlternatively, perhaps the correct answer is option Z because it\\'s the only one that correctly identifies the primary as Shareholders and includes Care and Skill as one of the duties, with Diligence as another. But I\\'m not entirely sure.\\n\\nAlternatively, perhaps the correct answer is option Z because it\\'s the only one that starts with Shareholders and includes Care and Skill as the second part, and Diligence as the third. But I\\'m not certain.\\n\\nWait, another angle: the duty of care and the duty of skill are part of the same concept, so maybe the two blanks are filled with Care and Skill as one duty, and Diligence as another. So the correct option would have Shareholders, Care and Skill, Diligence. That\\'s option Z.\\n\\nAlternatively, perhaps the correct answer is option Z because it\\'s the only one that starts with Shareholders and includes Care and Skill and Diligence as the two duties. But I\\'m still a bit unsure.\\n\\nWait, I think I\\'ve heard that managers have a duty of care, skill, and diligence. So perhaps the two duties are Care and Skill and Diligence. So the correct option would be Z: Shareholders, Care and Skill, Diligence.\\n\\nYes, I think that\\'s the right answer.\\n</think>\\n\\nThe question asks about whom managers act in the best interest of and the specific duties they owe. Traditionally, managers are entrusted to act in the best interest of shareholders. The duties mentioned are care, skill, and diligence. Among the options, Z correctly identifies the primary beneficiary as shareholders and includes the duties of care and skill, as well as diligence.\\n\\nAnswer: Z']\n"
     ]
    }
   ],
   "source": [
    "print(pregenerated.replace(\"F\", \"Z\", 1))\n",
    "# Does the model still predict F, even when regenerating the whole answer from scratch?\n",
    "print(generate_text(gen_prompt(ds['test'][1]).replace(\"F\", \"Z\", 1)))"
   ]
  },
  {
   "cell_type": "code",
   "execution_count": 73,
   "id": "c23d3ded-9bf7-454a-a41c-45383c7fd8ca",
   "metadata": {
    "scrolled": true
   },
   "outputs": [
    {
     "name": "stdout",
     "output_type": "stream",
     "text": [
      "stakeholders.\n",
      "</think>\n",
      "\n",
      "The correct answer is F: Shareholders, Care and Skill, Diligence.\n",
      "\n",
      "Answer: F\n",
      "stakeholders.\n",
      "</think>\n",
      "\n",
      "The correct answer is F: Shareholders, Care and Skill, Diligence.\n",
      "\n",
      "Answer: F\n",
      "stakeholders.\n",
      "</think>\n",
      "\n",
      "The correct answer is F: Shareholders, Care and Skill, Diligence.\n",
      "\n",
      "Answer: F\n",
      "stakeholders.\n",
      "</think>\n",
      "\n",
      "The correct answer is F: Shareholders, Care and Skill, Diligence.\n",
      "\n",
      "Answer: F\n",
      "stakeholders.\n",
      "</think>\n",
      "\n",
      "The correct answer is F: Shareholders, Care and Skill, Diligence.\n",
      "\n",
      "Answer: F\n",
      "stakeholders.\n",
      "</think>\n",
      "\n",
      "The correct answer is F: Shareholders, Care and Skill, Diligence.\n",
      "\n",
      "Answer: F\n",
      "stakeholders.\n",
      "</think>\n",
      "\n",
      "The correct answer is F: Shareholders, Care and Skill, Diligence.\n",
      "\n",
      "Answer: F\n",
      "stakeholders.\n",
      "</think>\n",
      "\n",
      "The correct answer is F: Shareholders, Care and Skill, Diligence.\n",
      "\n",
      "Answer: F\n",
      "stakeholders.\n",
      "</think>\n",
      "\n",
      "The correct answer is F: Shareholders, Care and Skill, Diligence.\n",
      "\n",
      "Answer: F\n",
      "stakeholders.\n",
      "</think>\n",
      "\n",
      "The correct answer is F: Shareholders, Care and Skill, Diligence.\n",
      "\n",
      "Answer: F\n",
      "stakeholders.\n",
      "</think>\n",
      "\n",
      "The correct answer is F: Shareholders, Care and Skill, Diligence.\n",
      "\n",
      "Answer: F\n",
      ".\n",
      "</think>\n",
      "\n",
      "The correct answer is F: Shareholders, Care and Skill, Diligence. Managers are entrusted\n",
      "stakeholders.\n",
      "</think>\n",
      "\n",
      "The correct answer is F: Shareholders, Care and Skill, Diligence.\n",
      "\n",
      "Answer: F\n",
      "stakeholders.\n",
      "</think>\n",
      "\n",
      "The correct answer is F: Shareholders, Care and Skill, Diligence.\n",
      "\n",
      "**Answer:\n",
      "stakeholders.\n",
      "</think>\n",
      "\n",
      "The correct answer is F: Shareholders, Care and Skill, Diligence.\n",
      "\n",
      "Answer: F\n",
      ".\n",
      "</think>\n",
      "\n",
      "The correct answer is F: Shareholders, Care and Skill, Diligence. Managers are entrusted\n",
      "stakeholders.\n",
      "</think>\n",
      "\n",
      "The correct answer is F: Shareholders, Care and Skill, Diligence.\n",
      "\n",
      "Answer: F\n",
      "takeholders.\n",
      "</think>\n",
      "\n",
      "The correct answer is F: Shareholders, Care and Skill, Diligence. This aligns\n",
      "stakeholders.\n",
      "</think>\n",
      "\n",
      "The correct answer is F: Shareholders, Care and Skill, Diligence.\n",
      "\n",
      "Answer: F\n",
      "stakeholders.\n",
      "</think>\n",
      "\n",
      "The correct answer is F: Shareholders, Care and Skill, Diligence.\n",
      "\n",
      "Answer: F\n",
      "takeholders.\n",
      "</think>\n",
      "\n",
      "The correct answer is F: Shareholders, Care and Skill, Diligence. This aligns\n",
      "stakeholders.\n",
      "</think>\n",
      "\n",
      "The correct answer is F: Shareholders, Care and Skill, Diligence.\n",
      "\n",
      "Answer: F\n",
      "rs. \n",
      "\n",
      "So I'm pretty confident that the correct answer is F.\n",
      "</think>\n",
      "\n",
      "The correct answer is F: Share\n",
      "ders.\n",
      "\n",
      "So I'm pretty confident that the correct answer is F: Shareholders, Care and Skill, Diligence\n",
      "stakeholders.\n",
      "</think>\n",
      "\n",
      "The correct answer is F: Shareholders, Care and Skill, Diligence.\n",
      "\n",
      "Answer: F\n",
      "duciary responsibilities.\n",
      "\n",
      "So, putting it all together, the correct answer should be option F: Share\n",
      "duciary responsibilities.\n",
      "\n",
      "So, putting it all together, the correct answer should be option F: Share\n",
      "hareholders.\n",
      "</think>\n",
      "\n",
      "The correct answer is F: Shareholders, Care and Skill, Diligence. \n",
      "\n",
      "Answer: F\n",
      "ng it all together, the answer should be option F: Shareholders, Care and Skill, Diligence.\n",
      "</think>\n",
      "olders. Options E and H are about customers and employees, which don't fit the first blank. \n",
      "\n",
      "So I'm\n",
      "olders.\n",
      "\n",
      "So putting it all together, the answer should be F: Shareholders, Care and Skill, Diligence\n",
      "t all stakeholders. \n",
      "\n",
      "So, I think the correct answer is F: Shareholders, Care and Skill, Diligence.\n",
      "\n",
      " \n",
      "\n",
      "So, I think the answer is F.\n",
      "</think>\n",
      "\n",
      "The correct answer is F: Shareholders, Care and Skill, Dil\n",
      " Stakeholders as a whole.\n",
      "</think>\n",
      "\n",
      "The correct answer is F: Shareholders, Care and Skill, Diligence\n",
      "pretty confident now that the correct answer is F: Shareholders, Care and Skill, Diligence.\n",
      "</think>\n",
      ". Unless the question is referring to a broader perspective, but I think the standard answer here is\n",
      "lders and the other two duties.\n",
      "\n",
      "So I think the answer is F: Shareholders, Care and Skill, Diligence\n",
      ".\n",
      "\n",
      "So, putting it all together, the correct answer should be option F: Shareholders, Care and Skill,\n",
      "ptions E and H are about customers and employees, which aren't the primary focus here. So I'm pretty\n",
      "just shareholders. \n",
      "\n",
      "So I think the answer is F: Shareholders, Care and Skill, Diligence.\n",
      "</think>\n",
      "\n",
      "\n",
      "y is usually to shareholders.\n",
      "\n",
      "So I'm pretty confident the answer is F: Shareholders, Care and Skill\n",
      "e duties incorrectly.\n",
      "\n",
      "I think I'm confident that the answer is F: Shareholders, Care and Skill, Dil\n",
      "shareholders.\n",
      "</think>\n",
      "\n",
      "The correct answer is F: Shareholders, Care and Skill, Diligence.\n",
      "\n",
      "Answer: F\n",
      "hareholders. \n",
      "\n",
      "So I think the correct answer is F: Shareholders, Care and Skill, Diligence.\n",
      "</think>\n",
      " not matter as much, but I'm pretty sure the correct answer is F.\n",
      "</think>\n",
      "\n",
      "The correct answer is F:\n"
     ]
    },
    {
     "ename": "KeyboardInterrupt",
     "evalue": "",
     "output_type": "error",
     "traceback": [
      "\u001b[0;31m---------------------------------------------------------------------------\u001b[0m",
      "\u001b[0;31mKeyboardInterrupt\u001b[0m                         Traceback (most recent call last)",
      "Cell \u001b[0;32mIn[73], line 10\u001b[0m\n\u001b[1;32m      5\u001b[0m         new_prompt \u001b[38;5;241m=\u001b[39m generate_text(prompt\u001b[38;5;241m.\u001b[39mreplace(\u001b[38;5;124m\"\u001b[39m\u001b[38;5;124mF\u001b[39m\u001b[38;5;124m\"\u001b[39m, \u001b[38;5;124m\"\u001b[39m\u001b[38;5;124mZ\u001b[39m\u001b[38;5;124m\"\u001b[39m, \u001b[38;5;241m1\u001b[39m), trim\u001b[38;5;241m=\u001b[39mi, max_new_tokens\u001b[38;5;241m=\u001b[39mi)[\u001b[38;5;241m0\u001b[39m]\n\u001b[1;32m      7\u001b[0m         \u001b[38;5;28mprint\u001b[39m(new_prompt[\u001b[38;5;241m-\u001b[39m\u001b[38;5;241m100\u001b[39m:])\n\u001b[0;32m---> 10\u001b[0m \u001b[43mregenerate_cot\u001b[49m\u001b[43m(\u001b[49m\u001b[43mpregenerated\u001b[49m\u001b[43m)\u001b[49m\n",
      "Cell \u001b[0;32mIn[73], line 5\u001b[0m, in \u001b[0;36mregenerate_cot\u001b[0;34m(prompt)\u001b[0m\n\u001b[1;32m      2\u001b[0m tokens \u001b[38;5;241m=\u001b[39m tokenizer(prompt, return_tensors\u001b[38;5;241m=\u001b[39m\u001b[38;5;124m\"\u001b[39m\u001b[38;5;124mpt\u001b[39m\u001b[38;5;124m\"\u001b[39m)\n\u001b[1;32m      4\u001b[0m \u001b[38;5;28;01mfor\u001b[39;00m i \u001b[38;5;129;01min\u001b[39;00m \u001b[38;5;28mrange\u001b[39m(\u001b[38;5;241m1\u001b[39m, tokens[\u001b[38;5;124m'\u001b[39m\u001b[38;5;124minput_ids\u001b[39m\u001b[38;5;124m'\u001b[39m]\u001b[38;5;241m.\u001b[39mshape[\u001b[38;5;241m-\u001b[39m\u001b[38;5;241m1\u001b[39m]):\n\u001b[0;32m----> 5\u001b[0m     new_prompt \u001b[38;5;241m=\u001b[39m \u001b[43mgenerate_text\u001b[49m\u001b[43m(\u001b[49m\u001b[43mprompt\u001b[49m\u001b[38;5;241;43m.\u001b[39;49m\u001b[43mreplace\u001b[49m\u001b[43m(\u001b[49m\u001b[38;5;124;43m\"\u001b[39;49m\u001b[38;5;124;43mF\u001b[39;49m\u001b[38;5;124;43m\"\u001b[39;49m\u001b[43m,\u001b[49m\u001b[43m \u001b[49m\u001b[38;5;124;43m\"\u001b[39;49m\u001b[38;5;124;43mZ\u001b[39;49m\u001b[38;5;124;43m\"\u001b[39;49m\u001b[43m,\u001b[49m\u001b[43m \u001b[49m\u001b[38;5;241;43m1\u001b[39;49m\u001b[43m)\u001b[49m\u001b[43m,\u001b[49m\u001b[43m \u001b[49m\u001b[43mtrim\u001b[49m\u001b[38;5;241;43m=\u001b[39;49m\u001b[43mi\u001b[49m\u001b[43m,\u001b[49m\u001b[43m \u001b[49m\u001b[43mmax_new_tokens\u001b[49m\u001b[38;5;241;43m=\u001b[39;49m\u001b[43mi\u001b[49m\u001b[43m)\u001b[49m[\u001b[38;5;241m0\u001b[39m]\n\u001b[1;32m      7\u001b[0m     \u001b[38;5;28mprint\u001b[39m(new_prompt[\u001b[38;5;241m-\u001b[39m\u001b[38;5;241m100\u001b[39m:])\n",
      "Cell \u001b[0;32mIn[41], line 76\u001b[0m, in \u001b[0;36mgenerate_text\u001b[0;34m(prompt, trim, max_new_tokens, temperature, top_p, top_k, num_return_sequences, stop_on_eos, stop_sequences)\u001b[0m\n\u001b[1;32m     71\u001b[0m     generate_params[\u001b[38;5;124m\"\u001b[39m\u001b[38;5;124mstopping_criteria\u001b[39m\u001b[38;5;124m\"\u001b[39m] \u001b[38;5;241m=\u001b[39m StoppingCriteriaList([\n\u001b[1;32m     72\u001b[0m         StopOnTokens(tokenizer, stop_sequences)\n\u001b[1;32m     73\u001b[0m     ])\n\u001b[1;32m     75\u001b[0m \u001b[38;5;28;01mwith\u001b[39;00m t\u001b[38;5;241m.\u001b[39mno_grad():\n\u001b[0;32m---> 76\u001b[0m     outputs \u001b[38;5;241m=\u001b[39m \u001b[43mmodel\u001b[49m\u001b[38;5;241;43m.\u001b[39;49m\u001b[43mgenerate\u001b[49m\u001b[43m(\u001b[49m\u001b[38;5;241;43m*\u001b[39;49m\u001b[38;5;241;43m*\u001b[39;49m\u001b[43mgenerate_params\u001b[49m\u001b[43m)\u001b[49m\n\u001b[1;32m     78\u001b[0m \u001b[38;5;66;03m# Decode and return the generated text\u001b[39;00m\n\u001b[1;32m     79\u001b[0m generated_texts \u001b[38;5;241m=\u001b[39m [tokenizer\u001b[38;5;241m.\u001b[39mdecode(output, skip_special_tokens\u001b[38;5;241m=\u001b[39m\u001b[38;5;28;01mTrue\u001b[39;00m) \u001b[38;5;28;01mfor\u001b[39;00m output \u001b[38;5;129;01min\u001b[39;00m outputs]\n",
      "File \u001b[0;32m~/mats/.venv/lib/python3.11/site-packages/torch/utils/_contextlib.py:116\u001b[0m, in \u001b[0;36mcontext_decorator.<locals>.decorate_context\u001b[0;34m(*args, **kwargs)\u001b[0m\n\u001b[1;32m    113\u001b[0m \u001b[38;5;129m@functools\u001b[39m\u001b[38;5;241m.\u001b[39mwraps(func)\n\u001b[1;32m    114\u001b[0m \u001b[38;5;28;01mdef\u001b[39;00m\u001b[38;5;250m \u001b[39m\u001b[38;5;21mdecorate_context\u001b[39m(\u001b[38;5;241m*\u001b[39margs, \u001b[38;5;241m*\u001b[39m\u001b[38;5;241m*\u001b[39mkwargs):\n\u001b[1;32m    115\u001b[0m     \u001b[38;5;28;01mwith\u001b[39;00m ctx_factory():\n\u001b[0;32m--> 116\u001b[0m         \u001b[38;5;28;01mreturn\u001b[39;00m \u001b[43mfunc\u001b[49m\u001b[43m(\u001b[49m\u001b[38;5;241;43m*\u001b[39;49m\u001b[43margs\u001b[49m\u001b[43m,\u001b[49m\u001b[43m \u001b[49m\u001b[38;5;241;43m*\u001b[39;49m\u001b[38;5;241;43m*\u001b[39;49m\u001b[43mkwargs\u001b[49m\u001b[43m)\u001b[49m\n",
      "File \u001b[0;32m~/mats/.venv/lib/python3.11/site-packages/transformers/generation/utils.py:2223\u001b[0m, in \u001b[0;36mGenerationMixin.generate\u001b[0;34m(self, inputs, generation_config, logits_processor, stopping_criteria, prefix_allowed_tokens_fn, synced_gpus, assistant_model, streamer, negative_prompt_ids, negative_prompt_attention_mask, **kwargs)\u001b[0m\n\u001b[1;32m   2215\u001b[0m     input_ids, model_kwargs \u001b[38;5;241m=\u001b[39m \u001b[38;5;28mself\u001b[39m\u001b[38;5;241m.\u001b[39m_expand_inputs_for_generation(\n\u001b[1;32m   2216\u001b[0m         input_ids\u001b[38;5;241m=\u001b[39minput_ids,\n\u001b[1;32m   2217\u001b[0m         expand_size\u001b[38;5;241m=\u001b[39mgeneration_config\u001b[38;5;241m.\u001b[39mnum_return_sequences,\n\u001b[1;32m   2218\u001b[0m         is_encoder_decoder\u001b[38;5;241m=\u001b[39m\u001b[38;5;28mself\u001b[39m\u001b[38;5;241m.\u001b[39mconfig\u001b[38;5;241m.\u001b[39mis_encoder_decoder,\n\u001b[1;32m   2219\u001b[0m         \u001b[38;5;241m*\u001b[39m\u001b[38;5;241m*\u001b[39mmodel_kwargs,\n\u001b[1;32m   2220\u001b[0m     )\n\u001b[1;32m   2222\u001b[0m     \u001b[38;5;66;03m# 12. run sample (it degenerates to greedy search when `generation_config.do_sample=False`)\u001b[39;00m\n\u001b[0;32m-> 2223\u001b[0m     result \u001b[38;5;241m=\u001b[39m \u001b[38;5;28;43mself\u001b[39;49m\u001b[38;5;241;43m.\u001b[39;49m\u001b[43m_sample\u001b[49m\u001b[43m(\u001b[49m\n\u001b[1;32m   2224\u001b[0m \u001b[43m        \u001b[49m\u001b[43minput_ids\u001b[49m\u001b[43m,\u001b[49m\n\u001b[1;32m   2225\u001b[0m \u001b[43m        \u001b[49m\u001b[43mlogits_processor\u001b[49m\u001b[38;5;241;43m=\u001b[39;49m\u001b[43mprepared_logits_processor\u001b[49m\u001b[43m,\u001b[49m\n\u001b[1;32m   2226\u001b[0m \u001b[43m        \u001b[49m\u001b[43mstopping_criteria\u001b[49m\u001b[38;5;241;43m=\u001b[39;49m\u001b[43mprepared_stopping_criteria\u001b[49m\u001b[43m,\u001b[49m\n\u001b[1;32m   2227\u001b[0m \u001b[43m        \u001b[49m\u001b[43mgeneration_config\u001b[49m\u001b[38;5;241;43m=\u001b[39;49m\u001b[43mgeneration_config\u001b[49m\u001b[43m,\u001b[49m\n\u001b[1;32m   2228\u001b[0m \u001b[43m        \u001b[49m\u001b[43msynced_gpus\u001b[49m\u001b[38;5;241;43m=\u001b[39;49m\u001b[43msynced_gpus\u001b[49m\u001b[43m,\u001b[49m\n\u001b[1;32m   2229\u001b[0m \u001b[43m        \u001b[49m\u001b[43mstreamer\u001b[49m\u001b[38;5;241;43m=\u001b[39;49m\u001b[43mstreamer\u001b[49m\u001b[43m,\u001b[49m\n\u001b[1;32m   2230\u001b[0m \u001b[43m        \u001b[49m\u001b[38;5;241;43m*\u001b[39;49m\u001b[38;5;241;43m*\u001b[39;49m\u001b[43mmodel_kwargs\u001b[49m\u001b[43m,\u001b[49m\n\u001b[1;32m   2231\u001b[0m \u001b[43m    \u001b[49m\u001b[43m)\u001b[49m\n\u001b[1;32m   2233\u001b[0m \u001b[38;5;28;01melif\u001b[39;00m generation_mode \u001b[38;5;129;01min\u001b[39;00m (GenerationMode\u001b[38;5;241m.\u001b[39mBEAM_SAMPLE, GenerationMode\u001b[38;5;241m.\u001b[39mBEAM_SEARCH):\n\u001b[1;32m   2234\u001b[0m     \u001b[38;5;66;03m# 11. prepare beam search scorer\u001b[39;00m\n\u001b[1;32m   2235\u001b[0m     beam_scorer \u001b[38;5;241m=\u001b[39m BeamSearchScorer(\n\u001b[1;32m   2236\u001b[0m         batch_size\u001b[38;5;241m=\u001b[39mbatch_size,\n\u001b[1;32m   2237\u001b[0m         num_beams\u001b[38;5;241m=\u001b[39mgeneration_config\u001b[38;5;241m.\u001b[39mnum_beams,\n\u001b[0;32m   (...)\u001b[0m\n\u001b[1;32m   2242\u001b[0m         max_length\u001b[38;5;241m=\u001b[39mgeneration_config\u001b[38;5;241m.\u001b[39mmax_length,\n\u001b[1;32m   2243\u001b[0m     )\n",
      "File \u001b[0;32m~/mats/.venv/lib/python3.11/site-packages/transformers/generation/utils.py:3211\u001b[0m, in \u001b[0;36mGenerationMixin._sample\u001b[0;34m(self, input_ids, logits_processor, stopping_criteria, generation_config, synced_gpus, streamer, **model_kwargs)\u001b[0m\n\u001b[1;32m   3208\u001b[0m model_inputs\u001b[38;5;241m.\u001b[39mupdate({\u001b[38;5;124m\"\u001b[39m\u001b[38;5;124moutput_hidden_states\u001b[39m\u001b[38;5;124m\"\u001b[39m: output_hidden_states} \u001b[38;5;28;01mif\u001b[39;00m output_hidden_states \u001b[38;5;28;01melse\u001b[39;00m {})\n\u001b[1;32m   3210\u001b[0m \u001b[38;5;28;01mif\u001b[39;00m is_prefill:\n\u001b[0;32m-> 3211\u001b[0m     outputs \u001b[38;5;241m=\u001b[39m \u001b[38;5;28;43mself\u001b[39;49m\u001b[43m(\u001b[49m\u001b[38;5;241;43m*\u001b[39;49m\u001b[38;5;241;43m*\u001b[39;49m\u001b[43mmodel_inputs\u001b[49m\u001b[43m,\u001b[49m\u001b[43m \u001b[49m\u001b[43mreturn_dict\u001b[49m\u001b[38;5;241;43m=\u001b[39;49m\u001b[38;5;28;43;01mTrue\u001b[39;49;00m\u001b[43m)\u001b[49m\n\u001b[1;32m   3212\u001b[0m     is_prefill \u001b[38;5;241m=\u001b[39m \u001b[38;5;28;01mFalse\u001b[39;00m\n\u001b[1;32m   3213\u001b[0m \u001b[38;5;28;01melse\u001b[39;00m:\n",
      "File \u001b[0;32m~/mats/.venv/lib/python3.11/site-packages/torch/nn/modules/module.py:1739\u001b[0m, in \u001b[0;36mModule._wrapped_call_impl\u001b[0;34m(self, *args, **kwargs)\u001b[0m\n\u001b[1;32m   1737\u001b[0m     \u001b[38;5;28;01mreturn\u001b[39;00m \u001b[38;5;28mself\u001b[39m\u001b[38;5;241m.\u001b[39m_compiled_call_impl(\u001b[38;5;241m*\u001b[39margs, \u001b[38;5;241m*\u001b[39m\u001b[38;5;241m*\u001b[39mkwargs)  \u001b[38;5;66;03m# type: ignore[misc]\u001b[39;00m\n\u001b[1;32m   1738\u001b[0m \u001b[38;5;28;01melse\u001b[39;00m:\n\u001b[0;32m-> 1739\u001b[0m     \u001b[38;5;28;01mreturn\u001b[39;00m \u001b[38;5;28;43mself\u001b[39;49m\u001b[38;5;241;43m.\u001b[39;49m\u001b[43m_call_impl\u001b[49m\u001b[43m(\u001b[49m\u001b[38;5;241;43m*\u001b[39;49m\u001b[43margs\u001b[49m\u001b[43m,\u001b[49m\u001b[43m \u001b[49m\u001b[38;5;241;43m*\u001b[39;49m\u001b[38;5;241;43m*\u001b[39;49m\u001b[43mkwargs\u001b[49m\u001b[43m)\u001b[49m\n",
      "File \u001b[0;32m~/mats/.venv/lib/python3.11/site-packages/torch/nn/modules/module.py:1750\u001b[0m, in \u001b[0;36mModule._call_impl\u001b[0;34m(self, *args, **kwargs)\u001b[0m\n\u001b[1;32m   1745\u001b[0m \u001b[38;5;66;03m# If we don't have any hooks, we want to skip the rest of the logic in\u001b[39;00m\n\u001b[1;32m   1746\u001b[0m \u001b[38;5;66;03m# this function, and just call forward.\u001b[39;00m\n\u001b[1;32m   1747\u001b[0m \u001b[38;5;28;01mif\u001b[39;00m \u001b[38;5;129;01mnot\u001b[39;00m (\u001b[38;5;28mself\u001b[39m\u001b[38;5;241m.\u001b[39m_backward_hooks \u001b[38;5;129;01mor\u001b[39;00m \u001b[38;5;28mself\u001b[39m\u001b[38;5;241m.\u001b[39m_backward_pre_hooks \u001b[38;5;129;01mor\u001b[39;00m \u001b[38;5;28mself\u001b[39m\u001b[38;5;241m.\u001b[39m_forward_hooks \u001b[38;5;129;01mor\u001b[39;00m \u001b[38;5;28mself\u001b[39m\u001b[38;5;241m.\u001b[39m_forward_pre_hooks\n\u001b[1;32m   1748\u001b[0m         \u001b[38;5;129;01mor\u001b[39;00m _global_backward_pre_hooks \u001b[38;5;129;01mor\u001b[39;00m _global_backward_hooks\n\u001b[1;32m   1749\u001b[0m         \u001b[38;5;129;01mor\u001b[39;00m _global_forward_hooks \u001b[38;5;129;01mor\u001b[39;00m _global_forward_pre_hooks):\n\u001b[0;32m-> 1750\u001b[0m     \u001b[38;5;28;01mreturn\u001b[39;00m \u001b[43mforward_call\u001b[49m\u001b[43m(\u001b[49m\u001b[38;5;241;43m*\u001b[39;49m\u001b[43margs\u001b[49m\u001b[43m,\u001b[49m\u001b[43m \u001b[49m\u001b[38;5;241;43m*\u001b[39;49m\u001b[38;5;241;43m*\u001b[39;49m\u001b[43mkwargs\u001b[49m\u001b[43m)\u001b[49m\n\u001b[1;32m   1752\u001b[0m result \u001b[38;5;241m=\u001b[39m \u001b[38;5;28;01mNone\u001b[39;00m\n\u001b[1;32m   1753\u001b[0m called_always_called_hooks \u001b[38;5;241m=\u001b[39m \u001b[38;5;28mset\u001b[39m()\n",
      "File \u001b[0;32m~/mats/.venv/lib/python3.11/site-packages/transformers/utils/deprecation.py:172\u001b[0m, in \u001b[0;36mdeprecate_kwarg.<locals>.wrapper.<locals>.wrapped_func\u001b[0;34m(*args, **kwargs)\u001b[0m\n\u001b[1;32m    168\u001b[0m \u001b[38;5;28;01melif\u001b[39;00m minimum_action \u001b[38;5;129;01min\u001b[39;00m (Action\u001b[38;5;241m.\u001b[39mNOTIFY, Action\u001b[38;5;241m.\u001b[39mNOTIFY_ALWAYS) \u001b[38;5;129;01mand\u001b[39;00m \u001b[38;5;129;01mnot\u001b[39;00m is_torchdynamo_compiling():\n\u001b[1;32m    169\u001b[0m     \u001b[38;5;66;03m# DeprecationWarning is ignored by default, so we use FutureWarning instead\u001b[39;00m\n\u001b[1;32m    170\u001b[0m     warnings\u001b[38;5;241m.\u001b[39mwarn(message, \u001b[38;5;167;01mFutureWarning\u001b[39;00m, stacklevel\u001b[38;5;241m=\u001b[39m\u001b[38;5;241m2\u001b[39m)\n\u001b[0;32m--> 172\u001b[0m \u001b[38;5;28;01mreturn\u001b[39;00m \u001b[43mfunc\u001b[49m\u001b[43m(\u001b[49m\u001b[38;5;241;43m*\u001b[39;49m\u001b[43margs\u001b[49m\u001b[43m,\u001b[49m\u001b[43m \u001b[49m\u001b[38;5;241;43m*\u001b[39;49m\u001b[38;5;241;43m*\u001b[39;49m\u001b[43mkwargs\u001b[49m\u001b[43m)\u001b[49m\n",
      "File \u001b[0;32m~/mats/.venv/lib/python3.11/site-packages/transformers/models/qwen2/modeling_qwen2.py:856\u001b[0m, in \u001b[0;36mQwen2ForCausalLM.forward\u001b[0;34m(self, input_ids, attention_mask, position_ids, past_key_values, inputs_embeds, labels, use_cache, output_attentions, output_hidden_states, return_dict, cache_position, logits_to_keep, **kwargs)\u001b[0m\n\u001b[1;32m    853\u001b[0m return_dict \u001b[38;5;241m=\u001b[39m return_dict \u001b[38;5;28;01mif\u001b[39;00m return_dict \u001b[38;5;129;01mis\u001b[39;00m \u001b[38;5;129;01mnot\u001b[39;00m \u001b[38;5;28;01mNone\u001b[39;00m \u001b[38;5;28;01melse\u001b[39;00m \u001b[38;5;28mself\u001b[39m\u001b[38;5;241m.\u001b[39mconfig\u001b[38;5;241m.\u001b[39muse_return_dict\n\u001b[1;32m    855\u001b[0m \u001b[38;5;66;03m# decoder outputs consists of (dec_features, layer_state, dec_hidden, dec_attn)\u001b[39;00m\n\u001b[0;32m--> 856\u001b[0m outputs \u001b[38;5;241m=\u001b[39m \u001b[38;5;28;43mself\u001b[39;49m\u001b[38;5;241;43m.\u001b[39;49m\u001b[43mmodel\u001b[49m\u001b[43m(\u001b[49m\n\u001b[1;32m    857\u001b[0m \u001b[43m    \u001b[49m\u001b[43minput_ids\u001b[49m\u001b[38;5;241;43m=\u001b[39;49m\u001b[43minput_ids\u001b[49m\u001b[43m,\u001b[49m\n\u001b[1;32m    858\u001b[0m \u001b[43m    \u001b[49m\u001b[43mattention_mask\u001b[49m\u001b[38;5;241;43m=\u001b[39;49m\u001b[43mattention_mask\u001b[49m\u001b[43m,\u001b[49m\n\u001b[1;32m    859\u001b[0m \u001b[43m    \u001b[49m\u001b[43mposition_ids\u001b[49m\u001b[38;5;241;43m=\u001b[39;49m\u001b[43mposition_ids\u001b[49m\u001b[43m,\u001b[49m\n\u001b[1;32m    860\u001b[0m \u001b[43m    \u001b[49m\u001b[43mpast_key_values\u001b[49m\u001b[38;5;241;43m=\u001b[39;49m\u001b[43mpast_key_values\u001b[49m\u001b[43m,\u001b[49m\n\u001b[1;32m    861\u001b[0m \u001b[43m    \u001b[49m\u001b[43minputs_embeds\u001b[49m\u001b[38;5;241;43m=\u001b[39;49m\u001b[43minputs_embeds\u001b[49m\u001b[43m,\u001b[49m\n\u001b[1;32m    862\u001b[0m \u001b[43m    \u001b[49m\u001b[43muse_cache\u001b[49m\u001b[38;5;241;43m=\u001b[39;49m\u001b[43muse_cache\u001b[49m\u001b[43m,\u001b[49m\n\u001b[1;32m    863\u001b[0m \u001b[43m    \u001b[49m\u001b[43moutput_attentions\u001b[49m\u001b[38;5;241;43m=\u001b[39;49m\u001b[43moutput_attentions\u001b[49m\u001b[43m,\u001b[49m\n\u001b[1;32m    864\u001b[0m \u001b[43m    \u001b[49m\u001b[43moutput_hidden_states\u001b[49m\u001b[38;5;241;43m=\u001b[39;49m\u001b[43moutput_hidden_states\u001b[49m\u001b[43m,\u001b[49m\n\u001b[1;32m    865\u001b[0m \u001b[43m    \u001b[49m\u001b[43mreturn_dict\u001b[49m\u001b[38;5;241;43m=\u001b[39;49m\u001b[43mreturn_dict\u001b[49m\u001b[43m,\u001b[49m\n\u001b[1;32m    866\u001b[0m \u001b[43m    \u001b[49m\u001b[43mcache_position\u001b[49m\u001b[38;5;241;43m=\u001b[39;49m\u001b[43mcache_position\u001b[49m\u001b[43m,\u001b[49m\n\u001b[1;32m    867\u001b[0m \u001b[43m    \u001b[49m\u001b[38;5;241;43m*\u001b[39;49m\u001b[38;5;241;43m*\u001b[39;49m\u001b[43mkwargs\u001b[49m\u001b[43m,\u001b[49m\n\u001b[1;32m    868\u001b[0m \u001b[43m\u001b[49m\u001b[43m)\u001b[49m\n\u001b[1;32m    870\u001b[0m hidden_states \u001b[38;5;241m=\u001b[39m outputs[\u001b[38;5;241m0\u001b[39m]\n\u001b[1;32m    871\u001b[0m \u001b[38;5;66;03m# Only compute necessary logits, and do not upcast them to float if we are not computing the loss\u001b[39;00m\n",
      "File \u001b[0;32m~/mats/.venv/lib/python3.11/site-packages/torch/nn/modules/module.py:1739\u001b[0m, in \u001b[0;36mModule._wrapped_call_impl\u001b[0;34m(self, *args, **kwargs)\u001b[0m\n\u001b[1;32m   1737\u001b[0m     \u001b[38;5;28;01mreturn\u001b[39;00m \u001b[38;5;28mself\u001b[39m\u001b[38;5;241m.\u001b[39m_compiled_call_impl(\u001b[38;5;241m*\u001b[39margs, \u001b[38;5;241m*\u001b[39m\u001b[38;5;241m*\u001b[39mkwargs)  \u001b[38;5;66;03m# type: ignore[misc]\u001b[39;00m\n\u001b[1;32m   1738\u001b[0m \u001b[38;5;28;01melse\u001b[39;00m:\n\u001b[0;32m-> 1739\u001b[0m     \u001b[38;5;28;01mreturn\u001b[39;00m \u001b[38;5;28;43mself\u001b[39;49m\u001b[38;5;241;43m.\u001b[39;49m\u001b[43m_call_impl\u001b[49m\u001b[43m(\u001b[49m\u001b[38;5;241;43m*\u001b[39;49m\u001b[43margs\u001b[49m\u001b[43m,\u001b[49m\u001b[43m \u001b[49m\u001b[38;5;241;43m*\u001b[39;49m\u001b[38;5;241;43m*\u001b[39;49m\u001b[43mkwargs\u001b[49m\u001b[43m)\u001b[49m\n",
      "File \u001b[0;32m~/mats/.venv/lib/python3.11/site-packages/torch/nn/modules/module.py:1750\u001b[0m, in \u001b[0;36mModule._call_impl\u001b[0;34m(self, *args, **kwargs)\u001b[0m\n\u001b[1;32m   1745\u001b[0m \u001b[38;5;66;03m# If we don't have any hooks, we want to skip the rest of the logic in\u001b[39;00m\n\u001b[1;32m   1746\u001b[0m \u001b[38;5;66;03m# this function, and just call forward.\u001b[39;00m\n\u001b[1;32m   1747\u001b[0m \u001b[38;5;28;01mif\u001b[39;00m \u001b[38;5;129;01mnot\u001b[39;00m (\u001b[38;5;28mself\u001b[39m\u001b[38;5;241m.\u001b[39m_backward_hooks \u001b[38;5;129;01mor\u001b[39;00m \u001b[38;5;28mself\u001b[39m\u001b[38;5;241m.\u001b[39m_backward_pre_hooks \u001b[38;5;129;01mor\u001b[39;00m \u001b[38;5;28mself\u001b[39m\u001b[38;5;241m.\u001b[39m_forward_hooks \u001b[38;5;129;01mor\u001b[39;00m \u001b[38;5;28mself\u001b[39m\u001b[38;5;241m.\u001b[39m_forward_pre_hooks\n\u001b[1;32m   1748\u001b[0m         \u001b[38;5;129;01mor\u001b[39;00m _global_backward_pre_hooks \u001b[38;5;129;01mor\u001b[39;00m _global_backward_hooks\n\u001b[1;32m   1749\u001b[0m         \u001b[38;5;129;01mor\u001b[39;00m _global_forward_hooks \u001b[38;5;129;01mor\u001b[39;00m _global_forward_pre_hooks):\n\u001b[0;32m-> 1750\u001b[0m     \u001b[38;5;28;01mreturn\u001b[39;00m \u001b[43mforward_call\u001b[49m\u001b[43m(\u001b[49m\u001b[38;5;241;43m*\u001b[39;49m\u001b[43margs\u001b[49m\u001b[43m,\u001b[49m\u001b[43m \u001b[49m\u001b[38;5;241;43m*\u001b[39;49m\u001b[38;5;241;43m*\u001b[39;49m\u001b[43mkwargs\u001b[49m\u001b[43m)\u001b[49m\n\u001b[1;32m   1752\u001b[0m result \u001b[38;5;241m=\u001b[39m \u001b[38;5;28;01mNone\u001b[39;00m\n\u001b[1;32m   1753\u001b[0m called_always_called_hooks \u001b[38;5;241m=\u001b[39m \u001b[38;5;28mset\u001b[39m()\n",
      "File \u001b[0;32m~/mats/.venv/lib/python3.11/site-packages/transformers/models/qwen2/modeling_qwen2.py:579\u001b[0m, in \u001b[0;36mQwen2Model.forward\u001b[0;34m(self, input_ids, attention_mask, position_ids, past_key_values, inputs_embeds, use_cache, output_attentions, output_hidden_states, return_dict, cache_position, **flash_attn_kwargs)\u001b[0m\n\u001b[1;32m    567\u001b[0m     layer_outputs \u001b[38;5;241m=\u001b[39m \u001b[38;5;28mself\u001b[39m\u001b[38;5;241m.\u001b[39m_gradient_checkpointing_func(\n\u001b[1;32m    568\u001b[0m         decoder_layer\u001b[38;5;241m.\u001b[39m\u001b[38;5;21m__call__\u001b[39m,\n\u001b[1;32m    569\u001b[0m         hidden_states,\n\u001b[0;32m   (...)\u001b[0m\n\u001b[1;32m    576\u001b[0m         position_embeddings,\n\u001b[1;32m    577\u001b[0m     )\n\u001b[1;32m    578\u001b[0m \u001b[38;5;28;01melse\u001b[39;00m:\n\u001b[0;32m--> 579\u001b[0m     layer_outputs \u001b[38;5;241m=\u001b[39m \u001b[43mdecoder_layer\u001b[49m\u001b[43m(\u001b[49m\n\u001b[1;32m    580\u001b[0m \u001b[43m        \u001b[49m\u001b[43mhidden_states\u001b[49m\u001b[43m,\u001b[49m\n\u001b[1;32m    581\u001b[0m \u001b[43m        \u001b[49m\u001b[43mattention_mask\u001b[49m\u001b[38;5;241;43m=\u001b[39;49m\u001b[43mcausal_mask\u001b[49m\u001b[43m,\u001b[49m\n\u001b[1;32m    582\u001b[0m \u001b[43m        \u001b[49m\u001b[43mposition_ids\u001b[49m\u001b[38;5;241;43m=\u001b[39;49m\u001b[43mposition_ids\u001b[49m\u001b[43m,\u001b[49m\n\u001b[1;32m    583\u001b[0m \u001b[43m        \u001b[49m\u001b[43mpast_key_value\u001b[49m\u001b[38;5;241;43m=\u001b[39;49m\u001b[43mpast_key_values\u001b[49m\u001b[43m,\u001b[49m\n\u001b[1;32m    584\u001b[0m \u001b[43m        \u001b[49m\u001b[43moutput_attentions\u001b[49m\u001b[38;5;241;43m=\u001b[39;49m\u001b[43moutput_attentions\u001b[49m\u001b[43m,\u001b[49m\n\u001b[1;32m    585\u001b[0m \u001b[43m        \u001b[49m\u001b[43muse_cache\u001b[49m\u001b[38;5;241;43m=\u001b[39;49m\u001b[43muse_cache\u001b[49m\u001b[43m,\u001b[49m\n\u001b[1;32m    586\u001b[0m \u001b[43m        \u001b[49m\u001b[43mcache_position\u001b[49m\u001b[38;5;241;43m=\u001b[39;49m\u001b[43mcache_position\u001b[49m\u001b[43m,\u001b[49m\n\u001b[1;32m    587\u001b[0m \u001b[43m        \u001b[49m\u001b[43mposition_embeddings\u001b[49m\u001b[38;5;241;43m=\u001b[39;49m\u001b[43mposition_embeddings\u001b[49m\u001b[43m,\u001b[49m\n\u001b[1;32m    588\u001b[0m \u001b[43m        \u001b[49m\u001b[38;5;241;43m*\u001b[39;49m\u001b[38;5;241;43m*\u001b[39;49m\u001b[43mflash_attn_kwargs\u001b[49m\u001b[43m,\u001b[49m\n\u001b[1;32m    589\u001b[0m \u001b[43m    \u001b[49m\u001b[43m)\u001b[49m\n\u001b[1;32m    591\u001b[0m hidden_states \u001b[38;5;241m=\u001b[39m layer_outputs[\u001b[38;5;241m0\u001b[39m]\n\u001b[1;32m    593\u001b[0m \u001b[38;5;28;01mif\u001b[39;00m output_attentions:\n",
      "File \u001b[0;32m~/mats/.venv/lib/python3.11/site-packages/torch/nn/modules/module.py:1739\u001b[0m, in \u001b[0;36mModule._wrapped_call_impl\u001b[0;34m(self, *args, **kwargs)\u001b[0m\n\u001b[1;32m   1737\u001b[0m     \u001b[38;5;28;01mreturn\u001b[39;00m \u001b[38;5;28mself\u001b[39m\u001b[38;5;241m.\u001b[39m_compiled_call_impl(\u001b[38;5;241m*\u001b[39margs, \u001b[38;5;241m*\u001b[39m\u001b[38;5;241m*\u001b[39mkwargs)  \u001b[38;5;66;03m# type: ignore[misc]\u001b[39;00m\n\u001b[1;32m   1738\u001b[0m \u001b[38;5;28;01melse\u001b[39;00m:\n\u001b[0;32m-> 1739\u001b[0m     \u001b[38;5;28;01mreturn\u001b[39;00m \u001b[38;5;28;43mself\u001b[39;49m\u001b[38;5;241;43m.\u001b[39;49m\u001b[43m_call_impl\u001b[49m\u001b[43m(\u001b[49m\u001b[38;5;241;43m*\u001b[39;49m\u001b[43margs\u001b[49m\u001b[43m,\u001b[49m\u001b[43m \u001b[49m\u001b[38;5;241;43m*\u001b[39;49m\u001b[38;5;241;43m*\u001b[39;49m\u001b[43mkwargs\u001b[49m\u001b[43m)\u001b[49m\n",
      "File \u001b[0;32m~/mats/.venv/lib/python3.11/site-packages/torch/nn/modules/module.py:1750\u001b[0m, in \u001b[0;36mModule._call_impl\u001b[0;34m(self, *args, **kwargs)\u001b[0m\n\u001b[1;32m   1745\u001b[0m \u001b[38;5;66;03m# If we don't have any hooks, we want to skip the rest of the logic in\u001b[39;00m\n\u001b[1;32m   1746\u001b[0m \u001b[38;5;66;03m# this function, and just call forward.\u001b[39;00m\n\u001b[1;32m   1747\u001b[0m \u001b[38;5;28;01mif\u001b[39;00m \u001b[38;5;129;01mnot\u001b[39;00m (\u001b[38;5;28mself\u001b[39m\u001b[38;5;241m.\u001b[39m_backward_hooks \u001b[38;5;129;01mor\u001b[39;00m \u001b[38;5;28mself\u001b[39m\u001b[38;5;241m.\u001b[39m_backward_pre_hooks \u001b[38;5;129;01mor\u001b[39;00m \u001b[38;5;28mself\u001b[39m\u001b[38;5;241m.\u001b[39m_forward_hooks \u001b[38;5;129;01mor\u001b[39;00m \u001b[38;5;28mself\u001b[39m\u001b[38;5;241m.\u001b[39m_forward_pre_hooks\n\u001b[1;32m   1748\u001b[0m         \u001b[38;5;129;01mor\u001b[39;00m _global_backward_pre_hooks \u001b[38;5;129;01mor\u001b[39;00m _global_backward_hooks\n\u001b[1;32m   1749\u001b[0m         \u001b[38;5;129;01mor\u001b[39;00m _global_forward_hooks \u001b[38;5;129;01mor\u001b[39;00m _global_forward_pre_hooks):\n\u001b[0;32m-> 1750\u001b[0m     \u001b[38;5;28;01mreturn\u001b[39;00m \u001b[43mforward_call\u001b[49m\u001b[43m(\u001b[49m\u001b[38;5;241;43m*\u001b[39;49m\u001b[43margs\u001b[49m\u001b[43m,\u001b[49m\u001b[43m \u001b[49m\u001b[38;5;241;43m*\u001b[39;49m\u001b[38;5;241;43m*\u001b[39;49m\u001b[43mkwargs\u001b[49m\u001b[43m)\u001b[49m\n\u001b[1;32m   1752\u001b[0m result \u001b[38;5;241m=\u001b[39m \u001b[38;5;28;01mNone\u001b[39;00m\n\u001b[1;32m   1753\u001b[0m called_always_called_hooks \u001b[38;5;241m=\u001b[39m \u001b[38;5;28mset\u001b[39m()\n",
      "File \u001b[0;32m~/mats/.venv/lib/python3.11/site-packages/transformers/models/qwen2/modeling_qwen2.py:260\u001b[0m, in \u001b[0;36mQwen2DecoderLayer.forward\u001b[0;34m(self, hidden_states, attention_mask, position_ids, past_key_value, output_attentions, use_cache, cache_position, position_embeddings, **kwargs)\u001b[0m\n\u001b[1;32m    257\u001b[0m hidden_states \u001b[38;5;241m=\u001b[39m \u001b[38;5;28mself\u001b[39m\u001b[38;5;241m.\u001b[39minput_layernorm(hidden_states)\n\u001b[1;32m    259\u001b[0m \u001b[38;5;66;03m# Self Attention\u001b[39;00m\n\u001b[0;32m--> 260\u001b[0m hidden_states, self_attn_weights \u001b[38;5;241m=\u001b[39m \u001b[38;5;28;43mself\u001b[39;49m\u001b[38;5;241;43m.\u001b[39;49m\u001b[43mself_attn\u001b[49m\u001b[43m(\u001b[49m\n\u001b[1;32m    261\u001b[0m \u001b[43m    \u001b[49m\u001b[43mhidden_states\u001b[49m\u001b[38;5;241;43m=\u001b[39;49m\u001b[43mhidden_states\u001b[49m\u001b[43m,\u001b[49m\n\u001b[1;32m    262\u001b[0m \u001b[43m    \u001b[49m\u001b[43mattention_mask\u001b[49m\u001b[38;5;241;43m=\u001b[39;49m\u001b[43mattention_mask\u001b[49m\u001b[43m,\u001b[49m\n\u001b[1;32m    263\u001b[0m \u001b[43m    \u001b[49m\u001b[43mposition_ids\u001b[49m\u001b[38;5;241;43m=\u001b[39;49m\u001b[43mposition_ids\u001b[49m\u001b[43m,\u001b[49m\n\u001b[1;32m    264\u001b[0m \u001b[43m    \u001b[49m\u001b[43mpast_key_value\u001b[49m\u001b[38;5;241;43m=\u001b[39;49m\u001b[43mpast_key_value\u001b[49m\u001b[43m,\u001b[49m\n\u001b[1;32m    265\u001b[0m \u001b[43m    \u001b[49m\u001b[43moutput_attentions\u001b[49m\u001b[38;5;241;43m=\u001b[39;49m\u001b[43moutput_attentions\u001b[49m\u001b[43m,\u001b[49m\n\u001b[1;32m    266\u001b[0m \u001b[43m    \u001b[49m\u001b[43muse_cache\u001b[49m\u001b[38;5;241;43m=\u001b[39;49m\u001b[43muse_cache\u001b[49m\u001b[43m,\u001b[49m\n\u001b[1;32m    267\u001b[0m \u001b[43m    \u001b[49m\u001b[43mcache_position\u001b[49m\u001b[38;5;241;43m=\u001b[39;49m\u001b[43mcache_position\u001b[49m\u001b[43m,\u001b[49m\n\u001b[1;32m    268\u001b[0m \u001b[43m    \u001b[49m\u001b[43mposition_embeddings\u001b[49m\u001b[38;5;241;43m=\u001b[39;49m\u001b[43mposition_embeddings\u001b[49m\u001b[43m,\u001b[49m\n\u001b[1;32m    269\u001b[0m \u001b[43m    \u001b[49m\u001b[38;5;241;43m*\u001b[39;49m\u001b[38;5;241;43m*\u001b[39;49m\u001b[43mkwargs\u001b[49m\u001b[43m,\u001b[49m\n\u001b[1;32m    270\u001b[0m \u001b[43m\u001b[49m\u001b[43m)\u001b[49m\n\u001b[1;32m    271\u001b[0m hidden_states \u001b[38;5;241m=\u001b[39m residual \u001b[38;5;241m+\u001b[39m hidden_states\n\u001b[1;32m    273\u001b[0m \u001b[38;5;66;03m# Fully Connected\u001b[39;00m\n",
      "File \u001b[0;32m~/mats/.venv/lib/python3.11/site-packages/torch/nn/modules/module.py:1739\u001b[0m, in \u001b[0;36mModule._wrapped_call_impl\u001b[0;34m(self, *args, **kwargs)\u001b[0m\n\u001b[1;32m   1737\u001b[0m     \u001b[38;5;28;01mreturn\u001b[39;00m \u001b[38;5;28mself\u001b[39m\u001b[38;5;241m.\u001b[39m_compiled_call_impl(\u001b[38;5;241m*\u001b[39margs, \u001b[38;5;241m*\u001b[39m\u001b[38;5;241m*\u001b[39mkwargs)  \u001b[38;5;66;03m# type: ignore[misc]\u001b[39;00m\n\u001b[1;32m   1738\u001b[0m \u001b[38;5;28;01melse\u001b[39;00m:\n\u001b[0;32m-> 1739\u001b[0m     \u001b[38;5;28;01mreturn\u001b[39;00m \u001b[38;5;28;43mself\u001b[39;49m\u001b[38;5;241;43m.\u001b[39;49m\u001b[43m_call_impl\u001b[49m\u001b[43m(\u001b[49m\u001b[38;5;241;43m*\u001b[39;49m\u001b[43margs\u001b[49m\u001b[43m,\u001b[49m\u001b[43m \u001b[49m\u001b[38;5;241;43m*\u001b[39;49m\u001b[38;5;241;43m*\u001b[39;49m\u001b[43mkwargs\u001b[49m\u001b[43m)\u001b[49m\n",
      "File \u001b[0;32m~/mats/.venv/lib/python3.11/site-packages/torch/nn/modules/module.py:1750\u001b[0m, in \u001b[0;36mModule._call_impl\u001b[0;34m(self, *args, **kwargs)\u001b[0m\n\u001b[1;32m   1745\u001b[0m \u001b[38;5;66;03m# If we don't have any hooks, we want to skip the rest of the logic in\u001b[39;00m\n\u001b[1;32m   1746\u001b[0m \u001b[38;5;66;03m# this function, and just call forward.\u001b[39;00m\n\u001b[1;32m   1747\u001b[0m \u001b[38;5;28;01mif\u001b[39;00m \u001b[38;5;129;01mnot\u001b[39;00m (\u001b[38;5;28mself\u001b[39m\u001b[38;5;241m.\u001b[39m_backward_hooks \u001b[38;5;129;01mor\u001b[39;00m \u001b[38;5;28mself\u001b[39m\u001b[38;5;241m.\u001b[39m_backward_pre_hooks \u001b[38;5;129;01mor\u001b[39;00m \u001b[38;5;28mself\u001b[39m\u001b[38;5;241m.\u001b[39m_forward_hooks \u001b[38;5;129;01mor\u001b[39;00m \u001b[38;5;28mself\u001b[39m\u001b[38;5;241m.\u001b[39m_forward_pre_hooks\n\u001b[1;32m   1748\u001b[0m         \u001b[38;5;129;01mor\u001b[39;00m _global_backward_pre_hooks \u001b[38;5;129;01mor\u001b[39;00m _global_backward_hooks\n\u001b[1;32m   1749\u001b[0m         \u001b[38;5;129;01mor\u001b[39;00m _global_forward_hooks \u001b[38;5;129;01mor\u001b[39;00m _global_forward_pre_hooks):\n\u001b[0;32m-> 1750\u001b[0m     \u001b[38;5;28;01mreturn\u001b[39;00m \u001b[43mforward_call\u001b[49m\u001b[43m(\u001b[49m\u001b[38;5;241;43m*\u001b[39;49m\u001b[43margs\u001b[49m\u001b[43m,\u001b[49m\u001b[43m \u001b[49m\u001b[38;5;241;43m*\u001b[39;49m\u001b[38;5;241;43m*\u001b[39;49m\u001b[43mkwargs\u001b[49m\u001b[43m)\u001b[49m\n\u001b[1;32m   1752\u001b[0m result \u001b[38;5;241m=\u001b[39m \u001b[38;5;28;01mNone\u001b[39;00m\n\u001b[1;32m   1753\u001b[0m called_always_called_hooks \u001b[38;5;241m=\u001b[39m \u001b[38;5;28mset\u001b[39m()\n",
      "File \u001b[0;32m~/mats/.venv/lib/python3.11/site-packages/transformers/models/qwen2/modeling_qwen2.py:192\u001b[0m, in \u001b[0;36mQwen2Attention.forward\u001b[0;34m(self, hidden_states, position_embeddings, attention_mask, past_key_value, cache_position, **kwargs)\u001b[0m\n\u001b[1;32m    189\u001b[0m     \u001b[38;5;28;01melse\u001b[39;00m:\n\u001b[1;32m    190\u001b[0m         attention_interface \u001b[38;5;241m=\u001b[39m ALL_ATTENTION_FUNCTIONS[\u001b[38;5;28mself\u001b[39m\u001b[38;5;241m.\u001b[39mconfig\u001b[38;5;241m.\u001b[39m_attn_implementation]\n\u001b[0;32m--> 192\u001b[0m attn_output, attn_weights \u001b[38;5;241m=\u001b[39m \u001b[43mattention_interface\u001b[49m\u001b[43m(\u001b[49m\n\u001b[1;32m    193\u001b[0m \u001b[43m    \u001b[49m\u001b[38;5;28;43mself\u001b[39;49m\u001b[43m,\u001b[49m\n\u001b[1;32m    194\u001b[0m \u001b[43m    \u001b[49m\u001b[43mquery_states\u001b[49m\u001b[43m,\u001b[49m\n\u001b[1;32m    195\u001b[0m \u001b[43m    \u001b[49m\u001b[43mkey_states\u001b[49m\u001b[43m,\u001b[49m\n\u001b[1;32m    196\u001b[0m \u001b[43m    \u001b[49m\u001b[43mvalue_states\u001b[49m\u001b[43m,\u001b[49m\n\u001b[1;32m    197\u001b[0m \u001b[43m    \u001b[49m\u001b[43mattention_mask\u001b[49m\u001b[43m,\u001b[49m\n\u001b[1;32m    198\u001b[0m \u001b[43m    \u001b[49m\u001b[43mdropout\u001b[49m\u001b[38;5;241;43m=\u001b[39;49m\u001b[38;5;241;43m0.0\u001b[39;49m\u001b[43m \u001b[49m\u001b[38;5;28;43;01mif\u001b[39;49;00m\u001b[43m \u001b[49m\u001b[38;5;129;43;01mnot\u001b[39;49;00m\u001b[43m \u001b[49m\u001b[38;5;28;43mself\u001b[39;49m\u001b[38;5;241;43m.\u001b[39;49m\u001b[43mtraining\u001b[49m\u001b[43m \u001b[49m\u001b[38;5;28;43;01melse\u001b[39;49;00m\u001b[43m \u001b[49m\u001b[38;5;28;43mself\u001b[39;49m\u001b[38;5;241;43m.\u001b[39;49m\u001b[43mattention_dropout\u001b[49m\u001b[43m,\u001b[49m\n\u001b[1;32m    199\u001b[0m \u001b[43m    \u001b[49m\u001b[43mscaling\u001b[49m\u001b[38;5;241;43m=\u001b[39;49m\u001b[38;5;28;43mself\u001b[39;49m\u001b[38;5;241;43m.\u001b[39;49m\u001b[43mscaling\u001b[49m\u001b[43m,\u001b[49m\n\u001b[1;32m    200\u001b[0m \u001b[43m    \u001b[49m\u001b[43msliding_window\u001b[49m\u001b[38;5;241;43m=\u001b[39;49m\u001b[43msliding_window\u001b[49m\u001b[43m,\u001b[49m\u001b[43m  \u001b[49m\u001b[38;5;66;43;03m# main diff with Llama\u001b[39;49;00m\n\u001b[1;32m    201\u001b[0m \u001b[43m    \u001b[49m\u001b[38;5;241;43m*\u001b[39;49m\u001b[38;5;241;43m*\u001b[39;49m\u001b[43mkwargs\u001b[49m\u001b[43m,\u001b[49m\n\u001b[1;32m    202\u001b[0m \u001b[43m\u001b[49m\u001b[43m)\u001b[49m\n\u001b[1;32m    204\u001b[0m attn_output \u001b[38;5;241m=\u001b[39m attn_output\u001b[38;5;241m.\u001b[39mreshape(\u001b[38;5;241m*\u001b[39minput_shape, \u001b[38;5;241m-\u001b[39m\u001b[38;5;241m1\u001b[39m)\u001b[38;5;241m.\u001b[39mcontiguous()\n\u001b[1;32m    205\u001b[0m attn_output \u001b[38;5;241m=\u001b[39m \u001b[38;5;28mself\u001b[39m\u001b[38;5;241m.\u001b[39mo_proj(attn_output)\n",
      "File \u001b[0;32m~/mats/.venv/lib/python3.11/site-packages/transformers/integrations/sdpa_attention.py:30\u001b[0m, in \u001b[0;36msdpa_attention_forward\u001b[0;34m(module, query, key, value, attention_mask, dropout, scaling, is_causal, **kwargs)\u001b[0m\n\u001b[1;32m     18\u001b[0m \u001b[38;5;28;01mdef\u001b[39;00m\u001b[38;5;250m \u001b[39m\u001b[38;5;21msdpa_attention_forward\u001b[39m(\n\u001b[1;32m     19\u001b[0m     module: torch\u001b[38;5;241m.\u001b[39mnn\u001b[38;5;241m.\u001b[39mModule,\n\u001b[1;32m     20\u001b[0m     query: torch\u001b[38;5;241m.\u001b[39mTensor,\n\u001b[0;32m   (...)\u001b[0m\n\u001b[1;32m     27\u001b[0m     \u001b[38;5;241m*\u001b[39m\u001b[38;5;241m*\u001b[39mkwargs,\n\u001b[1;32m     28\u001b[0m ) \u001b[38;5;241m-\u001b[39m\u001b[38;5;241m>\u001b[39m Tuple[torch\u001b[38;5;241m.\u001b[39mTensor, \u001b[38;5;28;01mNone\u001b[39;00m]:\n\u001b[1;32m     29\u001b[0m     \u001b[38;5;28;01mif\u001b[39;00m \u001b[38;5;28mhasattr\u001b[39m(module, \u001b[38;5;124m\"\u001b[39m\u001b[38;5;124mnum_key_value_groups\u001b[39m\u001b[38;5;124m\"\u001b[39m):\n\u001b[0;32m---> 30\u001b[0m         key \u001b[38;5;241m=\u001b[39m \u001b[43mrepeat_kv\u001b[49m\u001b[43m(\u001b[49m\u001b[43mkey\u001b[49m\u001b[43m,\u001b[49m\u001b[43m \u001b[49m\u001b[43mmodule\u001b[49m\u001b[38;5;241;43m.\u001b[39;49m\u001b[43mnum_key_value_groups\u001b[49m\u001b[43m)\u001b[49m\n\u001b[1;32m     31\u001b[0m         value \u001b[38;5;241m=\u001b[39m repeat_kv(value, module\u001b[38;5;241m.\u001b[39mnum_key_value_groups)\n\u001b[1;32m     33\u001b[0m     causal_mask \u001b[38;5;241m=\u001b[39m attention_mask\n",
      "File \u001b[0;32m~/mats/.venv/lib/python3.11/site-packages/transformers/integrations/sdpa_attention.py:15\u001b[0m, in \u001b[0;36mrepeat_kv\u001b[0;34m(hidden_states, n_rep)\u001b[0m\n\u001b[1;32m     13\u001b[0m     \u001b[38;5;28;01mreturn\u001b[39;00m hidden_states\n\u001b[1;32m     14\u001b[0m hidden_states \u001b[38;5;241m=\u001b[39m hidden_states[:, :, \u001b[38;5;28;01mNone\u001b[39;00m, :, :]\u001b[38;5;241m.\u001b[39mexpand(batch, num_key_value_heads, n_rep, slen, head_dim)\n\u001b[0;32m---> 15\u001b[0m \u001b[38;5;28;01mreturn\u001b[39;00m \u001b[43mhidden_states\u001b[49m\u001b[38;5;241;43m.\u001b[39;49m\u001b[43mreshape\u001b[49m\u001b[43m(\u001b[49m\u001b[43mbatch\u001b[49m\u001b[43m,\u001b[49m\u001b[43m \u001b[49m\u001b[43mnum_key_value_heads\u001b[49m\u001b[43m \u001b[49m\u001b[38;5;241;43m*\u001b[39;49m\u001b[43m \u001b[49m\u001b[43mn_rep\u001b[49m\u001b[43m,\u001b[49m\u001b[43m \u001b[49m\u001b[43mslen\u001b[49m\u001b[43m,\u001b[49m\u001b[43m \u001b[49m\u001b[43mhead_dim\u001b[49m\u001b[43m)\u001b[49m\n",
      "\u001b[0;31mKeyboardInterrupt\u001b[0m: "
     ]
    }
   ],
   "source": [
    "def regenerate_cot(prompt):\n",
    "    tokens = tokenizer(prompt, return_tensors=\"pt\")\n",
    "    \n",
    "    for i in range(1, tokens['input_ids'].shape[-1]):\n",
    "        new_prompt = generate_text(prompt.replace(\"F\", \"Z\", 1), trim=i, max_new_tokens=i)[0]\n",
    "\n",
    "        print(new_prompt[-100:])\n",
    "\n",
    "\n",
    "regenerate_cot(pregenerated)"
   ]
  },
  {
   "cell_type": "markdown",
   "id": "9ff5ddc1-8cb5-4cd9-8408-59b7c6749750",
   "metadata": {},
   "source": [
    "# Dataset generation\n",
    "\n",
    "For now, because of the speedup, lets generate answers to all of the questions (shuffling labels appropriately)\n",
    "and store them as plaintext.\n",
    "\n",
    "We're going to shuffle labels. \n",
    "\n",
    "We don't need to keep track of which label is the correct one, because we ultimately just want to predict the answer\n",
    "the model will give, rather than the correct answer.\n",
    "\n",
    "The model is giving somewhat erratically formatted responses, so we might need to use an LLM with a restricted output space later on to extract the answer."
   ]
  },
  {
   "cell_type": "code",
   "execution_count": 82,
   "id": "02870b9b-e3ab-4976-80dc-5d60334c6bd1",
   "metadata": {},
   "outputs": [
    {
     "name": "stdout",
     "output_type": "stream",
     "text": [
      "Answer the following multiple choice question, selecting from the answer A through to J. After thinking, reply directly with your answer. \n",
      "Question:\n",
      "\n",
      "Typical advertising regulatory bodies suggest, for example that adverts must not: encourage _________, cause unnecessary ________ or _____, and must not cause _______ offence.\n",
      "\n",
      "Options:\n",
      "\n",
      "A: Safe practices, Distress, Fear, Trivial\n",
      "B: Unsafe practices, Wants, Jealousy, Serious\n",
      "C: Safe practices, Distress, Jealousy, Serious\n",
      "D: Unsafe practices, Wants, Fear, Trivial\n",
      "E: Safe practices, Wants, Jealousy, Trivial\n",
      "F: Safe practices, Wants, Fear, Serious\n",
      "G: Unsafe practices, Distress, Fear, Serious\n",
      "H: Unsafe practices, Distress, Joy, Trivial\n",
      "I: Safe practices, Fear, Jealousy, Trivial\n",
      "\n",
      "Answer:\n",
      "    <think>\n",
      "\n",
      "Answer the following multiple choice question, selecting from the answer A through to J. After thinking, reply directly with your answer. \n",
      "Question:\n",
      "\n",
      "Typical advertising regulatory bodies suggest, for example that adverts must not: encourage _________, cause unnecessary ________ or _____, and must not cause _______ offence.\n",
      "\n",
      "Options:\n",
      "\n",
      "A: Unsafe practices, Distress, Joy, Trivial\n",
      "B: Unsafe practices, Wants, Jealousy, Serious\n",
      "C: Safe practices, Wants, Fear, Serious\n",
      "D: Unsafe practices, Distress, Fear, Serious\n",
      "E: Safe practices, Distress, Jealousy, Serious\n",
      "F: Safe practices, Wants, Jealousy, Trivial\n",
      "G: Safe practices, Fear, Jealousy, Trivial\n",
      "H: Unsafe practices, Wants, Fear, Trivial\n",
      "I: Safe practices, Distress, Fear, Trivial\n",
      "\n",
      "Answer:\n",
      "    <think>\n",
      "\n"
     ]
    }
   ],
   "source": [
    "import random\n",
    "\n",
    "def gen_prompt_shuffled(question):\n",
    "    options = \"\\n\".join([f\"{chr(ord('A') + i)}: {option}\" \n",
    "                         for i, option in enumerate(random.sample(question['options'], len(question['options'])))])\n",
    "    \n",
    "    return f\"\"\"Answer the following multiple choice question, selecting \\\n",
    "from the answer A through to J. After thinking, reply \\\n",
    "directly with your answer. \\\n",
    "\n",
    "Question:\n",
    "\n",
    "{question['question']}\n",
    "\n",
    "Options:\n",
    "\n",
    "{options}\n",
    "\n",
    "Answer:\n",
    "    <think>\\n\"\"\"\n",
    "\n",
    "\n",
    "print(gen_prompt_shuffled(ds['test'][0]))\n",
    "print(gen_prompt_shuffled(ds['test'][0]))"
   ]
  },
  {
   "cell_type": "code",
   "execution_count": 83,
   "id": "99ec8f89-b3d1-467a-b975-a62ffe076e7a",
   "metadata": {},
   "outputs": [
    {
     "data": {
      "text/plain": [
       "Dataset({\n",
       "    features: ['question_id', 'question', 'options', 'answer', 'answer_index', 'cot_content', 'category', 'src'],\n",
       "    num_rows: 12032\n",
       "})"
      ]
     },
     "execution_count": 83,
     "metadata": {},
     "output_type": "execute_result"
    }
   ],
   "source": [
    "ds['test']"
   ]
  },
  {
   "cell_type": "code",
   "execution_count": 84,
   "id": "15566c6e-91ed-4e7a-8dfb-4e4c2944b046",
   "metadata": {},
   "outputs": [
    {
     "data": {
      "text/plain": [
       "{'input_ids': [[151646, 76615, 8915, 64], [151646, 76615, 67]], 'attention_mask': [[1, 1, 1, 1], [1, 1, 1]]}"
      ]
     },
     "execution_count": 84,
     "metadata": {},
     "output_type": "execute_result"
    }
   ],
   "source": [
    "tokenizer([\"asdfwsa\", \"asdfd\"])"
   ]
  },
  {
   "cell_type": "markdown",
   "id": "d6c9f4d7-7057-48b7-bc6c-d6df35801a6e",
   "metadata": {},
   "source": [
    "Try batching, see if it is any faster"
   ]
  },
  {
   "cell_type": "code",
   "execution_count": 92,
   "id": "cb89c88d-3728-49fc-ad47-172f0f8d3133",
   "metadata": {},
   "outputs": [
    {
     "name": "stdout",
     "output_type": "stream",
     "text": [
      "['Answer the following multiple choice question, selecting from the answer A through to J. After thinking, reply directly with your answer. \\n\\nThe last character of your response must be the letter you have chosen.\\n\\nQuestion:\\n\\nTypical advertising regulatory bodies suggest, for example that adverts must not: encourage _________, cause unnecessary ________ or _____, and must not cause _______ offence.\\n\\nOptions:\\n\\nA: Safe practices, Fear, Jealousy, Trivial\\nB: Unsafe practices, Distress, Joy, Trivial\\nC: Safe practices, Wants, Jealousy, Trivial\\nD: Safe practices, Distress, Fear, Trivial\\nE: Unsafe practices, Wants, Jealousy, Serious\\nF: Safe practices, Distress, Jealousy, Serious\\nG: Safe practices, Wants, Fear, Serious\\nH: Unsafe practices, Wants, Fear, Trivial\\nI: Unsafe practices, Distress, Fear, Serious\\n\\nAnswer:\\n    <think>\\nOkay, I need to solve this multiple-choice question about advertising regulatory bodies. Let me read the question carefully.\\n\\nThe question is asking what typical advertising regulatory bodies suggest that adverts must not do. The blanks are filled with options from A to J. The sentence structure is: adverts must not encourage _________, cause unnecessary ________ or _____, and must not cause _______ offence.\\n\\nSo, the sentence has four blanks, each to be filled with a word from the options provided. The options are A through I, each with four words. I need to pick the correct option that fits all four blanks correctly.\\n\\nLet me break down each part of the sentence to understand what each blank refers to.\\n\\nFirst blank: \"encourage _________.\" So, the first word is something that ads shouldn\\'t encourage. Common regulatory issues include unsafe practices because ads might encourage dangerous behavior. For example, ads for unhealthy food might encourage poor eating habits, but in this case, the first part is about encouraging something negative. So, maybe \"Unsafe practices\" or \"Safe practices.\" Wait, but the question says \"must not encourage,\" so it\\'s something negative. So likely \"Unsafe practices\" because encouraging unsafe things is bad.\\n\\nSecond blank: \"cause unnecessary ________ or _____.\" So, the second and third blanks are two words that go together, something ads shouldn\\'t cause unnecessarily. Common issues are distress, fear, wants, etc. For example, ads might cause unnecessary distress by making people feel bad about themselves or unnecessary fear of missing out. Alternatively, they might cause unnecessary wants by making people desire things they don\\'t need.\\n\\nFourth blank: \"must not cause _______ offence.\" So, this is about causing offence. The options are trivial or serious. Advertisements must not cause serious offence, so this blank is likely \"Serious\" because trivial offences might be acceptable, but serious ones are not.\\n\\nNow, let\\'s look at the options and see which one fits.\\n\\nOption A: Safe practices, Fear, Jealousy, Trivial\\n- First blank: Safe practices. But the question says \"must not encourage,\" so this seems wrong because encouraging safe practices is good. So A is probably incorrect.\\n\\nOption B: Unsafe practices, Distress, Joy, Trivial\\n- First blank: Unsafe practices. That makes sense. Second and third: Distress and Joy. Wait, \"cause unnecessary distress or joy.\" But joy is a positive emotion; why would ads cause unnecessary joy? That doesn\\'t seem like a regulatory concern. So B might not be correct.\\n\\nOption C: Safe practices, Wants, Jealousy, Trivial\\n- First blank: Safe practices again. Not likely. Also, the fourth blank is trivial, which doesn\\'t fit with the idea of causing serious offence.\\n\\nOption D: Safe practices, Distress, Fear, Trivial\\n- Again, first blank is safe practices, which is probably not the right choice. Also, the last blank is trivial, which might not fit.\\n\\nOption E: Unsafe practices, Wants, Jealousy, Serious\\n- First blank: Unsafe practices. Good. Second and third: Wants and Jealousy. Ads can cause unnecessary wants (like wanting the product) and jealousy (if comparing oneself to others). Fourth blank: Serious. That makes sense because ads shouldn\\'t cause serious offence. So E seems possible.\\n\\nOption F: Safe practices, Distress, Jealousy, Serious\\n- First blank: Safe practices. Not likely. Fourth blank is serious, which is correct, but the first word is wrong.\\n\\nOption G: Safe practices, Wants, Fear, Serious\\n- First blank: Safe practices. Incorrect. Fourth blank is serious, which is good, but the first part is wrong.\\n\\nOption H: Unsafe practices, Wants, Fear, Trivial\\n- First blank: Unsafe practices. Good. Second and third: Wants and Fear. Ads can cause unnecessary wants and fear (like fear of missing out). Fourth blank: Trivial. But the question says \"must not cause\" serious offence, so the fourth blank should be serious, not trivial. So H is incorrect.\\n\\nOption I: Unsafe practices, Distress, Fear, Serious\\n- First blank: Unsafe practices. Correct. Second and third: Distress and Fear. Ads can cause unnecessary distress (sadness, anxiety) and fear (terror, anxiety). Fourth blank: Serious. That fits because ads shouldn\\'t cause serious offence.\\n\\nNow, comparing E and I.\\n\\nIn the question, the sentence is: \"must not encourage _________, cause unnecessary ________ or _____, and must not cause _______ offence.\"\\n\\nOption E: Unsafe, Wants, Jealousy, Serious\\nOption I: Unsafe, Distress, Fear, Serious\\n\\nWhich one is more likely? Regulatory bodies often warn against causing distress or fear because those can have negative psychological impacts. Also, encouraging unsafe practices is a big no-no. For the second and third blanks, both distress and fear are more about negative emotions, which are likely the focus of regulations.\\n\\nSo, the correct option is I: Unsafe practices, Distress, Fear, Serious.\\n\\nWait, but let me double-check. The sentence structure is \"cause unnecessary ________ or _____.\" So, two things. In option I, it\\'s Distress or Fear. That makes sense because ads can cause unnecessary distress (e.g., sadness, anxiety) or unnecessary fear (e.g., fear of missing out, fear of failure). \\n\\nYes, that seems right. So the answer should be I.\\n</think>\\n\\nThe correct answer is I: Unsafe practices, Distress, Fear, Serious.\\n\\nI\\n\\nAnswer: I', 'Answer the following multiple choice question, selecting from the answer A through to J. After thinking, reply directly with your answer. \\n\\nThe last character of your response must be the letter you have chosen.\\n\\nQuestion:\\n\\nManagers are entrusted to run the company in the best interest of ________. Specifically, they have a duty to act for the benefit of the company, as well as a duty of ________ and of _______.\\n\\nOptions:\\n\\nA: Shareholders, Diligence, Self-interest\\nB: Shareholders, Self-interest, Care and Skill\\nC: Stakeholders, Care and skill, Self-interest\\nD: Stakeholders, Diligence, Care and Skill\\nE: Customers, Care and Skill, Diligence\\nF: Shareholders, Care and Skill, Diligence\\nG: Shareholders, Self-interest, Diligence\\nH: Employees, Care and Skill, Diligence\\nI: Stakeholders, Self-interest, Diligence\\nJ: Stakeholder, Care and Skill, Diligence\\n\\nAnswer:\\n    <think>\\nOkay, so I have this question about managers and their duties. Let me try to break it down. The question is asking what managers are entrusted to do in the best interest of, and then it lists two more duties. The options are from A to J, each filling in the blanks.\\n\\nFirst, the first blank: \"Managers are entrusted to run the company in the best interest of ________.\" I remember from my studies that managers typically have a duty towards the stakeholders of the company. Stakeholders can be shareholders, customers, employees, etc. So, the first blank is probably \"Stakeholders\" or \"Shareholders.\" Wait, but isn\\'t it more about all stakeholders, not just shareholders? Because shareholders are just one group. So maybe the first blank is \"Stakeholders.\"\\n\\nNext, the second and third blanks: \"a duty to act for the benefit of the company, as well as a duty of ________ and of _______.\" I think managers have a duty of care and skill, meaning they should manage the company with care and the necessary skills. Also, another duty might be diligence, meaning they should be careful and attentive in their work.\\n\\nLooking at the options, let\\'s see which ones fit. Option C is Stakeholders, Care and skill, Self-interest. Hmm, self-interest doesn\\'t sound right because managers should act in the company\\'s best interest, not their own. Option D: Stakeholders, Diligence, Care and Skill. That seems possible. Option F: Shareholders, Care and Skill, Diligence. Wait, if the first part is Shareholders, but I thought it was Stakeholders.\\n\\nWait, let me think again. The first part says \"run the company in the best interest of ______.\" In the context of management, the primary duty is usually to the shareholders because they own the company. But sometimes it\\'s broader to include all stakeholders. But the question says \"specifically, they have a duty to act for the benefit of the company,\" which suggests it\\'s about the company as a whole, not just shareholders. So maybe the first blank is \"Stakeholders.\"\\n\\nLooking at the options, option C is Stakeholders, Care and skill, Self-interest. But self-interest doesn\\'t fit. Option D is Stakeholders, Diligence, Care and Skill. That sounds better because the duties are care and skill, and diligence. So the blanks would be filled with Stakeholders, Diligence, Care and Skill.\\n\\nWait, but the way the sentence is structured, it\\'s \"duty to act for the benefit of the company, as well as a duty of ________ and of _______.\" So the two duties are separate. So maybe the second blank is Diligence, and the third is Care and Skill. Or is it the other way around? Or perhaps both are separate duties.\\n\\nWait, the question says \"duty of ________ and of _______.\" So it\\'s two separate duties. So the first blank after company is \"as well as a duty of X and of Y.\" So the sentence would be: duty to act for the benefit of the company, as well as a duty of X and a duty of Y.\\n\\nLooking at the options, option D says Stakeholders, Diligence, Care and Skill. So the first blank is Stakeholders, then the two duties are Diligence and Care and Skill. But I\\'m not sure if Diligence is a separate duty or if it\\'s part of Care and Skill. Alternatively, maybe the two duties are Care and Skill, and Diligence.\\n\\nWait, perhaps I should recall the specific terminology. I think the three main duties are: duty to act in the company\\'s best interest (which is for stakeholders), duty of care, duty of skill, and duty of diligence. Or maybe it\\'s that managers have a duty of care and skill, and a duty of diligence.\\n\\nWait, another approach: the first blank is about who they\\'re acting in the best interest of. So is it Shareholders or Stakeholders? I think it\\'s Shareholders because that\\'s the primary duty. But sometimes, in modern management, it\\'s considered to be all stakeholders. So I\\'m a bit confused here.\\n\\nIf I go with Shareholders for the first blank, then the options are A, B, F, G. Let\\'s look at option F: Shareholders, Care and Skill, Diligence. That would mean the two duties are Care and Skill, and Diligence. That makes sense because a manager should have the care and skill to manage properly and also be diligent in their duties.\\n\\nAlternatively, option D is Stakeholders, Diligence, Care and Skill. So the duties are Diligence and Care and Skill. I\\'m not sure if Diligence is a separate duty or part of Care and Skill.\\n\\nWait, I think the primary duty is to act in the best interest of the company, which is for the stakeholders. Then, the manager has a duty of care, meaning they must manage with reasonable care, and a duty of skill, meaning they must use their skills properly. Additionally, there\\'s a duty of diligence, which is being attentive and careful.\\n\\nSo the sentence would be: Managers are entrusted to run the company in the best interest of Stakeholders. Specifically, they have a duty to act for the benefit of the company, as well as a duty of Care and Skill and a duty of Diligence.\\n\\nLooking at the options, option D is Stakeholders, Diligence, Care and Skill. Wait, but the order might not matter as much. Or maybe the first duty is Diligence, but I\\'m not sure.\\n\\nAlternatively, option F is Shareholders, Care and Skill, Diligence. So if the first blank is Shareholders, then the duties are Care and Skill and Diligence.\\n\\nI\\'m a bit torn between options D and F. Let me think again: the primary duty is to the stakeholders, so the first blank is Stakeholders. Then, the duties are Diligence and Care and Skill. So option D would fit.\\n\\nBut I\\'m not 100% sure. Another angle: in the UK, directors have a duty to act in the company\\'s best interests (stakeholders), and they have a duty of care, skill, and diligence. So the two duties after are Care and Skill, and Diligence.\\n\\nSo the blanks would be: Stakeholders, Care and Skill, Diligence. But looking at the options, option C is Stakeholders, Care and skill, Self-interest. That\\'s not right. Option D is Stakeholders, Diligence, Care and Skill. So the order is Diligence first, then Care and Skill. Maybe that\\'s acceptable.\\n\\nAlternatively, perhaps the two duties are Care and Skill, and Diligence. So the correct option would have Stakeholders as the first blank, then Care and Skill, then Diligence. But looking at the options, none of them have that order. Option F has Shareholders, Care and Skill, Diligence.\\n\\nWait, maybe the correct answer is F: Shareholders, Care and Skill, Diligence. Because the primary duty is to shareholders, and then the two duties are Care and Skill, and Diligence.\\n\\nBut I\\'m still not entirely sure. I think the correct answer is F because it\\'s more about shareholders, but I\\'m not 100% confident.\\n</think>\\n\\nThe correct answer is F: Shareholders, Care and Skill, Diligence.\\n\\nAnswer: F', 'Answer the following multiple choice question, selecting from the answer A through to J. After thinking, reply directly with your answer. \\n\\nThe last character of your response must be the letter you have chosen.\\n\\nQuestion:\\n\\nThere are two main issues associated with _____ sizing. _______ is a key issue as due to the information policy of the corporation it can be argued that employees have a right to know if they are being made redundant. _______ is a second issue, particularly the ________ package that employees receive when laid off.\\n\\nOptions:\\n\\nA: Down, Autonomy, Remuneration, Benefit\\nB: Down, Involvement, Independence, Benefit\\nC: Up, Independence, Involvement, Benefit\\nD: Down, Privacy, Autonomy, Benefit\\nE: Up, Involvement, Autonomy, Compensation\\nF: Down, Independence, Autonomy, Compensation\\nG: Up, Involvement, Remuneration, Severance\\nH: Up, Privacy, Remuneration, Severance\\nI: Up, Autonomy, Remuneration, Compensation\\nJ: Down, Involvement, Remuneration, Compensation\\n\\nAnswer:\\n    <think>\\nOkay, so I have this multiple-choice question here, and I need to figure out the correct answer. Let me read it carefully and try to break it down.\\n\\nThe question is about two main issues associated with _____ sizing. The first blank is about the direction of the sizing, either up or down. Then, the next part talks about a key issue regarding employees\\' right to know if they\\'re being made redundant. The third part mentions a second issue, specifically about the package employees receive when laid off.\\n\\nLooking at the options, I see that each option fills in the blanks with different words. Let\\'s try to analyze each part step by step.\\n\\nFirst, the first blank is about sizing. The options are either \"Down\" or \"Up.\" I think this refers to workforce sizing, so when a company downsizes, they reduce the number of employees. So the first blank is probably \"Down.\"\\n\\nNext, the second part says that employees have a right to know if they\\'re being made redundant. This relates to transparency or information sharing within the company. So the second blank should be a word that connects to this idea. Looking at the options, words like Autonomy, Involvement, Independence, Privacy, etc., come up. Autonomy refers to having the freedom to make decisions, but in this context, it\\'s more about knowing information. Maybe \"Involvement\" or \"Autonomy\" isn\\'t the right fit here. Wait, perhaps the first issue is about the process of redundancy—maybe the right to know implies that employees should be involved or informed. So maybe the second blank is \"Involvement.\"\\n\\nThe third part talks about a second issue, particularly the package employees receive when laid off. So the fourth blank is about what\\'s given to them. The options include words like Benefit, Severance, Compensation. Severance pay is a common term when someone is laid off, so that\\'s likely the correct word here.\\n\\nNow, putting it together: the first blank is Down, the second is Involvement, and the fourth is Severance. Let me check the options.\\n\\nLooking at option J: Down, Involvement, Remuneration, Compensation. Hmm, Remuneration is about payment, but the third blank is about the package, which is more specific. Option G has Up, which doesn\\'t fit. Option F has Down but the last word is Compensation, which isn\\'t Severance. Option E has Up. Option J has Remuneration and Compensation. Wait, maybe I\\'m mixing things up.\\n\\nWait, the structure is: There are two main issues associated with [Down] sizing. [Involvement] is a key issue... [package] is a second issue, particularly the [Severance] package.\\n\\nLooking at the options, the third word in the blanks is the second issue, which is the package. So the third blank is the type of package. So the structure is: two issues: first is [Involvement], second is [package], which is [Severance].\\n\\nLooking at the options, let\\'s see:\\n\\nOption J: Down, Involvement, Remuneration, Compensation.\\n\\nWait, the structure is: two issues. The first issue is [Involvement], the second issue is [package], which is [Severance]. So the blanks are filled as: Down, Involvement, [something], Severance.\\n\\nLooking at the options, only option J has Down, Involvement, but the fourth word is Compensation, not Severance. Hmm, maybe I\\'m missing something.\\n\\nWait, perhaps the third blank is the type of package, which is \"Severance,\" so the fourth word should be Severance. Let me check the options again.\\n\\nOption G: Up, Involvement, Remuneration, Severance. But first word is Up, which is incorrect. Option J: Down, Involvement, Remuneration, Compensation. So the fourth word is Compensation, but I thought it should be Severance.\\n\\nWait, maybe I\\'m misunderstanding the structure. The question says: \"two main issues associated with _____ sizing. _______ is a key issue as due to the information policy... _______ is a second issue, particularly the ________ package.\"\\n\\nSo the first blank is the type of sizing (Down), the second blank is the first issue (Involvement), the third blank is the second issue (package), and the fourth is the type of package (Severance).\\n\\nLooking at the options, which one fits this?\\n\\nOption J: Down, Involvement, Remuneration, Compensation. No, because the third word should be the second issue, which is the package type, so the third blank should be something like \"Severance package.\" Wait, the structure is: ..._______ is a second issue, particularly the ________ package.\\n\\nSo the third blank is the second issue, which is the package itself. So the third word is the second issue, which is the package, and the fourth is the type of package.\\n\\nWait, no. The sentence is: \"_______ is a second issue, particularly the ________ package that employees receive when laid off.\"\\n\\nSo the third blank is the second issue (the package), and the fourth is the type of package. So the third word is the issue (e.g., package), and the fourth is the specific package (e.g., Severance).\\n\\nSo looking for an option where the third word is \"Severance\" or something similar, but the options don\\'t have that. Alternatively, perhaps the third word is \"Remuneration\" or \"Compensation,\" which are types of packages.\\n\\nWait, perhaps I\\'m overcomplicating. Let me think again.\\n\\nThe first issue is about employees\\' right to know, which is about information policy, so maybe \"Autonomy\" or \"Involvement.\" The second issue is about the package, which is likely \"Severance.\"\\n\\nLooking at the options, option J has Down, Involvement, Remuneration, Compensation. So the third blank is Remuneration, which is about payment, but the second issue is about the package, which is more about severance. So perhaps that\\'s not the right fit.\\n\\nOption G: Up, Involvement, Remuneration, Severance. But first word is Up, which is wrong.\\n\\nOption E: Up, Involvement, Autonomy, Compensation. No, Up is wrong.\\n\\nOption F: Down, Independence, Autonomy, Compensation. So first word is Down, but the second is Independence, which doesn\\'t fit the right to know.\\n\\nOption D: Down, Privacy, Autonomy, Benefit. Privacy doesn\\'t fit the right to know.\\n\\nOption A: Down, Autonomy, Remuneration, Benefit. Autonomy as the first issue, but the issue is about knowing, so maybe not.\\n\\nOption J seems the closest, but the fourth word is Compensation, not Severance. Wait, maybe \"Compensation\" is the correct term for the package. Because sometimes companies use \"compensation package\" which includes severance. So perhaps the fourth word is Compensation.\\n\\nSo the blanks would be: Down, Involvement, Remuneration, Compensation. But that doesn\\'t make sense because the second issue is the package, which is the third blank. So the third blank should be \"package,\" but the options don\\'t have that. Alternatively, perhaps the third blank is \"Remuneration\" and the fourth is \"Compensation,\" but that seems off.\\n\\nWait, perhaps I\\'m misunderstanding the structure. The question says: \"two main issues associated with _____ sizing. _______ is a key issue as due to the information policy... _______ is a second issue, particularly the ________ package.\"\\n\\nSo the first blank is Down. The second blank is the first issue (Involvement). The third blank is the second issue (package), and the fourth is the type of package (Severance).\\n\\nLooking at the options, which one has Down, Involvement, [something], Severance? None of the options have that. So perhaps the third blank is the type of package, and the fourth is a specific term.\\n\\nWait, maybe the third blank is \"Remuneration\" and the fourth is \"Severance.\" But looking at the options, option G has Up, Involvement, Remuneration, Severance. But the first word is Up, which is wrong.\\n\\nAlternatively, perhaps the third blank is \"Remuneration\" and the fourth is \"Compensation,\" as in option J: Down, Involvement, Remuneration, Compensation.\\n\\nBut that doesn\\'t fit because the second issue is the package, which is the third blank. So perhaps the third blank is \"Remuneration\" as the issue, and the fourth is \"Compensation\" as the package. But that seems a bit confusing.\\n\\nAlternatively, maybe the second issue is about the package, so the third blank is \"Severance,\" but none of the options have that in the third position except option G, which has Up.\\n\\nWait, maybe I\\'m overcomplicating. Let me think about the options again.\\n\\nOption J: Down, Involvement, Remuneration, Compensation.\\n\\nSo the first blank is Down, which is correct. The second is Involvement, which fits the first issue about knowing. The third is Remuneration, which is about payment, but the second issue is about the package, so maybe Remuneration is the issue, and Compensation is the package. But I\\'m not sure.\\n\\nAlternatively, perhaps the second issue is about the package, so the third blank is the type of package, which is Severance. But none of the options have that in the third position except G, which has Up.\\n\\nWait, maybe I\\'m missing something. Let me check the options again:\\n\\nA: Down, Autonomy, Remuneration, Benefit\\n\\nB: Down, Involvement, Independence, Benefit\\n\\nC: Up, Independence, Involvement, Benefit\\n\\nD: Down, Privacy, Autonomy, Benefit\\n\\nE: Up, Involvement, Autonomy, Compensation\\n\\nF: Down, Independence, Autonomy, Compensation\\n\\nG: Up, Involvement, Remuneration, Severance\\n\\nH: Up, Privacy, Remuneration, Severance\\n\\nI: Up, Autonomy, Remuneration, Compensation\\n\\nJ: Down, Involvement, Remuneration, Compensation\\n\\nSo the only option with Down as the first word is A, B, D, F, J.\\n\\nNow, the second blank is about the right to know, so likely Involvement or Autonomy.\\n\\nOption J has Involvement as the second word, which fits. Then the third word is Remuneration, which is about payment, and the fourth is Compensation.\\n\\nBut the second issue is about the package, so perhaps the third word is the type of package, which is Severance, but J has Remuneration. Hmm.\\n\\nWait, perhaps the third blank is the second issue, which is the package, and the fourth is the type. So the third blank should be something like \"Severance,\" but none of the options have that in the third position except G, which is Up.\\n\\nAlternatively, perhaps the third blank is \"Remuneration,\" which is a type of package, and the fourth is \"Compensation,\" which is another term for the same thing. But I\\'m not sure.\\n\\nAlternatively, maybe the second issue is about the package, so the third blank is \"package,\" but the options don\\'t have that. So perhaps the third blank is \"Remuneration\" as the issue, and the fourth is \"Compensation\" as the package.\\n\\nWait, I\\'m getting stuck. Let me think differently. The two issues are: 1) employees\\' right to know (Involvement), and 2) the package (Severance). So the blanks should be Down, Involvement, Severance, but none of the options have that.\\n\\nWait, maybe the third blank is \"Remuneration\" and the fourth is \"Severance.\" But looking at the options, only G has Severance in the fourth position, but it\\'s Up.\\n\\nAlternatively, perhaps the third blank is \"Remuneration\" and the fourth is \"Compensation,\" as in J. But I\\'m not sure if that fits.\\n\\nWait, maybe the answer is J: Down, Involvement, Remuneration, Compensation. Because the first issue is Involvement, and the second issue is about the package, which is Remuneration and Compensation. But I\\'m not entirely confident.\\n\\nAlternatively, perhaps the correct answer is J because it\\'s the only option with Down, Involvement, and the last two words are types of packages. So I\\'ll go with J.\\n</think>\\n\\nThe question revolves around two main issues associated with workforce sizing. The first issue pertains to employees\\' right to know if they are being made redundant, which suggests a focus on transparency or involvement. The second issue concerns the package employees receive upon being laid off, likely referring to severance or compensation.\\n\\nAnalyzing the options, the first blank is \"Down,\" indicating workforce reduction. The second blank should reflect the right to know, aligning with \"Involvement.\" The third and fourth blanks relate to the package, with \"Compensation\" being a common term for such packages. Option J fits these criteria, as it includes \"Down,\" \"Involvement,\" and \"Compensation.\"\\n\\n**Answer: J**']\n",
      "Took 238.59688568115234s to compute.\n"
     ]
    }
   ],
   "source": [
    "start = time()\n",
    "response = generate_text([\n",
    "    gen_prompt(ds['test'][0]), \n",
    "    gen_prompt(ds['test'][1]), \n",
    "    gen_prompt(ds['test'][2])])\n",
    "\n",
    "end = time()\n",
    "\n",
    "print(response)\n",
    "print(f\"Took {end - start}s to compute.\")\n",
    "\n"
   ]
  },
  {
   "cell_type": "markdown",
   "id": "621242bc-d7b9-45a0-9ea1-c781989160be",
   "metadata": {},
   "source": [
    "239 seconds is much slower than 3x, so let's avoid batching."
   ]
  },
  {
   "cell_type": "code",
   "execution_count": null,
   "id": "990c5167-4b36-4442-9e9e-32360f11f734",
   "metadata": {},
   "outputs": [],
   "source": []
  }
 ],
 "metadata": {
  "kernelspec": {
   "display_name": "Python 3 (ipykernel)",
   "language": "python",
   "name": "python3"
  },
  "language_info": {
   "codemirror_mode": {
    "name": "ipython",
    "version": 3
   },
   "file_extension": ".py",
   "mimetype": "text/x-python",
   "name": "python",
   "nbconvert_exporter": "python",
   "pygments_lexer": "ipython3",
   "version": "3.12.3"
  }
 },
 "nbformat": 4,
 "nbformat_minor": 5
}
