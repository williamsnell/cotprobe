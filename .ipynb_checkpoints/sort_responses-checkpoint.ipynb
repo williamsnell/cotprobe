{
 "cells": [
  {
   "cell_type": "code",
   "execution_count": 2,
   "id": "4e9d7608-ebec-44e9-918b-7be2c7ec04a0",
   "metadata": {},
   "outputs": [],
   "source": [
    "from pathlib import Path\n",
    "import polars as rs"
   ]
  },
  {
   "cell_type": "code",
   "execution_count": 27,
   "id": "d9173354-16d8-4290-9356-e71367f52547",
   "metadata": {},
   "outputs": [],
   "source": [
    "files = Path(\"./responses\").glob(\"*.txt\")\n",
    "\n",
    "responses = {str(file).replace(\"responses/\", \"\").replace(\".txt\", \"\"): {\"text\": file.read_text()} for file in files}\n"
   ]
  },
  {
   "cell_type": "markdown",
   "id": "fce8844c-4211-47ec-9931-887e7d271ebe",
   "metadata": {},
   "source": [
    "Label the responses with the returned answer. Delete anything we can't easily extract an answer from."
   ]
  },
  {
   "cell_type": "code",
   "execution_count": 28,
   "id": "f0984f01-488c-47db-b553-25e970603dea",
   "metadata": {
    "scrolled": true
   },
   "outputs": [
    {
     "name": "stdout",
     "output_type": "stream",
     "text": [
      "------------------------------\n",
      "\n",
      "H: transverse waves\n",
      "------------------------------\n",
      "------------------------------\n",
      "l Answer:\n",
      "A: 1.00002\n",
      "------------------------------\n",
      "------------------------------\n",
      "e.\n",
      "\n",
      "Answer:\n",
      "A: Valid\n",
      "------------------------------\n",
      "------------------------------\n",
      " is:\n",
      "\n",
      "**E: 200 m/s**\n",
      "------------------------------\n",
      "------------------------------\n",
      "think> ( ( ( ( ( ( (\n",
      "------------------------------\n",
      "------------------------------\n",
      ": 490.0**.\n",
      "\n",
      "H: 490.0\n",
      "------------------------------\n",
      "------------------------------\n",
      "wer is J.\n",
      "\n",
      "J: 30 m/s\n",
      "------------------------------\n",
      "------------------------------\n",
      "F: parathyroid gland\n",
      "------------------------------\n",
      "------------------------------\n",
      "and 1.13 slugs/sec**\n",
      "------------------------------\n",
      "------------------------------\n",
      "\n",
      "\n",
      "**Answer: B: 50%**\n",
      "------------------------------\n",
      "------------------------------\n",
      "ts.\n",
      "\n",
      "Answer: H\n",
      "\n",
      "H: 9\n",
      "------------------------------\n",
      "------------------------------\n",
      ".\n",
      "\n",
      "F: Durable goods.\n",
      "------------------------------\n",
      "------------------------------\n",
      "is:\n",
      "\n",
      "\\[\n",
      "\\boxed{E}\n",
      "\\]\n",
      "------------------------------\n",
      "------------------------------\n",
      "**.\n",
      "\n",
      "\\[\n",
      "\\boxed{D}\n",
      "\\]\n",
      "------------------------------\n",
      "------------------------------\n",
      "\n",
      "\n",
      "F: 5.9  \n",
      "\\boxed{F}\n",
      "------------------------------\n",
      "------------------------------\n",
      "  \n",
      "(b) \\(\\boxed{I}\\)\n",
      "------------------------------\n",
      "------------------------------\n",
      "linder.\n",
      "\n",
      "I: cylinder\n",
      "------------------------------\n",
      "------------------------------\n",
      ": $1.22**\n",
      "\n",
      "\\boxed{G}\n",
      "------------------------------\n",
      "------------------------------\n",
      " E**\n",
      "\n",
      "E: True, False\n",
      "------------------------------\n",
      "------------------------------\n",
      " Answer:\n",
      "**D: 35 s**\n",
      "------------------------------\n",
      "------------------------------\n",
      "wer is A: Diagnosis.\n",
      "------------------------------\n",
      "------------------------------\n",
      "**\n",
      "\n",
      "C: \\(I_f = I_o\\)\n",
      "------------------------------\n",
      "------------------------------\n",
      "**Answer: D: 70.3%**\n",
      "------------------------------\n",
      "------------------------------\n",
      "resistant to change.\n",
      "------------------------------\n",
      "------------------------------\n",
      "wer is F: 30.\n",
      "\n",
      "F: 30\n",
      "------------------------------\n",
      "------------------------------\n",
      "ion D.\n",
      "\n",
      "D: (4, 0, 0)\n",
      "------------------------------\n",
      "------------------------------\n",
      "o 3 quarts, which is\n",
      "------------------------------\n",
      "------------------------------\n",
      "swer**:  \n",
      "B: 0.24995\n",
      "------------------------------\n",
      "------------------------------\n",
      " 1.96 in. × 1.96 in.\n",
      "------------------------------\n",
      "------------------------------\n",
      "nswer is B.\n",
      "\n",
      "B: 2/81\n",
      "------------------------------\n",
      "------------------------------\n",
      "**D**.\n",
      "\n",
      "D: 4x, 10 cm\n",
      "------------------------------\n",
      "------------------------------\n",
      "ect answer is:\n",
      "\n",
      "J: 5\n",
      "------------------------------\n",
      "------------------------------\n",
      "{J} \\mathrm{K}^{-1}$\n",
      "------------------------------\n",
      "33 poorly labeled responses deleted.\n"
     ]
    }
   ],
   "source": [
    "delete_count = 0\n",
    "\n",
    "for key, response in responses.items():\n",
    "    answer = response['text'].replace(\"*\", \"\").replace(\".\", \"\").strip()[-1]\n",
    "    if answer in \"ABCDEFGHIJ\":\n",
    "        response['label'] = answer\n",
    "    else:\n",
    "        print(\"-\" * 30)\n",
    "        print(response['text'].strip()[-20:])\n",
    "        print(\"-\" * 30)\n",
    "        responses[key] = None\n",
    "        delete_count += 1\n",
    "\n",
    "filtered_responses = {k: v for k, v in responses.items() if v}\n",
    "\n",
    "print(f\"{delete_count} poorly labeled responses deleted.\")"
   ]
  },
  {
   "cell_type": "markdown",
   "id": "576b1c69-5318-42f9-817e-49c26d0eb225",
   "metadata": {},
   "source": [
    "Also add the label numerically."
   ]
  },
  {
   "cell_type": "code",
   "execution_count": 31,
   "id": "90bc6bb1-3f10-47dc-a4a8-3e8088e17312",
   "metadata": {
    "scrolled": true
   },
   "outputs": [],
   "source": [
    "for k, v in filtered_responses.items():\n",
    "    v['num_label'] = ord(v['label']) - ord(\"A\")"
   ]
  },
  {
   "cell_type": "markdown",
   "id": "1eacf3d5-ec83-4e2c-87e7-a3b08c193990",
   "metadata": {},
   "source": [
    "Reorder into a proper dataframe"
   ]
  },
  {
   "cell_type": "code",
   "execution_count": 38,
   "id": "0113182d-fab5-48ec-af5d-4d96edea1d40",
   "metadata": {},
   "outputs": [
    {
     "data": {
      "text/html": [
       "<div><style>\n",
       ".dataframe > thead > tr,\n",
       ".dataframe > tbody > tr {\n",
       "  text-align: right;\n",
       "  white-space: pre-wrap;\n",
       "}\n",
       "</style>\n",
       "<small>shape: (7_353, 4)</small><table border=\"1\" class=\"dataframe\"><thead><tr><th>uuid</th><th>text</th><th>label</th><th>numeric label</th></tr><tr><td>str</td><td>str</td><td>str</td><td>i64</td></tr></thead><tbody><tr><td>&quot;8cd2e5b4-f9fa-4977-9b62-356da9…</td><td>&quot;Answer the following multiple …</td><td>&quot;G&quot;</td><td>6</td></tr><tr><td>&quot;3753ab9c-ae45-4d8b-8d61-a391b6…</td><td>&quot;Answer the following multiple …</td><td>&quot;G&quot;</td><td>6</td></tr><tr><td>&quot;4f261530-6995-4dc0-8a87-a0e658…</td><td>&quot;Answer the following multiple …</td><td>&quot;C&quot;</td><td>2</td></tr><tr><td>&quot;eb8ba016-48f2-4491-a0e3-3f751a…</td><td>&quot;Answer the following multiple …</td><td>&quot;H&quot;</td><td>7</td></tr><tr><td>&quot;91fd60a8-ac44-428f-876b-eeeba0…</td><td>&quot;Answer the following multiple …</td><td>&quot;F&quot;</td><td>5</td></tr><tr><td>&hellip;</td><td>&hellip;</td><td>&hellip;</td><td>&hellip;</td></tr><tr><td>&quot;9c31039f-a3e5-4100-8dce-a4e2a1…</td><td>&quot;Answer the following multiple …</td><td>&quot;A&quot;</td><td>0</td></tr><tr><td>&quot;ec5b25bf-64fc-4e76-909a-b43920…</td><td>&quot;Answer the following multiple …</td><td>&quot;C&quot;</td><td>2</td></tr><tr><td>&quot;95663208-b120-4973-9db2-dfad71…</td><td>&quot;Answer the following multiple …</td><td>&quot;B&quot;</td><td>1</td></tr><tr><td>&quot;b797003d-cf86-4c25-b556-1aca07…</td><td>&quot;Answer the following multiple …</td><td>&quot;J&quot;</td><td>9</td></tr><tr><td>&quot;cb0a244e-95e5-4162-8f54-edd5a3…</td><td>&quot;Answer the following multiple …</td><td>&quot;I&quot;</td><td>8</td></tr></tbody></table></div>"
      ],
      "text/plain": [
       "shape: (7_353, 4)\n",
       "┌─────────────────────────────────┬─────────────────────────────────┬───────┬───────────────┐\n",
       "│ uuid                            ┆ text                            ┆ label ┆ numeric label │\n",
       "│ ---                             ┆ ---                             ┆ ---   ┆ ---           │\n",
       "│ str                             ┆ str                             ┆ str   ┆ i64           │\n",
       "╞═════════════════════════════════╪═════════════════════════════════╪═══════╪═══════════════╡\n",
       "│ 8cd2e5b4-f9fa-4977-9b62-356da9… ┆ Answer the following multiple … ┆ G     ┆ 6             │\n",
       "│ 3753ab9c-ae45-4d8b-8d61-a391b6… ┆ Answer the following multiple … ┆ G     ┆ 6             │\n",
       "│ 4f261530-6995-4dc0-8a87-a0e658… ┆ Answer the following multiple … ┆ C     ┆ 2             │\n",
       "│ eb8ba016-48f2-4491-a0e3-3f751a… ┆ Answer the following multiple … ┆ H     ┆ 7             │\n",
       "│ 91fd60a8-ac44-428f-876b-eeeba0… ┆ Answer the following multiple … ┆ F     ┆ 5             │\n",
       "│ …                               ┆ …                               ┆ …     ┆ …             │\n",
       "│ 9c31039f-a3e5-4100-8dce-a4e2a1… ┆ Answer the following multiple … ┆ A     ┆ 0             │\n",
       "│ ec5b25bf-64fc-4e76-909a-b43920… ┆ Answer the following multiple … ┆ C     ┆ 2             │\n",
       "│ 95663208-b120-4973-9db2-dfad71… ┆ Answer the following multiple … ┆ B     ┆ 1             │\n",
       "│ b797003d-cf86-4c25-b556-1aca07… ┆ Answer the following multiple … ┆ J     ┆ 9             │\n",
       "│ cb0a244e-95e5-4162-8f54-edd5a3… ┆ Answer the following multiple … ┆ I     ┆ 8             │\n",
       "└─────────────────────────────────┴─────────────────────────────────┴───────┴───────────────┘"
      ]
     },
     "execution_count": 38,
     "metadata": {},
     "output_type": "execute_result"
    }
   ],
   "source": [
    "structured_responses = {\"uuid\": [], \"text\": [], \"label\": [], \"numeric label\": []}\n",
    "\n",
    "for uid, response in filtered_responses.items():\n",
    "    structured_responses['uuid'] += [uid]\n",
    "    structured_responses['text'] += [response['text']]\n",
    "    structured_responses['label'] += [response['label']]\n",
    "    structured_responses['numeric label'] += [response['num_label']]\n",
    "    \n",
    "\n",
    "\n",
    "df = rs.from_dict(structured_responses)\n",
    "df"
   ]
  },
  {
   "cell_type": "code",
   "execution_count": 42,
   "id": "f76cf031-7049-4027-8385-2fb71fcc36cd",
   "metadata": {},
   "outputs": [],
   "source": [
    "df.write_ipc(\"responses.arrow\", compression='zstd')"
   ]
  },
  {
   "cell_type": "code",
   "execution_count": 48,
   "id": "ab63205e-eff7-4cbe-bfdc-69abdbe7d982",
   "metadata": {},
   "outputs": [
    {
     "data": {
      "text/html": [
       "<div><style>\n",
       ".dataframe > thead > tr,\n",
       ".dataframe > tbody > tr {\n",
       "  text-align: right;\n",
       "  white-space: pre-wrap;\n",
       "}\n",
       "</style>\n",
       "<small>shape: (5, 4)</small><table border=\"1\" class=\"dataframe\"><thead><tr><th>uuid</th><th>text</th><th>label</th><th>numeric label</th></tr><tr><td>str</td><td>str</td><td>str</td><td>i64</td></tr></thead><tbody><tr><td>&quot;f4a40d73-9a7b-41f6-9fbf-f1c5c1…</td><td>&quot;Answer the following multiple …</td><td>&quot;D&quot;</td><td>3</td></tr><tr><td>&quot;444ed118-5077-4616-8518-a0b57c…</td><td>&quot;Answer the following multiple …</td><td>&quot;C&quot;</td><td>2</td></tr><tr><td>&quot;f1f38b68-04f9-4a37-bdec-efc621…</td><td>&quot;Answer the following multiple …</td><td>&quot;J&quot;</td><td>9</td></tr><tr><td>&quot;0e9fc4de-37b3-47cd-9558-d1253d…</td><td>&quot;Answer the following multiple …</td><td>&quot;B&quot;</td><td>1</td></tr><tr><td>&quot;2d32d8fa-34f4-4c26-9458-216bf7…</td><td>&quot;Answer the following multiple …</td><td>&quot;F&quot;</td><td>5</td></tr></tbody></table></div>"
      ],
      "text/plain": [
       "shape: (5, 4)\n",
       "┌─────────────────────────────────┬─────────────────────────────────┬───────┬───────────────┐\n",
       "│ uuid                            ┆ text                            ┆ label ┆ numeric label │\n",
       "│ ---                             ┆ ---                             ┆ ---   ┆ ---           │\n",
       "│ str                             ┆ str                             ┆ str   ┆ i64           │\n",
       "╞═════════════════════════════════╪═════════════════════════════════╪═══════╪═══════════════╡\n",
       "│ f4a40d73-9a7b-41f6-9fbf-f1c5c1… ┆ Answer the following multiple … ┆ D     ┆ 3             │\n",
       "│ 444ed118-5077-4616-8518-a0b57c… ┆ Answer the following multiple … ┆ C     ┆ 2             │\n",
       "│ f1f38b68-04f9-4a37-bdec-efc621… ┆ Answer the following multiple … ┆ J     ┆ 9             │\n",
       "│ 0e9fc4de-37b3-47cd-9558-d1253d… ┆ Answer the following multiple … ┆ B     ┆ 1             │\n",
       "│ 2d32d8fa-34f4-4c26-9458-216bf7… ┆ Answer the following multiple … ┆ F     ┆ 5             │\n",
       "└─────────────────────────────────┴─────────────────────────────────┴───────┴───────────────┘"
      ]
     },
     "execution_count": 48,
     "metadata": {},
     "output_type": "execute_result"
    }
   ],
   "source": [
    "df.sample(5)"
   ]
  },
  {
   "cell_type": "code",
   "execution_count": 49,
   "id": "d97e018b-db41-4035-9e9c-8d03c6c91513",
   "metadata": {},
   "outputs": [
    {
     "data": {
      "text/html": [
       "<div><style>\n",
       ".dataframe > thead > tr,\n",
       ".dataframe > tbody > tr {\n",
       "  text-align: right;\n",
       "  white-space: pre-wrap;\n",
       "}\n",
       "</style>\n",
       "<small>shape: (5_882, 4)</small><table border=\"1\" class=\"dataframe\"><thead><tr><th>uuid</th><th>text</th><th>label</th><th>numeric label</th></tr><tr><td>str</td><td>str</td><td>str</td><td>i64</td></tr></thead><tbody><tr><td>&quot;ddcad0c5-d75a-412b-80a1-dc5900…</td><td>&quot;Answer the following multiple …</td><td>&quot;C&quot;</td><td>2</td></tr><tr><td>&quot;4d9eb9a4-8d0a-4298-a819-cd6d06…</td><td>&quot;Answer the following multiple …</td><td>&quot;D&quot;</td><td>3</td></tr><tr><td>&quot;ca9ad8d8-7ff6-4e45-9af9-682dbc…</td><td>&quot;Answer the following multiple …</td><td>&quot;F&quot;</td><td>5</td></tr><tr><td>&quot;934a6218-99cb-4419-81a5-ca8d76…</td><td>&quot;Answer the following multiple …</td><td>&quot;D&quot;</td><td>3</td></tr><tr><td>&quot;583c5c4e-0b71-4c73-bf42-cd3dd2…</td><td>&quot;Answer the following multiple …</td><td>&quot;J&quot;</td><td>9</td></tr><tr><td>&hellip;</td><td>&hellip;</td><td>&hellip;</td><td>&hellip;</td></tr><tr><td>&quot;a5990348-1fe6-4348-b4db-38abb8…</td><td>&quot;Answer the following multiple …</td><td>&quot;B&quot;</td><td>1</td></tr><tr><td>&quot;f58469b7-d4c3-4658-9feb-c74a18…</td><td>&quot;Answer the following multiple …</td><td>&quot;B&quot;</td><td>1</td></tr><tr><td>&quot;97349fa5-312b-4a1a-bdf9-4f36f0…</td><td>&quot;Answer the following multiple …</td><td>&quot;C&quot;</td><td>2</td></tr><tr><td>&quot;1cdc3af1-e129-4574-8658-084802…</td><td>&quot;Answer the following multiple …</td><td>&quot;G&quot;</td><td>6</td></tr><tr><td>&quot;eff27f50-3cb2-449d-86ca-d80510…</td><td>&quot;Answer the following multiple …</td><td>&quot;A&quot;</td><td>0</td></tr></tbody></table></div>"
      ],
      "text/plain": [
       "shape: (5_882, 4)\n",
       "┌─────────────────────────────────┬─────────────────────────────────┬───────┬───────────────┐\n",
       "│ uuid                            ┆ text                            ┆ label ┆ numeric label │\n",
       "│ ---                             ┆ ---                             ┆ ---   ┆ ---           │\n",
       "│ str                             ┆ str                             ┆ str   ┆ i64           │\n",
       "╞═════════════════════════════════╪═════════════════════════════════╪═══════╪═══════════════╡\n",
       "│ ddcad0c5-d75a-412b-80a1-dc5900… ┆ Answer the following multiple … ┆ C     ┆ 2             │\n",
       "│ 4d9eb9a4-8d0a-4298-a819-cd6d06… ┆ Answer the following multiple … ┆ D     ┆ 3             │\n",
       "│ ca9ad8d8-7ff6-4e45-9af9-682dbc… ┆ Answer the following multiple … ┆ F     ┆ 5             │\n",
       "│ 934a6218-99cb-4419-81a5-ca8d76… ┆ Answer the following multiple … ┆ D     ┆ 3             │\n",
       "│ 583c5c4e-0b71-4c73-bf42-cd3dd2… ┆ Answer the following multiple … ┆ J     ┆ 9             │\n",
       "│ …                               ┆ …                               ┆ …     ┆ …             │\n",
       "│ a5990348-1fe6-4348-b4db-38abb8… ┆ Answer the following multiple … ┆ B     ┆ 1             │\n",
       "│ f58469b7-d4c3-4658-9feb-c74a18… ┆ Answer the following multiple … ┆ B     ┆ 1             │\n",
       "│ 97349fa5-312b-4a1a-bdf9-4f36f0… ┆ Answer the following multiple … ┆ C     ┆ 2             │\n",
       "│ 1cdc3af1-e129-4574-8658-084802… ┆ Answer the following multiple … ┆ G     ┆ 6             │\n",
       "│ eff27f50-3cb2-449d-86ca-d80510… ┆ Answer the following multiple … ┆ A     ┆ 0             │\n",
       "└─────────────────────────────────┴─────────────────────────────────┴───────┴───────────────┘"
      ]
     },
     "execution_count": 49,
     "metadata": {},
     "output_type": "execute_result"
    }
   ],
   "source": [
    "df.sample(int(len(df)) * 0.8)"
   ]
  },
  {
   "cell_type": "code",
   "execution_count": 51,
   "id": "083133fb-526d-4d77-a62a-d6f5c62aa2ed",
   "metadata": {},
   "outputs": [
    {
     "data": {
      "text/html": [
       "<div><style>\n",
       ".dataframe > thead > tr,\n",
       ".dataframe > tbody > tr {\n",
       "  text-align: right;\n",
       "  white-space: pre-wrap;\n",
       "}\n",
       "</style>\n",
       "<small>shape: (5_882, 4)</small><table border=\"1\" class=\"dataframe\"><thead><tr><th>uuid</th><th>text</th><th>label</th><th>numeric label</th></tr><tr><td>str</td><td>str</td><td>str</td><td>i64</td></tr></thead><tbody><tr><td>&quot;8cd2e5b4-f9fa-4977-9b62-356da9…</td><td>&quot;Answer the following multiple …</td><td>&quot;G&quot;</td><td>6</td></tr><tr><td>&quot;3753ab9c-ae45-4d8b-8d61-a391b6…</td><td>&quot;Answer the following multiple …</td><td>&quot;G&quot;</td><td>6</td></tr><tr><td>&quot;4f261530-6995-4dc0-8a87-a0e658…</td><td>&quot;Answer the following multiple …</td><td>&quot;C&quot;</td><td>2</td></tr><tr><td>&quot;eb8ba016-48f2-4491-a0e3-3f751a…</td><td>&quot;Answer the following multiple …</td><td>&quot;H&quot;</td><td>7</td></tr><tr><td>&quot;91fd60a8-ac44-428f-876b-eeeba0…</td><td>&quot;Answer the following multiple …</td><td>&quot;F&quot;</td><td>5</td></tr><tr><td>&hellip;</td><td>&hellip;</td><td>&hellip;</td><td>&hellip;</td></tr><tr><td>&quot;ecd8cd7c-fa51-4bfb-a144-f3b077…</td><td>&quot;Answer the following multiple …</td><td>&quot;C&quot;</td><td>2</td></tr><tr><td>&quot;d3d32df1-0724-4552-a3be-03a2ee…</td><td>&quot;Answer the following multiple …</td><td>&quot;D&quot;</td><td>3</td></tr><tr><td>&quot;7b32af92-1739-468b-a247-fd3bdf…</td><td>&quot;Answer the following multiple …</td><td>&quot;E&quot;</td><td>4</td></tr><tr><td>&quot;e5228163-247d-4166-907f-efbac5…</td><td>&quot;Answer the following multiple …</td><td>&quot;C&quot;</td><td>2</td></tr><tr><td>&quot;ce5162b9-a211-42e2-9155-dec6f5…</td><td>&quot;Answer the following multiple …</td><td>&quot;C&quot;</td><td>2</td></tr></tbody></table></div>"
      ],
      "text/plain": [
       "shape: (5_882, 4)\n",
       "┌─────────────────────────────────┬─────────────────────────────────┬───────┬───────────────┐\n",
       "│ uuid                            ┆ text                            ┆ label ┆ numeric label │\n",
       "│ ---                             ┆ ---                             ┆ ---   ┆ ---           │\n",
       "│ str                             ┆ str                             ┆ str   ┆ i64           │\n",
       "╞═════════════════════════════════╪═════════════════════════════════╪═══════╪═══════════════╡\n",
       "│ 8cd2e5b4-f9fa-4977-9b62-356da9… ┆ Answer the following multiple … ┆ G     ┆ 6             │\n",
       "│ 3753ab9c-ae45-4d8b-8d61-a391b6… ┆ Answer the following multiple … ┆ G     ┆ 6             │\n",
       "│ 4f261530-6995-4dc0-8a87-a0e658… ┆ Answer the following multiple … ┆ C     ┆ 2             │\n",
       "│ eb8ba016-48f2-4491-a0e3-3f751a… ┆ Answer the following multiple … ┆ H     ┆ 7             │\n",
       "│ 91fd60a8-ac44-428f-876b-eeeba0… ┆ Answer the following multiple … ┆ F     ┆ 5             │\n",
       "│ …                               ┆ …                               ┆ …     ┆ …             │\n",
       "│ ecd8cd7c-fa51-4bfb-a144-f3b077… ┆ Answer the following multiple … ┆ C     ┆ 2             │\n",
       "│ d3d32df1-0724-4552-a3be-03a2ee… ┆ Answer the following multiple … ┆ D     ┆ 3             │\n",
       "│ 7b32af92-1739-468b-a247-fd3bdf… ┆ Answer the following multiple … ┆ E     ┆ 4             │\n",
       "│ e5228163-247d-4166-907f-efbac5… ┆ Answer the following multiple … ┆ C     ┆ 2             │\n",
       "│ ce5162b9-a211-42e2-9155-dec6f5… ┆ Answer the following multiple … ┆ C     ┆ 2             │\n",
       "└─────────────────────────────────┴─────────────────────────────────┴───────┴───────────────┘"
      ]
     },
     "execution_count": 51,
     "metadata": {},
     "output_type": "execute_result"
    }
   ],
   "source": [
    "df[:int(len(df)*0.8)]"
   ]
  },
  {
   "cell_type": "code",
   "execution_count": 52,
   "id": "5861c6ff-56a4-4864-a92a-bc3d0ee9004c",
   "metadata": {},
   "outputs": [
    {
     "data": {
      "text/html": [
       "<div><style>\n",
       ".dataframe > thead > tr,\n",
       ".dataframe > tbody > tr {\n",
       "  text-align: right;\n",
       "  white-space: pre-wrap;\n",
       "}\n",
       "</style>\n",
       "<small>shape: (1, 4)</small><table border=\"1\" class=\"dataframe\"><thead><tr><th>uuid</th><th>text</th><th>label</th><th>numeric label</th></tr><tr><td>str</td><td>str</td><td>str</td><td>i64</td></tr></thead><tbody><tr><td>&quot;8cd2e5b4-f9fa-4977-9b62-356da9…</td><td>&quot;Answer the following multiple …</td><td>&quot;G&quot;</td><td>6</td></tr></tbody></table></div>"
      ],
      "text/plain": [
       "shape: (1, 4)\n",
       "┌─────────────────────────────────┬─────────────────────────────────┬───────┬───────────────┐\n",
       "│ uuid                            ┆ text                            ┆ label ┆ numeric label │\n",
       "│ ---                             ┆ ---                             ┆ ---   ┆ ---           │\n",
       "│ str                             ┆ str                             ┆ str   ┆ i64           │\n",
       "╞═════════════════════════════════╪═════════════════════════════════╪═══════╪═══════════════╡\n",
       "│ 8cd2e5b4-f9fa-4977-9b62-356da9… ┆ Answer the following multiple … ┆ G     ┆ 6             │\n",
       "└─────────────────────────────────┴─────────────────────────────────┴───────┴───────────────┘"
      ]
     },
     "execution_count": 52,
     "metadata": {},
     "output_type": "execute_result"
    }
   ],
   "source": [
    "df[0]"
   ]
  },
  {
   "cell_type": "code",
   "execution_count": 60,
   "id": "215e3dcd-9f3e-4186-8069-4b4b0bc658b2",
   "metadata": {},
   "outputs": [
    {
     "ename": "TypeError",
     "evalue": "'in <string>' requires string as left operand, not Expr",
     "output_type": "error",
     "traceback": [
      "\u001b[0;31m---------------------------------------------------------------------------\u001b[0m",
      "\u001b[0;31mTypeError\u001b[0m                                 Traceback (most recent call last)",
      "Cell \u001b[0;32mIn[60], line 1\u001b[0m\n\u001b[0;32m----> 1\u001b[0m df\u001b[38;5;241m.\u001b[39mfilter(\u001b[43mrs\u001b[49m\u001b[38;5;241;43m.\u001b[39;49m\u001b[43mcol\u001b[49m\u001b[43m(\u001b[49m\u001b[38;5;124;43m\"\u001b[39;49m\u001b[38;5;124;43mtext\u001b[39;49m\u001b[38;5;124;43m\"\u001b[39;49m\u001b[43m)\u001b[49m\u001b[38;5;241;43m.\u001b[39;49m\u001b[43mtail\u001b[49m\u001b[43m(\u001b[49m\u001b[38;5;241;43m1\u001b[39;49m\u001b[43m)\u001b[49m\u001b[43m \u001b[49m\u001b[38;5;129;43;01min\u001b[39;49;00m\u001b[43m \u001b[49m\u001b[38;5;124;43m\"\u001b[39;49m\u001b[38;5;124;43mABCDEFGHIJ\u001b[39;49m\u001b[38;5;124;43m\"\u001b[39;49m)\n",
      "\u001b[0;31mTypeError\u001b[0m: 'in <string>' requires string as left operand, not Expr"
     ]
    }
   ],
   "source": [
    "df.filter(rs.col(\"text\").tail(1) in \"ABCDEFGHIJ\")"
   ]
  },
  {
   "cell_type": "code",
   "execution_count": 61,
   "id": "41118b55-2c9d-48e0-a362-faf1618f2826",
   "metadata": {},
   "outputs": [
    {
     "data": {
      "text/html": [
       "<div><style>\n",
       ".dataframe > thead > tr,\n",
       ".dataframe > tbody > tr {\n",
       "  text-align: right;\n",
       "  white-space: pre-wrap;\n",
       "}\n",
       "</style>\n",
       "<small>shape: (6_509, 4)</small><table border=\"1\" class=\"dataframe\"><thead><tr><th>uuid</th><th>text</th><th>label</th><th>numeric label</th></tr><tr><td>str</td><td>str</td><td>str</td><td>i64</td></tr></thead><tbody><tr><td>&quot;8cd2e5b4-f9fa-4977-9b62-356da9…</td><td>&quot;Answer the following multiple …</td><td>&quot;G&quot;</td><td>6</td></tr><tr><td>&quot;3753ab9c-ae45-4d8b-8d61-a391b6…</td><td>&quot;Answer the following multiple …</td><td>&quot;G&quot;</td><td>6</td></tr><tr><td>&quot;4f261530-6995-4dc0-8a87-a0e658…</td><td>&quot;Answer the following multiple …</td><td>&quot;C&quot;</td><td>2</td></tr><tr><td>&quot;eb8ba016-48f2-4491-a0e3-3f751a…</td><td>&quot;Answer the following multiple …</td><td>&quot;H&quot;</td><td>7</td></tr><tr><td>&quot;91fd60a8-ac44-428f-876b-eeeba0…</td><td>&quot;Answer the following multiple …</td><td>&quot;F&quot;</td><td>5</td></tr><tr><td>&hellip;</td><td>&hellip;</td><td>&hellip;</td><td>&hellip;</td></tr><tr><td>&quot;9c31039f-a3e5-4100-8dce-a4e2a1…</td><td>&quot;Answer the following multiple …</td><td>&quot;A&quot;</td><td>0</td></tr><tr><td>&quot;ec5b25bf-64fc-4e76-909a-b43920…</td><td>&quot;Answer the following multiple …</td><td>&quot;C&quot;</td><td>2</td></tr><tr><td>&quot;95663208-b120-4973-9db2-dfad71…</td><td>&quot;Answer the following multiple …</td><td>&quot;B&quot;</td><td>1</td></tr><tr><td>&quot;b797003d-cf86-4c25-b556-1aca07…</td><td>&quot;Answer the following multiple …</td><td>&quot;J&quot;</td><td>9</td></tr><tr><td>&quot;cb0a244e-95e5-4162-8f54-edd5a3…</td><td>&quot;Answer the following multiple …</td><td>&quot;I&quot;</td><td>8</td></tr></tbody></table></div>"
      ],
      "text/plain": [
       "shape: (6_509, 4)\n",
       "┌─────────────────────────────────┬─────────────────────────────────┬───────┬───────────────┐\n",
       "│ uuid                            ┆ text                            ┆ label ┆ numeric label │\n",
       "│ ---                             ┆ ---                             ┆ ---   ┆ ---           │\n",
       "│ str                             ┆ str                             ┆ str   ┆ i64           │\n",
       "╞═════════════════════════════════╪═════════════════════════════════╪═══════╪═══════════════╡\n",
       "│ 8cd2e5b4-f9fa-4977-9b62-356da9… ┆ Answer the following multiple … ┆ G     ┆ 6             │\n",
       "│ 3753ab9c-ae45-4d8b-8d61-a391b6… ┆ Answer the following multiple … ┆ G     ┆ 6             │\n",
       "│ 4f261530-6995-4dc0-8a87-a0e658… ┆ Answer the following multiple … ┆ C     ┆ 2             │\n",
       "│ eb8ba016-48f2-4491-a0e3-3f751a… ┆ Answer the following multiple … ┆ H     ┆ 7             │\n",
       "│ 91fd60a8-ac44-428f-876b-eeeba0… ┆ Answer the following multiple … ┆ F     ┆ 5             │\n",
       "│ …                               ┆ …                               ┆ …     ┆ …             │\n",
       "│ 9c31039f-a3e5-4100-8dce-a4e2a1… ┆ Answer the following multiple … ┆ A     ┆ 0             │\n",
       "│ ec5b25bf-64fc-4e76-909a-b43920… ┆ Answer the following multiple … ┆ C     ┆ 2             │\n",
       "│ 95663208-b120-4973-9db2-dfad71… ┆ Answer the following multiple … ┆ B     ┆ 1             │\n",
       "│ b797003d-cf86-4c25-b556-1aca07… ┆ Answer the following multiple … ┆ J     ┆ 9             │\n",
       "│ cb0a244e-95e5-4162-8f54-edd5a3… ┆ Answer the following multiple … ┆ I     ┆ 8             │\n",
       "└─────────────────────────────────┴─────────────────────────────────┴───────┴───────────────┘"
      ]
     },
     "execution_count": 61,
     "metadata": {},
     "output_type": "execute_result"
    }
   ],
   "source": []
  },
  {
   "cell_type": "code",
   "execution_count": 62,
   "id": "eb6e56e1-64a1-47b2-b299-bb1395dfc900",
   "metadata": {},
   "outputs": [
    {
     "data": {
      "text/html": [
       "<div><style>\n",
       ".dataframe > thead > tr,\n",
       ".dataframe > tbody > tr {\n",
       "  text-align: right;\n",
       "  white-space: pre-wrap;\n",
       "}\n",
       "</style>\n",
       "<small>shape: (7_353, 4)</small><table border=\"1\" class=\"dataframe\"><thead><tr><th>uuid</th><th>text</th><th>label</th><th>numeric label</th></tr><tr><td>str</td><td>str</td><td>str</td><td>i64</td></tr></thead><tbody><tr><td>&quot;8cd2e5b4-f9fa-4977-9b62-356da9…</td><td>&quot;Answer the following multiple …</td><td>&quot;G&quot;</td><td>6</td></tr><tr><td>&quot;3753ab9c-ae45-4d8b-8d61-a391b6…</td><td>&quot;Answer the following multiple …</td><td>&quot;G&quot;</td><td>6</td></tr><tr><td>&quot;4f261530-6995-4dc0-8a87-a0e658…</td><td>&quot;Answer the following multiple …</td><td>&quot;C&quot;</td><td>2</td></tr><tr><td>&quot;eb8ba016-48f2-4491-a0e3-3f751a…</td><td>&quot;Answer the following multiple …</td><td>&quot;H&quot;</td><td>7</td></tr><tr><td>&quot;91fd60a8-ac44-428f-876b-eeeba0…</td><td>&quot;Answer the following multiple …</td><td>&quot;F&quot;</td><td>5</td></tr><tr><td>&hellip;</td><td>&hellip;</td><td>&hellip;</td><td>&hellip;</td></tr><tr><td>&quot;9c31039f-a3e5-4100-8dce-a4e2a1…</td><td>&quot;Answer the following multiple …</td><td>&quot;A&quot;</td><td>0</td></tr><tr><td>&quot;ec5b25bf-64fc-4e76-909a-b43920…</td><td>&quot;Answer the following multiple …</td><td>&quot;C&quot;</td><td>2</td></tr><tr><td>&quot;95663208-b120-4973-9db2-dfad71…</td><td>&quot;Answer the following multiple …</td><td>&quot;B&quot;</td><td>1</td></tr><tr><td>&quot;b797003d-cf86-4c25-b556-1aca07…</td><td>&quot;Answer the following multiple …</td><td>&quot;J&quot;</td><td>9</td></tr><tr><td>&quot;cb0a244e-95e5-4162-8f54-edd5a3…</td><td>&quot;Answer the following multiple …</td><td>&quot;I&quot;</td><td>8</td></tr></tbody></table></div>"
      ],
      "text/plain": [
       "shape: (7_353, 4)\n",
       "┌─────────────────────────────────┬─────────────────────────────────┬───────┬───────────────┐\n",
       "│ uuid                            ┆ text                            ┆ label ┆ numeric label │\n",
       "│ ---                             ┆ ---                             ┆ ---   ┆ ---           │\n",
       "│ str                             ┆ str                             ┆ str   ┆ i64           │\n",
       "╞═════════════════════════════════╪═════════════════════════════════╪═══════╪═══════════════╡\n",
       "│ 8cd2e5b4-f9fa-4977-9b62-356da9… ┆ Answer the following multiple … ┆ G     ┆ 6             │\n",
       "│ 3753ab9c-ae45-4d8b-8d61-a391b6… ┆ Answer the following multiple … ┆ G     ┆ 6             │\n",
       "│ 4f261530-6995-4dc0-8a87-a0e658… ┆ Answer the following multiple … ┆ C     ┆ 2             │\n",
       "│ eb8ba016-48f2-4491-a0e3-3f751a… ┆ Answer the following multiple … ┆ H     ┆ 7             │\n",
       "│ 91fd60a8-ac44-428f-876b-eeeba0… ┆ Answer the following multiple … ┆ F     ┆ 5             │\n",
       "│ …                               ┆ …                               ┆ …     ┆ …             │\n",
       "│ 9c31039f-a3e5-4100-8dce-a4e2a1… ┆ Answer the following multiple … ┆ A     ┆ 0             │\n",
       "│ ec5b25bf-64fc-4e76-909a-b43920… ┆ Answer the following multiple … ┆ C     ┆ 2             │\n",
       "│ 95663208-b120-4973-9db2-dfad71… ┆ Answer the following multiple … ┆ B     ┆ 1             │\n",
       "│ b797003d-cf86-4c25-b556-1aca07… ┆ Answer the following multiple … ┆ J     ┆ 9             │\n",
       "│ cb0a244e-95e5-4162-8f54-edd5a3… ┆ Answer the following multiple … ┆ I     ┆ 8             │\n",
       "└─────────────────────────────────┴─────────────────────────────────┴───────┴───────────────┘"
      ]
     },
     "execution_count": 62,
     "metadata": {},
     "output_type": "execute_result"
    }
   ],
   "source": [
    "df"
   ]
  },
  {
   "cell_type": "code",
   "execution_count": 64,
   "id": "4cc76496-7e2d-4199-81df-06d1608eafd1",
   "metadata": {},
   "outputs": [],
   "source": [
    "import torch as t\n",
    "ff = t.tensor([[0.1032, 0.0100, 0.0417, 0.0252, 0.0906, 0.0126, 0.4867, 0.0140, 0.0821,\n",
    "         0.1340],\n",
    "        [0.1581, 0.0237, 0.0542, 0.1459, 0.0387, 0.0236, 0.4146, 0.0337, 0.0619,\n",
    "         0.0456]])"
   ]
  },
  {
   "cell_type": "code",
   "execution_count": 68,
   "id": "1cf74443-6bac-44a7-be60-2bee75c9e52c",
   "metadata": {},
   "outputs": [
    {
     "data": {
      "text/plain": [
       "tensor([0.0252, 0.0542])"
      ]
     },
     "execution_count": 68,
     "metadata": {},
     "output_type": "execute_result"
    }
   ],
   "source": [
    "ff[range(2), [3, 2]]"
   ]
  },
  {
   "cell_type": "code",
   "execution_count": null,
   "id": "d8d4a46f-187b-4d9d-b909-5005e0b6cc27",
   "metadata": {},
   "outputs": [],
   "source": []
  }
 ],
 "metadata": {
  "kernelspec": {
   "display_name": "Python 3 (ipykernel)",
   "language": "python",
   "name": "python3"
  },
  "language_info": {
   "codemirror_mode": {
    "name": "ipython",
    "version": 3
   },
   "file_extension": ".py",
   "mimetype": "text/x-python",
   "name": "python",
   "nbconvert_exporter": "python",
   "pygments_lexer": "ipython3",
   "version": "3.12.3"
  }
 },
 "nbformat": 4,
 "nbformat_minor": 5
}
