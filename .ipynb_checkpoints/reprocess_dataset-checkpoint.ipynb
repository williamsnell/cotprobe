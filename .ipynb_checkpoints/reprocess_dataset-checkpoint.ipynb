{
 "cells": [
  {
   "cell_type": "code",
   "execution_count": 22,
   "id": "1c142d1d-5b3f-44e1-ab73-a5e59784b600",
   "metadata": {},
   "outputs": [],
   "source": [
    "from pathlib import Path"
   ]
  },
  {
   "cell_type": "code",
   "execution_count": 23,
   "id": "9d83db63-19f3-45d3-b07b-8eed085603a5",
   "metadata": {},
   "outputs": [],
   "source": [
    "# The <think> formatting seems to have been messed up,\n",
    "# since this is where the API's prompt and the user response intersect.\n",
    "files = Path(\"./responses\").glob(\"*.txt\")\n",
    "\n",
    "for file in files:\n",
    "    file.write_text(file.read_text().replace(\"<think>\\n<think>\", \"\\n<think>\"))"
   ]
  },
  {
   "cell_type": "code",
   "execution_count": null,
   "id": "86fefa1d-cbad-4681-9b9d-abe7154b1795",
   "metadata": {},
   "outputs": [],
   "source": []
  }
 ],
 "metadata": {
  "kernelspec": {
   "display_name": "Python 3 (ipykernel)",
   "language": "python",
   "name": "python3"
  },
  "language_info": {
   "codemirror_mode": {
    "name": "ipython",
    "version": 3
   },
   "file_extension": ".py",
   "mimetype": "text/x-python",
   "name": "python",
   "nbconvert_exporter": "python",
   "pygments_lexer": "ipython3",
   "version": "3.12.3"
  }
 },
 "nbformat": 4,
 "nbformat_minor": 5
}
